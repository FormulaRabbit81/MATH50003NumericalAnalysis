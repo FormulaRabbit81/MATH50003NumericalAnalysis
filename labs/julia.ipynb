{
 "cells": [
  {
   "cell_type": "code",
   "execution_count": 1,
   "metadata": {},
   "outputs": [],
   "source": [
    "using ColorBitstring, SetRounding\n",
    "using LinearAlgebra, Plots, Test"
   ]
  },
  {
   "cell_type": "markdown",
   "metadata": {},
   "source": [
    "## Lab 1"
   ]
  },
  {
   "cell_type": "markdown",
   "metadata": {},
   "source": [
    "Number of bytes used to store number"
   ]
  },
  {
   "cell_type": "code",
   "execution_count": 2,
   "metadata": {},
   "outputs": [
    {
     "data": {
      "text/plain": [
       "4"
      ]
     },
     "execution_count": 2,
     "metadata": {},
     "output_type": "execute_result"
    }
   ],
   "source": [
    "sizeof(UInt32)"
   ]
  },
  {
   "cell_type": "markdown",
   "metadata": {},
   "source": [
    "Type of a number"
   ]
  },
  {
   "cell_type": "code",
   "execution_count": null,
   "metadata": {},
   "outputs": [],
   "source": [
    "typeof(5)"
   ]
  },
  {
   "cell_type": "markdown",
   "metadata": {},
   "source": [
    "Unsigned and Hex notation"
   ]
  },
  {
   "cell_type": "code",
   "execution_count": 10,
   "metadata": {},
   "outputs": [
    {
     "data": {
      "text/plain": [
       "0x000abcde"
      ]
     },
     "execution_count": 10,
     "metadata": {},
     "output_type": "execute_result"
    }
   ],
   "source": [
    "#Unsigned 8-bit integer - can't parse negatives or above 2^8 - 1\n",
    "UInt8(5)\n",
    "\n",
    "#Also denoted by 0b...\n",
    "0b101\n",
    "\n",
    "#Hexadecimal (interpreted as UInt38)\n",
    "0xabcde"
   ]
  },
  {
   "cell_type": "markdown",
   "metadata": {},
   "source": [
    "Create a (number of type) from a specified sequence of bits"
   ]
  },
  {
   "cell_type": "code",
   "execution_count": 26,
   "metadata": {},
   "outputs": [
    {
     "data": {
      "text/plain": [
       "-1"
      ]
     },
     "execution_count": 26,
     "metadata": {},
     "output_type": "execute_result"
    }
   ],
   "source": [
    "reinterpret(Int8, 0b11111111)"
   ]
  },
  {
   "cell_type": "markdown",
   "metadata": {},
   "source": [
    "Print the Sign, Exponent and Mantissa (nicely)"
   ]
  },
  {
   "cell_type": "code",
   "execution_count": 27,
   "metadata": {},
   "outputs": [
    {
     "name": "stdout",
     "output_type": "stream",
     "text": [
      "\u001b[31m0\u001b[0m\u001b[32m01100\u001b[0m\u001b[34m1001100110\u001b[0m"
     ]
    }
   ],
   "source": [
    "printbits(Float16(0.2))"
   ]
  },
  {
   "cell_type": "markdown",
   "metadata": {},
   "source": [
    "Converts number to a string of bits"
   ]
  },
  {
   "cell_type": "code",
   "execution_count": 28,
   "metadata": {},
   "outputs": [
    {
     "data": {
      "text/plain": [
       "\"1111111111111111111111111111111111111111111111111111111111110101\""
      ]
     },
     "execution_count": 28,
     "metadata": {},
     "output_type": "execute_result"
    }
   ],
   "source": [
    "bitstring(-11)"
   ]
  },
  {
   "cell_type": "markdown",
   "metadata": {},
   "source": [
    "Converts a string of bits to number. \\\n",
    "Note that negatives are represented using a - sign"
   ]
  },
  {
   "cell_type": "code",
   "execution_count": 29,
   "metadata": {},
   "outputs": [
    {
     "data": {
      "text/plain": [
       "-11"
      ]
     },
     "execution_count": 29,
     "metadata": {},
     "output_type": "execute_result"
    }
   ],
   "source": [
    "parse(Int8, \"-00001011\"; base=2)"
   ]
  },
  {
   "cell_type": "markdown",
   "metadata": {},
   "source": [
    "reinterpret(parse(...)) takes in a *signed* bitstring and returns the number"
   ]
  },
  {
   "cell_type": "code",
   "execution_count": 32,
   "metadata": {},
   "outputs": [
    {
     "data": {
      "text/plain": [
       "-95805706"
      ]
     },
     "execution_count": 32,
     "metadata": {},
     "output_type": "execute_result"
    }
   ],
   "source": [
    "function tenthbitto1(x::Int32)\n",
    "    if x >= 0\n",
    "        x = bitstring(x)[1:9] * \"1\" * bitstring(x)[11:end]\n",
    "        return parse(Int32, x; base=2)\n",
    "    else\n",
    "        x = bitstring(x)[1:9] * \"1\" * bitstring(x)[11:end]\n",
    "        return reinterpret(Int32, parse(UInt32, x; base=2))\n",
    "    end\n",
    "end\n",
    "\n",
    "tenthbitto1(-Int32(100000010))"
   ]
  },
  {
   "cell_type": "markdown",
   "metadata": {},
   "source": [
    "Types"
   ]
  },
  {
   "cell_type": "code",
   "execution_count": 35,
   "metadata": {},
   "outputs": [
    {
     "data": {
      "text/plain": [
       "== (generic function with 175 methods)"
      ]
     },
     "execution_count": 35,
     "metadata": {},
     "output_type": "execute_result"
    }
   ],
   "source": [
    "#Initialise\n",
    "struct Rat\n",
    "    p::Int\n",
    "    q::Int\n",
    "end\n",
    "\n",
    "#Overloading\n",
    "import Base: +, -, *, /, ==\n",
    "\n",
    "#Operation\n",
    "function ==(x::Rat, y::Rat)\n",
    "    return x.p/x.q == y.p/y.q\n",
    "end"
   ]
  },
  {
   "cell_type": "markdown",
   "metadata": {},
   "source": [
    "We can template (i.e. pass T) to allow fields to take different type"
   ]
  },
  {
   "cell_type": "code",
   "execution_count": 36,
   "metadata": {},
   "outputs": [],
   "source": [
    "struct Foo{T}\n",
    "    x::T\n",
    "end"
   ]
  },
  {
   "cell_type": "markdown",
   "metadata": {},
   "source": [
    "## Lab 2"
   ]
  },
  {
   "cell_type": "markdown",
   "metadata": {},
   "source": [
    "Return the identity of the type; may be overloaded"
   ]
  },
  {
   "cell_type": "code",
   "execution_count": 40,
   "metadata": {},
   "outputs": [
    {
     "data": {
      "text/plain": [
       "(1, 1.0, \"\")"
      ]
     },
     "execution_count": 40,
     "metadata": {},
     "output_type": "execute_result"
    }
   ],
   "source": [
    "one(Int), one(Int64), one(String)\n",
    "\n",
    "#Can also call instance of type\n",
    "one(2), one(2.0), one(\"any string\")"
   ]
  },
  {
   "cell_type": "markdown",
   "metadata": {},
   "source": [
    "We may also overload in()"
   ]
  },
  {
   "cell_type": "code",
   "execution_count": 41,
   "metadata": {},
   "outputs": [
    {
     "data": {
      "text/plain": [
       "in (generic function with 37 methods)"
      ]
     },
     "execution_count": 41,
     "metadata": {},
     "output_type": "execute_result"
    }
   ],
   "source": [
    "struct Interval{T}\n",
    "    a::T\n",
    "    b::T\n",
    "end\n",
    "\n",
    "import Base: one, in\n",
    "\n",
    "one(A::Interval) = Interval(one(A.a), one(A.b))\n",
    "in(x, A::Interval) = A.a ≤ x ≤ A.b"
   ]
  },
  {
   "cell_type": "markdown",
   "metadata": {},
   "source": [
    "Change the rounding mode of floating point operations corresponding to the type"
   ]
  },
  {
   "cell_type": "code",
   "execution_count": 44,
   "metadata": {},
   "outputs": [
    {
     "data": {
      "text/plain": [
       "1.8333333333333333"
      ]
     },
     "execution_count": 44,
     "metadata": {},
     "output_type": "execute_result"
    }
   ],
   "source": [
    "setrounding(Float64, RoundDown) do\n",
    "1.5 + 1/3\n",
    "end"
   ]
  },
  {
   "cell_type": "markdown",
   "metadata": {},
   "source": [
    "If syntax:\n",
    "```julia\n",
    "if COND1\n",
    "  # Do this if COND1 == true\n",
    "elseif COND2\n",
    "  # Do this if COND1 == false and COND2 == true\n",
    "elseif COND3\n",
    "  # Do this if COND1 == COND2 == false and COND3 == true\n",
    "else\n",
    "  # Do this if COND1 == COND2 == COND3 == false\n",
    "end\n",
    "```"
   ]
  },
  {
   "cell_type": "markdown",
   "metadata": {},
   "source": [
    "&& denotes AND, and || denotes OR\n",
    "(shift fn L for |)"
   ]
  },
  {
   "cell_type": "code",
   "execution_count": 45,
   "metadata": {},
   "outputs": [
    {
     "data": {
      "text/plain": [
       "true"
      ]
     },
     "execution_count": 45,
     "metadata": {},
     "output_type": "execute_result"
    }
   ],
   "source": [
    "true && true || false"
   ]
  },
  {
   "cell_type": "markdown",
   "metadata": {},
   "source": [
    "`big` will create a `BigFloat` version of a `Float64` and the type\n",
    "`BigFloat` allows changing the number of signficand bits.\n",
    "\n",
    "`setprecision` uses the number of significand bits specified for any `BigFloat` within "
   ]
  },
  {
   "cell_type": "code",
   "execution_count": 52,
   "metadata": {},
   "outputs": [
    {
     "data": {
      "text/plain": [
       "2.7182818284590452353602874713512"
      ]
     },
     "execution_count": 52,
     "metadata": {},
     "output_type": "execute_result"
    }
   ],
   "source": [
    "#_ is like a comma, not parsed\n",
    "setprecision(1_00) do\n",
    "    exp(big(1.0))\n",
    "end"
   ]
  },
  {
   "cell_type": "markdown",
   "metadata": {},
   "source": [
    "## Lab 3"
   ]
  },
  {
   "cell_type": "markdown",
   "metadata": {},
   "source": [
    "COND ? X : Y is equivalent to writing: \n",
    "\n",
    "if COND \\\n",
    "X \\\n",
    "else \\\n",
    "Y \\\n",
    "end"
   ]
  },
  {
   "cell_type": "code",
   "execution_count": 56,
   "metadata": {},
   "outputs": [
    {
     "data": {
      "text/plain": [
       "(NaN, 1)"
      ]
     },
     "execution_count": 56,
     "metadata": {},
     "output_type": "execute_result"
    }
   ],
   "source": [
    "#if x is 0, set nanabs = NaN, else nanabs = abs(x)\n",
    "nanabs = x -> iszero(x) ? NaN : abs(x)\n",
    "nanabs(0), nanabs(1)"
   ]
  },
  {
   "cell_type": "markdown",
   "metadata": {},
   "source": [
    "Plot syntax:"
   ]
  },
  {
   "cell_type": "code",
   "execution_count": 63,
   "metadata": {},
   "outputs": [
    {
     "data": {
      "image/svg+xml": "<?xml version=\"1.0\" encoding=\"utf-8\"?>\n<svg xmlns=\"http://www.w3.org/2000/svg\" xmlns:xlink=\"http://www.w3.org/1999/xlink\" width=\"600\" height=\"400\" viewBox=\"0 0 2400 1600\">\n<defs>\n  <clipPath id=\"clip260\">\n    <rect x=\"0\" y=\"0\" width=\"2400\" height=\"1600\"/>\n  </clipPath>\n</defs>\n<path clip-path=\"url(#clip260)\" d=\"\nM0 1600 L2400 1600 L2400 0 L0 0  Z\n  \" fill=\"#ffffff\" fill-rule=\"evenodd\" fill-opacity=\"1\"/>\n<defs>\n  <clipPath id=\"clip261\">\n    <rect x=\"480\" y=\"0\" width=\"1681\" height=\"1600\"/>\n  </clipPath>\n</defs>\n<path clip-path=\"url(#clip260)\" d=\"\nM158.369 1486.45 L2352.76 1486.45 L2352.76 47.2441 L158.369 47.2441  Z\n  \" fill=\"#ffffff\" fill-rule=\"evenodd\" fill-opacity=\"1\"/>\n<defs>\n  <clipPath id=\"clip262\">\n    <rect x=\"158\" y=\"47\" width=\"2195\" height=\"1440\"/>\n  </clipPath>\n</defs>\n<polyline clip-path=\"url(#clip262)\" style=\"stroke:#000000; stroke-linecap:round; stroke-linejoin:round; stroke-width:2; stroke-opacity:0.1; fill:none\" points=\"\n  220.474,1486.45 220.474,47.2441 \n  \"/>\n<polyline clip-path=\"url(#clip262)\" style=\"stroke:#000000; stroke-linecap:round; stroke-linejoin:round; stroke-width:2; stroke-opacity:0.1; fill:none\" points=\"\n  888.273,1486.45 888.273,47.2441 \n  \"/>\n<polyline clip-path=\"url(#clip262)\" style=\"stroke:#000000; stroke-linecap:round; stroke-linejoin:round; stroke-width:2; stroke-opacity:0.1; fill:none\" points=\"\n  1556.07,1486.45 1556.07,47.2441 \n  \"/>\n<polyline clip-path=\"url(#clip262)\" style=\"stroke:#000000; stroke-linecap:round; stroke-linejoin:round; stroke-width:2; stroke-opacity:0.1; fill:none\" points=\"\n  2223.87,1486.45 2223.87,47.2441 \n  \"/>\n<polyline clip-path=\"url(#clip260)\" style=\"stroke:#000000; stroke-linecap:round; stroke-linejoin:round; stroke-width:4; stroke-opacity:1; fill:none\" points=\"\n  158.369,1486.45 2352.76,1486.45 \n  \"/>\n<polyline clip-path=\"url(#clip260)\" style=\"stroke:#000000; stroke-linecap:round; stroke-linejoin:round; stroke-width:4; stroke-opacity:1; fill:none\" points=\"\n  220.474,1486.45 220.474,1467.55 \n  \"/>\n<polyline clip-path=\"url(#clip260)\" style=\"stroke:#000000; stroke-linecap:round; stroke-linejoin:round; stroke-width:4; stroke-opacity:1; fill:none\" points=\"\n  888.273,1486.45 888.273,1467.55 \n  \"/>\n<polyline clip-path=\"url(#clip260)\" style=\"stroke:#000000; stroke-linecap:round; stroke-linejoin:round; stroke-width:4; stroke-opacity:1; fill:none\" points=\"\n  1556.07,1486.45 1556.07,1467.55 \n  \"/>\n<polyline clip-path=\"url(#clip260)\" style=\"stroke:#000000; stroke-linecap:round; stroke-linejoin:round; stroke-width:4; stroke-opacity:1; fill:none\" points=\"\n  2223.87,1486.45 2223.87,1467.55 \n  \"/>\n<path clip-path=\"url(#clip260)\" d=\"M220.474 1517.37 Q216.863 1517.37 215.035 1520.93 Q213.229 1524.47 213.229 1531.6 Q213.229 1538.71 215.035 1542.27 Q216.863 1545.82 220.474 1545.82 Q224.109 1545.82 225.914 1542.27 Q227.743 1538.71 227.743 1531.6 Q227.743 1524.47 225.914 1520.93 Q224.109 1517.37 220.474 1517.37 M220.474 1513.66 Q226.285 1513.66 229.34 1518.27 Q232.419 1522.85 232.419 1531.6 Q232.419 1540.33 229.34 1544.94 Q226.285 1549.52 220.474 1549.52 Q214.664 1549.52 211.586 1544.94 Q208.53 1540.33 208.53 1531.6 Q208.53 1522.85 211.586 1518.27 Q214.664 1513.66 220.474 1513.66 Z\" fill=\"#000000\" fill-rule=\"evenodd\" fill-opacity=\"1\" /><path clip-path=\"url(#clip260)\" d=\"M862.961 1544.91 L870.6 1544.91 L870.6 1518.55 L862.289 1520.21 L862.289 1515.95 L870.553 1514.29 L875.229 1514.29 L875.229 1544.91 L882.868 1544.91 L882.868 1548.85 L862.961 1548.85 L862.961 1544.91 Z\" fill=\"#000000\" fill-rule=\"evenodd\" fill-opacity=\"1\" /><path clip-path=\"url(#clip260)\" d=\"M902.312 1517.37 Q898.701 1517.37 896.873 1520.93 Q895.067 1524.47 895.067 1531.6 Q895.067 1538.71 896.873 1542.27 Q898.701 1545.82 902.312 1545.82 Q905.947 1545.82 907.752 1542.27 Q909.581 1538.71 909.581 1531.6 Q909.581 1524.47 907.752 1520.93 Q905.947 1517.37 902.312 1517.37 M902.312 1513.66 Q908.123 1513.66 911.178 1518.27 Q914.257 1522.85 914.257 1531.6 Q914.257 1540.33 911.178 1544.94 Q908.123 1549.52 902.312 1549.52 Q896.502 1549.52 893.424 1544.94 Q890.368 1540.33 890.368 1531.6 Q890.368 1522.85 893.424 1518.27 Q896.502 1513.66 902.312 1513.66 Z\" fill=\"#000000\" fill-rule=\"evenodd\" fill-opacity=\"1\" /><path clip-path=\"url(#clip260)\" d=\"M1534.85 1544.91 L1551.16 1544.91 L1551.16 1548.85 L1529.22 1548.85 L1529.22 1544.91 Q1531.88 1542.16 1536.47 1537.53 Q1541.07 1532.88 1542.25 1531.53 Q1544.5 1529.01 1545.38 1527.27 Q1546.28 1525.51 1546.28 1523.82 Q1546.28 1521.07 1544.34 1519.33 Q1542.41 1517.6 1539.31 1517.6 Q1537.11 1517.6 1534.66 1518.36 Q1532.23 1519.13 1529.45 1520.68 L1529.45 1515.95 Q1532.28 1514.82 1534.73 1514.24 Q1537.18 1513.66 1539.22 1513.66 Q1544.59 1513.66 1547.78 1516.35 Q1550.98 1519.03 1550.98 1523.52 Q1550.98 1525.65 1550.17 1527.57 Q1549.38 1529.47 1547.28 1532.07 Q1546.7 1532.74 1543.6 1535.95 Q1540.49 1539.15 1534.85 1544.91 Z\" fill=\"#000000\" fill-rule=\"evenodd\" fill-opacity=\"1\" /><path clip-path=\"url(#clip260)\" d=\"M1570.98 1517.37 Q1567.37 1517.37 1565.54 1520.93 Q1563.73 1524.47 1563.73 1531.6 Q1563.73 1538.71 1565.54 1542.27 Q1567.37 1545.82 1570.98 1545.82 Q1574.61 1545.82 1576.42 1542.27 Q1578.25 1538.71 1578.25 1531.6 Q1578.25 1524.47 1576.42 1520.93 Q1574.61 1517.37 1570.98 1517.37 M1570.98 1513.66 Q1576.79 1513.66 1579.84 1518.27 Q1582.92 1522.85 1582.92 1531.6 Q1582.92 1540.33 1579.84 1544.94 Q1576.79 1549.52 1570.98 1549.52 Q1565.17 1549.52 1562.09 1544.94 Q1559.03 1540.33 1559.03 1531.6 Q1559.03 1522.85 1562.09 1518.27 Q1565.17 1513.66 1570.98 1513.66 Z\" fill=\"#000000\" fill-rule=\"evenodd\" fill-opacity=\"1\" /><path clip-path=\"url(#clip260)\" d=\"M2212.71 1530.21 Q2216.07 1530.93 2217.94 1533.2 Q2219.84 1535.47 2219.84 1538.8 Q2219.84 1543.92 2216.32 1546.72 Q2212.81 1549.52 2206.32 1549.52 Q2204.15 1549.52 2201.83 1549.08 Q2199.54 1548.66 2197.09 1547.81 L2197.09 1543.29 Q2199.03 1544.43 2201.35 1545.01 Q2203.66 1545.58 2206.19 1545.58 Q2210.58 1545.58 2212.88 1543.85 Q2215.19 1542.11 2215.19 1538.8 Q2215.19 1535.75 2213.04 1534.03 Q2210.91 1532.3 2207.09 1532.3 L2203.06 1532.3 L2203.06 1528.45 L2207.27 1528.45 Q2210.72 1528.45 2212.55 1527.09 Q2214.38 1525.7 2214.38 1523.11 Q2214.38 1520.45 2212.48 1519.03 Q2210.61 1517.6 2207.09 1517.6 Q2205.17 1517.6 2202.97 1518.01 Q2200.77 1518.43 2198.13 1519.31 L2198.13 1515.14 Q2200.79 1514.4 2203.11 1514.03 Q2205.44 1513.66 2207.51 1513.66 Q2212.83 1513.66 2215.93 1516.09 Q2219.03 1518.5 2219.03 1522.62 Q2219.03 1525.49 2217.39 1527.48 Q2215.75 1529.45 2212.71 1530.21 Z\" fill=\"#000000\" fill-rule=\"evenodd\" fill-opacity=\"1\" /><path clip-path=\"url(#clip260)\" d=\"M2238.71 1517.37 Q2235.1 1517.37 2233.27 1520.93 Q2231.46 1524.47 2231.46 1531.6 Q2231.46 1538.71 2233.27 1542.27 Q2235.1 1545.82 2238.71 1545.82 Q2242.34 1545.82 2244.15 1542.27 Q2245.98 1538.71 2245.98 1531.6 Q2245.98 1524.47 2244.15 1520.93 Q2242.34 1517.37 2238.71 1517.37 M2238.71 1513.66 Q2244.52 1513.66 2247.57 1518.27 Q2250.65 1522.85 2250.65 1531.6 Q2250.65 1540.33 2247.57 1544.94 Q2244.52 1549.52 2238.71 1549.52 Q2232.9 1549.52 2229.82 1544.94 Q2226.76 1540.33 2226.76 1531.6 Q2226.76 1522.85 2229.82 1518.27 Q2232.9 1513.66 2238.71 1513.66 Z\" fill=\"#000000\" fill-rule=\"evenodd\" fill-opacity=\"1\" /><polyline clip-path=\"url(#clip262)\" style=\"stroke:#000000; stroke-linecap:round; stroke-linejoin:round; stroke-width:2; stroke-opacity:0.1; fill:none\" points=\"\n  158.369,1445.72 2352.76,1445.72 \n  \"/>\n<polyline clip-path=\"url(#clip262)\" style=\"stroke:#000000; stroke-linecap:round; stroke-linejoin:round; stroke-width:2; stroke-opacity:0.1; fill:none\" points=\"\n  158.369,547.762 2352.76,547.762 \n  \"/>\n<polyline clip-path=\"url(#clip260)\" style=\"stroke:#000000; stroke-linecap:round; stroke-linejoin:round; stroke-width:4; stroke-opacity:1; fill:none\" points=\"\n  158.369,1486.45 158.369,47.2441 \n  \"/>\n<polyline clip-path=\"url(#clip260)\" style=\"stroke:#000000; stroke-linecap:round; stroke-linejoin:round; stroke-width:4; stroke-opacity:1; fill:none\" points=\"\n  158.369,1445.72 177.267,1445.72 \n  \"/>\n<polyline clip-path=\"url(#clip260)\" style=\"stroke:#000000; stroke-linecap:round; stroke-linejoin:round; stroke-width:4; stroke-opacity:1; fill:none\" points=\"\n  158.369,547.762 177.267,547.762 \n  \"/>\n<path clip-path=\"url(#clip260)\" d=\"M51.6634 1465.51 L59.3023 1465.51 L59.3023 1439.14 L50.9921 1440.81 L50.9921 1436.55 L59.256 1434.88 L63.9319 1434.88 L63.9319 1465.51 L71.5707 1465.51 L71.5707 1469.44 L51.6634 1469.44 L51.6634 1465.51 Z\" fill=\"#000000\" fill-rule=\"evenodd\" fill-opacity=\"1\" /><path clip-path=\"url(#clip260)\" d=\"M91.0151 1437.96 Q87.404 1437.96 85.5753 1441.53 Q83.7697 1445.07 83.7697 1452.2 Q83.7697 1459.3 85.5753 1462.87 Q87.404 1466.41 91.0151 1466.41 Q94.6493 1466.41 96.4548 1462.87 Q98.2835 1459.3 98.2835 1452.2 Q98.2835 1445.07 96.4548 1441.53 Q94.6493 1437.96 91.0151 1437.96 M91.0151 1434.26 Q96.8252 1434.26 99.8808 1438.86 Q102.959 1443.45 102.959 1452.2 Q102.959 1460.92 99.8808 1465.53 Q96.8252 1470.11 91.0151 1470.11 Q85.2049 1470.11 82.1262 1465.53 Q79.0707 1460.92 79.0707 1452.2 Q79.0707 1443.45 82.1262 1438.86 Q85.2049 1434.26 91.0151 1434.26 Z\" fill=\"#000000\" fill-rule=\"evenodd\" fill-opacity=\"1\" /><path clip-path=\"url(#clip260)\" d=\"M112.664 1416.45 Q109.73 1416.45 108.244 1419.35 Q106.777 1422.23 106.777 1428.02 Q106.777 1433.8 108.244 1436.69 Q109.73 1439.57 112.664 1439.57 Q115.617 1439.57 117.084 1436.69 Q118.57 1433.8 118.57 1428.02 Q118.57 1422.23 117.084 1419.35 Q115.617 1416.45 112.664 1416.45 M112.664 1413.45 Q117.385 1413.45 119.868 1417.19 Q122.369 1420.91 122.369 1428.02 Q122.369 1435.11 119.868 1438.85 Q117.385 1442.58 112.664 1442.58 Q107.943 1442.58 105.442 1438.85 Q102.959 1435.11 102.959 1428.02 Q102.959 1420.91 105.442 1417.19 Q107.943 1413.45 112.664 1413.45 Z\" fill=\"#000000\" fill-rule=\"evenodd\" fill-opacity=\"1\" /><path clip-path=\"url(#clip260)\" d=\"M53.2433 567.555 L60.8821 567.555 L60.8821 541.189 L52.572 542.856 L52.572 538.596 L60.8358 536.93 L65.5117 536.93 L65.5117 567.555 L73.1506 567.555 L73.1506 571.49 L53.2433 571.49 L53.2433 567.555 Z\" fill=\"#000000\" fill-rule=\"evenodd\" fill-opacity=\"1\" /><path clip-path=\"url(#clip260)\" d=\"M92.5949 540.008 Q88.9838 540.008 87.1551 543.573 Q85.3496 547.115 85.3496 554.244 Q85.3496 561.351 87.1551 564.916 Q88.9838 568.457 92.5949 568.457 Q96.2292 568.457 98.0347 564.916 Q99.8634 561.351 99.8634 554.244 Q99.8634 547.115 98.0347 543.573 Q96.2292 540.008 92.5949 540.008 M92.5949 536.305 Q98.4051 536.305 101.461 540.911 Q104.539 545.495 104.539 554.244 Q104.539 562.971 101.461 567.578 Q98.4051 572.161 92.5949 572.161 Q86.7848 572.161 83.7061 567.578 Q80.6505 562.971 80.6505 554.244 Q80.6505 545.495 83.7061 540.911 Q86.7848 536.305 92.5949 536.305 Z\" fill=\"#000000\" fill-rule=\"evenodd\" fill-opacity=\"1\" /><path clip-path=\"url(#clip260)\" d=\"M109.11 540.882 L122.369 540.882 L122.369 544.079 L104.539 544.079 L104.539 540.882 Q106.702 538.644 110.426 534.882 Q114.169 531.102 115.128 530.011 Q116.952 527.961 117.667 526.551 Q118.401 525.121 118.401 523.748 Q118.401 521.51 116.821 520.099 Q115.26 518.689 112.739 518.689 Q110.953 518.689 108.959 519.31 Q106.984 519.93 104.727 521.19 L104.727 517.354 Q107.022 516.432 109.016 515.962 Q111.009 515.492 112.664 515.492 Q117.028 515.492 119.623 517.673 Q122.219 519.855 122.219 523.504 Q122.219 525.234 121.56 526.795 Q120.921 528.337 119.209 530.444 Q118.739 530.989 116.219 533.603 Q113.699 536.199 109.11 540.882 Z\" fill=\"#000000\" fill-rule=\"evenodd\" fill-opacity=\"1\" /><polyline clip-path=\"url(#clip262)\" style=\"stroke:#009af9; stroke-linecap:round; stroke-linejoin:round; stroke-width:4; stroke-opacity:1; fill:none\" points=\"\n  220.474,1445.72 287.254,1231.5 354.034,1066.29 420.814,945.581 487.594,852.07 554.374,776.129 621.154,712.326 687.934,657.369 754.713,609.127 821.493,566.152 \n  888.273,527.413 955.053,492.156 1021.83,459.808 1088.61,429.928 1155.39,402.167 1222.17,376.245 1288.95,351.935 1355.73,329.048 1422.51,307.428 1489.29,286.94 \n  1556.07,267.474 1622.85,248.932 1689.63,231.23 1756.41,214.296 1823.19,198.066 1889.97,182.483 1956.75,167.499 2023.53,153.069 2090.31,139.153 2157.09,125.716 \n  2223.87,112.726 \n  \"/>\n<polyline clip-path=\"url(#clip262)\" style=\"stroke:#e26f46; stroke-linecap:round; stroke-linejoin:round; stroke-width:4; stroke-opacity:1; fill:none\" points=\"\n  287.254,1066.29 354.034,945.581 420.814,852.07 487.594,776.129 554.374,712.326 621.154,657.369 687.934,609.127 754.713,566.152 821.493,527.413 888.273,492.156 \n  955.053,459.808 1021.83,429.928 1088.61,402.167 1155.39,376.245 1222.17,351.935 1288.95,329.048 1355.73,307.428 1422.51,286.94 1489.29,267.474 1556.07,248.932 \n  1622.85,231.23 1689.63,214.296 1756.41,198.066 1823.19,182.483 1889.97,167.499 1956.75,153.069 2023.53,139.153 2090.31,125.716 2157.09,112.726 2223.87,100.155 \n  2290.65,87.9763 \n  \"/>\n<path clip-path=\"url(#clip260)\" d=\"\nM231.515 250.738 L544.981 250.738 L544.981 95.2176 L231.515 95.2176  Z\n  \" fill=\"#ffffff\" fill-rule=\"evenodd\" fill-opacity=\"1\"/>\n<polyline clip-path=\"url(#clip260)\" style=\"stroke:#000000; stroke-linecap:round; stroke-linejoin:round; stroke-width:4; stroke-opacity:1; fill:none\" points=\"\n  231.515,250.738 544.981,250.738 544.981,95.2176 231.515,95.2176 231.515,250.738 \n  \"/>\n<polyline clip-path=\"url(#clip260)\" style=\"stroke:#009af9; stroke-linecap:round; stroke-linejoin:round; stroke-width:4; stroke-opacity:1; fill:none\" points=\"\n  255.897,147.058 402.19,147.058 \n  \"/>\n<path clip-path=\"url(#clip260)\" d=\"M445.345 151.398 Q445.345 146.699 443.401 144.037 Q441.479 141.352 438.1 141.352 Q434.72 141.352 432.776 144.037 Q430.854 146.699 430.854 151.398 Q430.854 156.097 432.776 158.782 Q434.72 161.444 438.1 161.444 Q441.479 161.444 443.401 158.782 Q445.345 156.097 445.345 151.398 M430.854 142.347 Q432.197 140.032 434.234 138.921 Q436.294 137.787 439.141 137.787 Q443.863 137.787 446.803 141.537 Q449.766 145.287 449.766 151.398 Q449.766 157.509 446.803 161.259 Q443.863 165.009 439.141 165.009 Q436.294 165.009 434.234 163.898 Q432.197 162.763 430.854 160.449 L430.854 164.338 L426.572 164.338 L426.572 128.319 L430.854 128.319 L430.854 142.347 Z\" fill=\"#000000\" fill-rule=\"evenodd\" fill-opacity=\"1\" /><path clip-path=\"url(#clip260)\" d=\"M456.826 128.319 L461.086 128.319 L461.086 164.338 L456.826 164.338 L456.826 128.319 Z\" fill=\"#000000\" fill-rule=\"evenodd\" fill-opacity=\"1\" /><path clip-path=\"url(#clip260)\" d=\"M481.78 151.305 Q476.618 151.305 474.627 152.486 Q472.636 153.666 472.636 156.514 Q472.636 158.782 474.118 160.125 Q475.623 161.444 478.192 161.444 Q481.734 161.444 483.863 158.944 Q486.016 156.421 486.016 152.254 L486.016 151.305 L481.78 151.305 M490.275 149.546 L490.275 164.338 L486.016 164.338 L486.016 160.402 Q484.558 162.763 482.382 163.898 Q480.206 165.009 477.058 165.009 Q473.076 165.009 470.715 162.787 Q468.377 160.541 468.377 156.791 Q468.377 152.416 471.294 150.194 Q474.234 147.972 480.044 147.972 L486.016 147.972 L486.016 147.555 Q486.016 144.615 484.072 143.018 Q482.15 141.398 478.655 141.398 Q476.433 141.398 474.326 141.93 Q472.22 142.463 470.275 143.527 L470.275 139.592 Q472.613 138.69 474.812 138.25 Q477.011 137.787 479.095 137.787 Q484.72 137.787 487.497 140.703 Q490.275 143.62 490.275 149.546 Z\" fill=\"#000000\" fill-rule=\"evenodd\" fill-opacity=\"1\" /><path clip-path=\"url(#clip260)\" d=\"M520.599 148.689 L520.599 164.338 L516.34 164.338 L516.34 148.828 Q516.34 145.148 514.905 143.319 Q513.47 141.49 510.599 141.49 Q507.15 141.49 505.159 143.69 Q503.169 145.889 503.169 149.685 L503.169 164.338 L498.886 164.338 L498.886 128.319 L503.169 128.319 L503.169 142.44 Q504.696 140.102 506.757 138.944 Q508.84 137.787 511.548 137.787 Q516.016 137.787 518.308 140.565 Q520.599 143.319 520.599 148.689 Z\" fill=\"#000000\" fill-rule=\"evenodd\" fill-opacity=\"1\" /><polyline clip-path=\"url(#clip260)\" style=\"stroke:#e26f46; stroke-linecap:round; stroke-linejoin:round; stroke-width:4; stroke-opacity:1; fill:none\" points=\"\n  255.897,198.898 402.19,198.898 \n  \"/>\n<path clip-path=\"url(#clip260)\" d=\"M432.197 212.242 L448.516 212.242 L448.516 216.178 L426.572 216.178 L426.572 212.242 Q429.234 209.488 433.817 204.858 Q438.424 200.205 439.604 198.863 Q441.85 196.34 442.729 194.604 Q443.632 192.844 443.632 191.155 Q443.632 188.4 441.688 186.664 Q439.766 184.928 436.664 184.928 Q434.465 184.928 432.012 185.692 Q429.581 186.455 426.803 188.006 L426.803 183.284 Q429.627 182.15 432.081 181.571 Q434.535 180.993 436.572 180.993 Q441.942 180.993 445.137 183.678 Q448.331 186.363 448.331 190.854 Q448.331 192.983 447.521 194.905 Q446.734 196.803 444.627 199.395 Q444.049 200.067 440.947 203.284 Q437.845 206.479 432.197 212.242 Z\" fill=\"#000000\" fill-rule=\"evenodd\" fill-opacity=\"1\" /></svg>\n"
     },
     "execution_count": 63,
     "metadata": {},
     "output_type": "execute_result"
    }
   ],
   "source": [
    "#Function notation\n",
    "f = x -> 1 + x + x^2 \n",
    "\n",
    "#Range notation; start:step:end\n",
    "h = (0:1:30)\n",
    "\n",
    "#f. for broadcasting to vector\n",
    "y = f.(0:1:30)\n",
    "\n",
    "#Plot syntax for multiple lines\n",
    "plot(h,y, yaxis=:log10, label=\"blah\")\n",
    "plot!(f.(h .+ 2), yaxis=:log10, label=\"2\")"
   ]
  },
  {
   "cell_type": "markdown",
   "metadata": {},
   "source": [
    "Forward difference, Central Difference, Second order Forward Difference"
   ]
  },
  {
   "cell_type": "code",
   "execution_count": 67,
   "metadata": {},
   "outputs": [
    {
     "name": "stdout",
     "output_type": "stream",
     "text": [
      "6.584772557020187\n",
      "6.584772542119026\n",
      "12.002673711904597\n"
     ]
    }
   ],
   "source": [
    "fd(f,h,x) = (f(x + h) - f(x)) / h\n",
    "cd(f,h,x) = (f(x + h) - f(x - h)) / (2 * h)\n",
    "sofd(f,h,x) = (f(x + h) - 2 * f(x) + f(x - h))/ (h^2)\n",
    "\n",
    "#Step size of root epsilon used for fd/cd, and cube root epsilon for sofd\n",
    "f1 = x -> exp(exp(x)*cos(x) + sin(x))\n",
    "println(fd(f1, sqrt(eps()), 0.1))\n",
    "println(cd(f1, sqrt(eps()), 0.1))\n",
    "println(sofd(f1, cbrt(eps()), 0.1))"
   ]
  },
  {
   "cell_type": "markdown",
   "metadata": {},
   "source": [
    "Raise an error"
   ]
  },
  {
   "cell_type": "code",
   "execution_count": 70,
   "metadata": {},
   "outputs": [
    {
     "ename": "LoadError",
     "evalue": "You suck",
     "output_type": "error",
     "traceback": [
      "You suck",
      "",
      "Stacktrace:",
      " [1] error(s::String)",
      "   @ Base .\\error.jl:35",
      " [2] top-level scope",
      "   @ In[70]:2"
     ]
    }
   ],
   "source": [
    "if 1 + 1 == 2\n",
    "    error(\"You suck\")\n",
    "end"
   ]
  },
  {
   "cell_type": "markdown",
   "metadata": {},
   "source": [
    "## Lab 4"
   ]
  },
  {
   "cell_type": "markdown",
   "metadata": {},
   "source": [
    "Matrix generation"
   ]
  },
  {
   "cell_type": "code",
   "execution_count": 71,
   "metadata": {},
   "outputs": [
    {
     "data": {
      "text/plain": [
       "3×4 Matrix{Int64}:\n",
       "  2   3   4   5\n",
       "  5   6   7   8\n",
       " 10  11  12  13"
      ]
     },
     "execution_count": 71,
     "metadata": {},
     "output_type": "execute_result"
    }
   ],
   "source": [
    "[k^2 + j for k=1:3, j=1:4]"
   ]
  },
  {
   "cell_type": "code",
   "execution_count": 112,
   "metadata": {},
   "outputs": [
    {
     "data": {
      "text/plain": [
       "5×6 Matrix{Int64}:\n",
       " 0  0  0  0  0  0\n",
       " 0  0  0  0  0  0\n",
       " 0  0  0  0  0  0\n",
       " 0  0  0  0  0  0\n",
       " 0  0  0  0  0  0"
      ]
     },
     "execution_count": 112,
     "metadata": {},
     "output_type": "execute_result"
    }
   ],
   "source": [
    "zeros(5,6) #0s\n",
    "ones(5,6) #1s\n",
    "I(5) #Identity\n",
    "randn(5,6) #N(0,1)\n",
    "fill(0,5,6) #Fill with value"
   ]
  },
  {
   "cell_type": "markdown",
   "metadata": {},
   "source": [
    "`promote_type` finds a type that is compatible with both types \\\n",
    "`eltype` gives the type of the elements of a vector / matrix"
   ]
  },
  {
   "cell_type": "code",
   "execution_count": 85,
   "metadata": {},
   "outputs": [
    {
     "data": {
      "text/plain": [
       "0-dimensional Array{Float64, 0}:\n",
       "0.0"
      ]
     },
     "execution_count": 85,
     "metadata": {},
     "output_type": "execute_result"
    }
   ],
   "source": [
    "function blah(x,y)\n",
    "    T = promote_type(eltype(x),eltype(y))\n",
    "    zeros(T,size(x))\n",
    "end\n",
    "\n",
    "blah(Float64(5), Int8(6))"
   ]
  },
  {
   "cell_type": "markdown",
   "metadata": {},
   "source": [
    "Column multiplication"
   ]
  },
  {
   "cell_type": "code",
   "execution_count": 72,
   "metadata": {},
   "outputs": [
    {
     "data": {
      "text/plain": [
       "mul_cols (generic function with 1 method)"
      ]
     },
     "execution_count": 72,
     "metadata": {},
     "output_type": "execute_result"
    }
   ],
   "source": [
    "function mul_cols(A, x)\n",
    "    m,n = size(A)\n",
    "    c = zeros(eltype(x), m) # eltype is the type of the elements of a vector/matrix\n",
    "    for j = 1:n, k = 1:m\n",
    "        c[k] += A[k, j] * x[j]\n",
    "    end\n",
    "\n",
    "    #Lower triangular: for k = 1:n, j = 1:k\n",
    "\n",
    "    c\n",
    "end"
   ]
  },
  {
   "cell_type": "markdown",
   "metadata": {},
   "source": [
    "Forward substitution for lower triangular systems"
   ]
  },
  {
   "cell_type": "code",
   "execution_count": 88,
   "metadata": {},
   "outputs": [
    {
     "data": {
      "text/plain": [
       "ldiv (generic function with 1 method)"
      ]
     },
     "execution_count": 88,
     "metadata": {},
     "output_type": "execute_result"
    }
   ],
   "source": [
    "function ldiv(L::LowerTriangular, b)\n",
    "    n = size(L,1)\n",
    "\n",
    "    if length(b) != n\n",
    "        error(\"The system is not compatible\")\n",
    "    end\n",
    "\n",
    "    x = zeros(n)  # the solution vector\n",
    "\n",
    "    for k = 1:n\n",
    "        x[k] = (b[k] -  sum([L[k,j]*x[j] for j = 1:k-1])) / L[k,k]\n",
    "    end\n",
    "\n",
    "    x\n",
    "end"
   ]
  },
  {
   "cell_type": "markdown",
   "metadata": {},
   "source": [
    "`<: AbstractMatrix{T}` tells Julia that the type is a matrix."
   ]
  },
  {
   "cell_type": "code",
   "execution_count": 92,
   "metadata": {},
   "outputs": [],
   "source": [
    "struct amatrix{T} <: AbstractMatrix{T}\n",
    "end"
   ]
  },
  {
   "cell_type": "markdown",
   "metadata": {},
   "source": [
    "Overloading getindex and setindex:"
   ]
  },
  {
   "cell_type": "code",
   "execution_count": 93,
   "metadata": {},
   "outputs": [
    {
     "data": {
      "text/plain": [
       "setindex! (generic function with 1 method)"
      ]
     },
     "execution_count": 93,
     "metadata": {},
     "output_type": "execute_result"
    }
   ],
   "source": [
    "#Called with A[k,j]\n",
    "function getindex(A::amatrix, k::Int, j::Int)\n",
    "    1\n",
    "end\n",
    "\n",
    "#Called with A[k,j] = v\n",
    "function setindex!(U::amatrix, v, k::Int, j::Int)\n",
    "    1\n",
    "end"
   ]
  },
  {
   "cell_type": "markdown",
   "metadata": {},
   "source": [
    "## Lab 5"
   ]
  },
  {
   "cell_type": "markdown",
   "metadata": {},
   "source": [
    "Permutations"
   ]
  },
  {
   "cell_type": "code",
   "execution_count": 114,
   "metadata": {},
   "outputs": [
    {
     "data": {
      "text/plain": [
       "4×4 Matrix{Bool}:\n",
       " 0  0  1  0\n",
       " 0  1  0  0\n",
       " 1  0  0  0\n",
       " 0  0  0  1"
      ]
     },
     "execution_count": 114,
     "metadata": {},
     "output_type": "execute_result"
    }
   ],
   "source": [
    "x = [\"a\", \"b\", \"c\", \"d\"]\n",
    "p = [3,2,1,4]\n",
    "invperm(p) #Inverse permutation\n",
    "\n",
    "x[p] #Apply permutation to vector\n",
    "\n",
    "I(4)[p,:] #Create permutation matrix"
   ]
  },
  {
   "cell_type": "markdown",
   "metadata": {},
   "source": [
    "Matrix operations:"
   ]
  },
  {
   "cell_type": "code",
   "execution_count": 119,
   "metadata": {},
   "outputs": [
    {
     "data": {
      "text/plain": [
       "5×1 Matrix{Float64}:\n",
       " -3.083884735570247\n",
       " -1.7840648721243315\n",
       " -1.2916726711420667\n",
       "  3.2667822120759764\n",
       " -1.358749046768566"
      ]
     },
     "execution_count": 119,
     "metadata": {},
     "output_type": "execute_result"
    }
   ],
   "source": [
    "A = randn(5,5)\n",
    "transpose(A) #Transpose\n",
    "A' #Adjoint\n",
    "inv(A) #Inverse\n",
    "\n",
    "x = randn(5,1)\n",
    "y = randn(5,1)\n",
    "dot(x,y) #Dot product\n",
    "A \\ x #Inverse of A * x\n"
   ]
  },
  {
   "cell_type": "markdown",
   "metadata": {},
   "source": [
    "Householder Reflection"
   ]
  },
  {
   "cell_type": "code",
   "execution_count": 117,
   "metadata": {},
   "outputs": [
    {
     "data": {
      "text/plain": [
       "5×5 Matrix{Float64}:\n",
       "  0.401809  -0.425396  -0.412263  -0.524722  -0.460754\n",
       " -0.425396   0.697485  -0.293175  -0.37315   -0.327659\n",
       " -0.412263  -0.293175   0.715876  -0.361629  -0.317543\n",
       " -0.524722  -0.37315   -0.361629   0.539723  -0.404165\n",
       " -0.460754  -0.327659  -0.317543  -0.404165   0.645107"
      ]
     },
     "execution_count": 117,
     "metadata": {},
     "output_type": "execute_result"
    }
   ],
   "source": [
    "function householderreflection(s::Bool, x::AbstractVector)\n",
    "    # TODO: return a `Reflection` corresponding to a Householder reflection\n",
    "    y = copy(x)\n",
    "    if s \n",
    "        y[1] -= norm(x)\n",
    "    else\n",
    "        y[1] += norm(x)\n",
    "    end\n",
    "    w = y/norm(y)\n",
    "    Q = I - 2w*w'\n",
    "end\n",
    "\n",
    "householderreflection(true, randn(5))"
   ]
  },
  {
   "cell_type": "markdown",
   "metadata": {},
   "source": [
    "## Lab 6"
   ]
  },
  {
   "cell_type": "markdown",
   "metadata": {},
   "source": [
    "Householder QR implementation"
   ]
  },
  {
   "cell_type": "code",
   "execution_count": 121,
   "metadata": {},
   "outputs": [
    {
     "data": {
      "text/plain": [
       "LinearAlgebra.QRCompactWY{Float64, Matrix{Float64}, Matrix{Float64}}\n",
       "Q factor:\n",
       "5×5 LinearAlgebra.QRCompactWYQ{Float64, Matrix{Float64}, Matrix{Float64}}:\n",
       " -0.447948  -0.467513    0.734083   -0.191094   0.0733468\n",
       "  0.349073  -0.160824    0.324617    0.858924   0.0956906\n",
       "  0.101259  -0.0430473  -0.0955921  -0.122455   0.981713\n",
       "  0.551668   0.502855    0.569827   -0.342938  -0.0221432\n",
       " -0.602412   0.707709    0.148005    0.305173   0.145646\n",
       "R factor:\n",
       "5×5 Matrix{Float64}:\n",
       " 1.35139  -0.699224  -0.0134881   0.945606  -0.803348\n",
       " 0.0       1.57154    1.99316    -1.75197    0.763429\n",
       " 0.0       0.0       -1.61629    -1.27975    0.204565\n",
       " 0.0       0.0        0.0        -2.61769   -1.17277\n",
       " 0.0       0.0        0.0         0.0       -0.394094"
      ]
     },
     "execution_count": 121,
     "metadata": {},
     "output_type": "execute_result"
    }
   ],
   "source": [
    "function householderreflection(x)\n",
    "    y = copy(x)\n",
    "    if x[1] == 0\n",
    "        y[1] += norm(x) \n",
    "    else # note sign(z) = exp(im*angle(z)) where `angle` is the argument of a complex number\n",
    "        y[1] += sign(x[1])*norm(x) \n",
    "    end\n",
    "    w = y/norm(y)\n",
    "    I - 2*w*w'\n",
    "end\n",
    "function householderqr(A)\n",
    "    T = eltype(A)\n",
    "    m,n = size(A)\n",
    "    if n > m\n",
    "        error(\"More columns than rows is not supported\")\n",
    "    end\n",
    "\n",
    "    R = zeros(T, m, n)\n",
    "    Q = Matrix(one(T)*I, m, m)\n",
    "    Aⱼ = copy(A)\n",
    "\n",
    "    for j = 1:n\n",
    "        𝐚₁ = Aⱼ[:,1] # first columns of Aⱼ\n",
    "        Q₁ = householderreflection(𝐚₁)\n",
    "        Q₁Aⱼ = Q₁*Aⱼ\n",
    "        α,𝐰 = Q₁Aⱼ[1,1],Q₁Aⱼ[1,2:end]\n",
    "        Aⱼ₊₁ = Q₁Aⱼ[2:end,2:end]\n",
    "\n",
    "        # populate returned data\n",
    "        R[j,j] = α\n",
    "        R[j,j+1:end] = 𝐰\n",
    "\n",
    "        # following is equivalent to Q = Q*[I 0 ; 0 Qⱼ]\n",
    "        Q[:,j:end] = Q[:,j:end]*Q₁\n",
    "\n",
    "        Aⱼ = Aⱼ₊₁ # this is the \"induction\"\n",
    "    end\n",
    "    Q,R\n",
    "end\n",
    "\n",
    "\n",
    "#Or just\n",
    "Q,R = qr(randn(5,5))"
   ]
  },
  {
   "cell_type": "markdown",
   "metadata": {},
   "source": [
    "LU implementation"
   ]
  },
  {
   "cell_type": "code",
   "execution_count": 122,
   "metadata": {},
   "outputs": [
    {
     "data": {
      "text/plain": [
       "mylu (generic function with 1 method)"
      ]
     },
     "execution_count": 122,
     "metadata": {},
     "output_type": "execute_result"
    }
   ],
   "source": [
    "function mylu(A)\n",
    "    n,m = size(A)\n",
    "    if n ≠ m\n",
    "        error(\"Matrix must be square\")\n",
    "    end\n",
    "    T = eltype(A)\n",
    "    L = LowerTriangular(zeros(T,n,n))\n",
    "    U = UpperTriangular(zeros(T,n,n))\n",
    "\n",
    "    σ = Vector(1:n)\n",
    "\n",
    "    Aⱼ = copy(A)\n",
    "\n",
    "    for j = 1:n-1\n",
    "        α,𝐯,𝐰 = Aⱼ[1,1],Aⱼ[2:end,1],Aⱼ[1,2:end]\n",
    "        K = Aⱼ[2:end,2:end]\n",
    "\n",
    "        # populate data\n",
    "        L[j,j] = 1\n",
    "        L[j+1:end,j] = 𝐯/α\n",
    "        U[j,j] = α\n",
    "        U[j,j+1:end] = 𝐰\n",
    "\n",
    "        # this is the \"recursion\": Aⱼ is now the next block\n",
    "        # We use transpose(𝐰) instead of 𝐰' incase 𝐰 is complex\n",
    "        \n",
    "        Aⱼ = K - 𝐯*transpose(𝐰)/α\n",
    "    end\n",
    "    # j = n case\n",
    "    L[n,n] = 1\n",
    "    U[n,n] = Aⱼ[1,1]\n",
    "\n",
    "    L,U\n",
    "end\n"
   ]
  },
  {
   "cell_type": "markdown",
   "metadata": {},
   "source": [
    "PLU implementation"
   ]
  },
  {
   "cell_type": "code",
   "execution_count": 123,
   "metadata": {},
   "outputs": [
    {
     "data": {
      "text/plain": [
       "plu (generic function with 1 method)"
      ]
     },
     "execution_count": 123,
     "metadata": {},
     "output_type": "execute_result"
    }
   ],
   "source": [
    "function σ_max(a)\n",
    "    n = length(a)\n",
    "    mx, ind = findmax(abs.(a)) # finds the index of the maximum entry\n",
    "    if ind == 1\n",
    "        1:n\n",
    "    else\n",
    "        [ind; 2:ind-1; 1; ind+1:n]\n",
    "    end\n",
    "end\n",
    "\n",
    "function plu(A)\n",
    "    n,m = size(A)\n",
    "    if n ≠ m\n",
    "        error(\"Matrix must be square\")\n",
    "    end\n",
    "    T = eltype(A)\n",
    "    L = LowerTriangular(zeros(T,n,n))\n",
    "    U = UpperTriangular(zeros(T,n,n))\n",
    "\n",
    "    σ = Vector(1:n)\n",
    "\n",
    "    Aⱼ = copy(A)\n",
    "\n",
    "    for j = 1:n-1\n",
    "        σ₁ = σ_max(Aⱼ[:,1])\n",
    "        P₁Aⱼ = Aⱼ[σ₁,:] # permute rows of Aⱼ\n",
    "        α,𝐯,𝐰 = P₁Aⱼ[1,1],P₁Aⱼ[2:end,1],P₁Aⱼ[1,2:end]\n",
    "        K = P₁Aⱼ[2:end,2:end]\n",
    "\n",
    "        # populate data\n",
    "        L[j,j] = 1\n",
    "        L[j+1:end,j] = 𝐯/α\n",
    "        U[j,j] = α\n",
    "        U[j,j+1:end] = 𝐰\n",
    "\n",
    "        # apply permutation to previous L\n",
    "        # and compose the permutations\n",
    "        L[j:n,1:j-1] = L[(j:n)[σ₁],1:j-1]\n",
    "        σ[j:n] = σ[j:n][σ₁]\n",
    "\n",
    "        # this is the \"recursion\": Aⱼ is now the next block\n",
    "        # We use transpose(𝐰) instead of 𝐰' incase 𝐰 is complex\n",
    "        Aⱼ = K - 𝐯*transpose(𝐰)/α\n",
    "    end\n",
    "    # j = n case\n",
    "    L[n,n] = 1\n",
    "    U[n,n] = Aⱼ[1,1]\n",
    "\n",
    "    L,U,σ\n",
    "end"
   ]
  },
  {
   "cell_type": "markdown",
   "metadata": {},
   "source": [
    "Cholesky implementation"
   ]
  },
  {
   "cell_type": "code",
   "execution_count": 124,
   "metadata": {},
   "outputs": [
    {
     "data": {
      "text/plain": [
       "mycholesky (generic function with 1 method)"
      ]
     },
     "execution_count": 124,
     "metadata": {},
     "output_type": "execute_result"
    }
   ],
   "source": [
    "function mycholesky(A)\n",
    "    T = eltype(A)\n",
    "    n,m = size(A)\n",
    "    if n ≠ m\n",
    "        error(\"Matrix must be square\")\n",
    "    end\n",
    "    if A ≠ A'\n",
    "        error(\"Matrix must be symmetric\")\n",
    "    end\n",
    "    T = eltype(A)\n",
    "    L = LowerTriangular(zeros(T,n,n))\n",
    "    Aⱼ = copy(A)\n",
    "    for j = 1:n\n",
    "        α,𝐯 = Aⱼ[1,1],Aⱼ[2:end,1]\n",
    "        if α ≤ 0\n",
    "            error(\"Matrix is not SPD\")\n",
    "        end \n",
    "        L[j,j] = sqrt(α)\n",
    "        L[j+1:end,j] = 𝐯/sqrt(α)\n",
    "\n",
    "        # induction part\n",
    "        Aⱼ = Aⱼ[2:end,2:end] - 𝐯*𝐯'/α\n",
    "    end\n",
    "    L\n",
    "end"
   ]
  },
  {
   "cell_type": "markdown",
   "metadata": {},
   "source": [
    "## Lab 7"
   ]
  },
  {
   "cell_type": "markdown",
   "metadata": {},
   "source": [
    "Implementing a function on a grid"
   ]
  },
  {
   "cell_type": "code",
   "execution_count": 125,
   "metadata": {},
   "outputs": [
    {
     "data": {
      "image/svg+xml": "<?xml version=\"1.0\" encoding=\"utf-8\"?>\n<svg xmlns=\"http://www.w3.org/2000/svg\" xmlns:xlink=\"http://www.w3.org/1999/xlink\" width=\"600\" height=\"400\" viewBox=\"0 0 2400 1600\">\n<defs>\n  <clipPath id=\"clip300\">\n    <rect x=\"0\" y=\"0\" width=\"2400\" height=\"1600\"/>\n  </clipPath>\n</defs>\n<path clip-path=\"url(#clip300)\" d=\"\nM0 1600 L2400 1600 L2400 0 L0 0  Z\n  \" fill=\"#ffffff\" fill-rule=\"evenodd\" fill-opacity=\"1\"/>\n<defs>\n  <clipPath id=\"clip301\">\n    <rect x=\"480\" y=\"0\" width=\"1681\" height=\"1600\"/>\n  </clipPath>\n</defs>\n<path clip-path=\"url(#clip300)\" d=\"\nM193.936 1486.45 L2112.76 1486.45 L2112.76 47.2441 L193.936 47.2441  Z\n  \" fill=\"#ffffff\" fill-rule=\"evenodd\" fill-opacity=\"1\"/>\n<defs>\n  <clipPath id=\"clip302\">\n    <rect x=\"193\" y=\"47\" width=\"1920\" height=\"1440\"/>\n  </clipPath>\n</defs>\n<polyline clip-path=\"url(#clip302)\" style=\"stroke:#000000; stroke-linecap:round; stroke-linejoin:round; stroke-width:2; stroke-opacity:0.1; fill:none\" points=\"\n  203.53,1486.45 203.53,47.2441 \n  \"/>\n<polyline clip-path=\"url(#clip302)\" style=\"stroke:#000000; stroke-linecap:round; stroke-linejoin:round; stroke-width:2; stroke-opacity:0.1; fill:none\" points=\"\n  678.438,1486.45 678.438,47.2441 \n  \"/>\n<polyline clip-path=\"url(#clip302)\" style=\"stroke:#000000; stroke-linecap:round; stroke-linejoin:round; stroke-width:2; stroke-opacity:0.1; fill:none\" points=\"\n  1153.35,1486.45 1153.35,47.2441 \n  \"/>\n<polyline clip-path=\"url(#clip302)\" style=\"stroke:#000000; stroke-linecap:round; stroke-linejoin:round; stroke-width:2; stroke-opacity:0.1; fill:none\" points=\"\n  1628.25,1486.45 1628.25,47.2441 \n  \"/>\n<polyline clip-path=\"url(#clip302)\" style=\"stroke:#000000; stroke-linecap:round; stroke-linejoin:round; stroke-width:2; stroke-opacity:0.1; fill:none\" points=\"\n  2103.16,1486.45 2103.16,47.2441 \n  \"/>\n<polyline clip-path=\"url(#clip300)\" style=\"stroke:#000000; stroke-linecap:round; stroke-linejoin:round; stroke-width:4; stroke-opacity:1; fill:none\" points=\"\n  193.936,1486.45 2112.76,1486.45 \n  \"/>\n<polyline clip-path=\"url(#clip300)\" style=\"stroke:#000000; stroke-linecap:round; stroke-linejoin:round; stroke-width:4; stroke-opacity:1; fill:none\" points=\"\n  203.53,1486.45 203.53,1467.55 \n  \"/>\n<polyline clip-path=\"url(#clip300)\" style=\"stroke:#000000; stroke-linecap:round; stroke-linejoin:round; stroke-width:4; stroke-opacity:1; fill:none\" points=\"\n  678.438,1486.45 678.438,1467.55 \n  \"/>\n<polyline clip-path=\"url(#clip300)\" style=\"stroke:#000000; stroke-linecap:round; stroke-linejoin:round; stroke-width:4; stroke-opacity:1; fill:none\" points=\"\n  1153.35,1486.45 1153.35,1467.55 \n  \"/>\n<polyline clip-path=\"url(#clip300)\" style=\"stroke:#000000; stroke-linecap:round; stroke-linejoin:round; stroke-width:4; stroke-opacity:1; fill:none\" points=\"\n  1628.25,1486.45 1628.25,1467.55 \n  \"/>\n<polyline clip-path=\"url(#clip300)\" style=\"stroke:#000000; stroke-linecap:round; stroke-linejoin:round; stroke-width:4; stroke-opacity:1; fill:none\" points=\"\n  2103.16,1486.45 2103.16,1467.55 \n  \"/>\n<path clip-path=\"url(#clip300)\" d=\"M150.058 1532.02 L179.734 1532.02 L179.734 1535.95 L150.058 1535.95 L150.058 1532.02 Z\" fill=\"#000000\" fill-rule=\"evenodd\" fill-opacity=\"1\" /><path clip-path=\"url(#clip300)\" d=\"M190.637 1544.91 L198.275 1544.91 L198.275 1518.55 L189.965 1520.21 L189.965 1515.95 L198.229 1514.29 L202.905 1514.29 L202.905 1544.91 L210.544 1544.91 L210.544 1548.85 L190.637 1548.85 L190.637 1544.91 Z\" fill=\"#000000\" fill-rule=\"evenodd\" fill-opacity=\"1\" /><path clip-path=\"url(#clip300)\" d=\"M219.988 1542.97 L224.873 1542.97 L224.873 1548.85 L219.988 1548.85 L219.988 1542.97 Z\" fill=\"#000000\" fill-rule=\"evenodd\" fill-opacity=\"1\" /><path clip-path=\"url(#clip300)\" d=\"M245.058 1517.37 Q241.447 1517.37 239.618 1520.93 Q237.812 1524.47 237.812 1531.6 Q237.812 1538.71 239.618 1542.27 Q241.447 1545.82 245.058 1545.82 Q248.692 1545.82 250.497 1542.27 Q252.326 1538.71 252.326 1531.6 Q252.326 1524.47 250.497 1520.93 Q248.692 1517.37 245.058 1517.37 M245.058 1513.66 Q250.868 1513.66 253.923 1518.27 Q257.002 1522.85 257.002 1531.6 Q257.002 1540.33 253.923 1544.94 Q250.868 1549.52 245.058 1549.52 Q239.247 1549.52 236.169 1544.94 Q233.113 1540.33 233.113 1531.6 Q233.113 1522.85 236.169 1518.27 Q239.247 1513.66 245.058 1513.66 Z\" fill=\"#000000\" fill-rule=\"evenodd\" fill-opacity=\"1\" /><path clip-path=\"url(#clip300)\" d=\"M625.464 1532.02 L655.14 1532.02 L655.14 1535.95 L625.464 1535.95 L625.464 1532.02 Z\" fill=\"#000000\" fill-rule=\"evenodd\" fill-opacity=\"1\" /><path clip-path=\"url(#clip300)\" d=\"M675.232 1517.37 Q671.621 1517.37 669.792 1520.93 Q667.987 1524.47 667.987 1531.6 Q667.987 1538.71 669.792 1542.27 Q671.621 1545.82 675.232 1545.82 Q678.866 1545.82 680.672 1542.27 Q682.501 1538.71 682.501 1531.6 Q682.501 1524.47 680.672 1520.93 Q678.866 1517.37 675.232 1517.37 M675.232 1513.66 Q681.042 1513.66 684.098 1518.27 Q687.176 1522.85 687.176 1531.6 Q687.176 1540.33 684.098 1544.94 Q681.042 1549.52 675.232 1549.52 Q669.422 1549.52 666.343 1544.94 Q663.288 1540.33 663.288 1531.6 Q663.288 1522.85 666.343 1518.27 Q669.422 1513.66 675.232 1513.66 Z\" fill=\"#000000\" fill-rule=\"evenodd\" fill-opacity=\"1\" /><path clip-path=\"url(#clip300)\" d=\"M695.394 1542.97 L700.278 1542.97 L700.278 1548.85 L695.394 1548.85 L695.394 1542.97 Z\" fill=\"#000000\" fill-rule=\"evenodd\" fill-opacity=\"1\" /><path clip-path=\"url(#clip300)\" d=\"M710.51 1514.29 L728.866 1514.29 L728.866 1518.22 L714.792 1518.22 L714.792 1526.7 Q715.811 1526.35 716.829 1526.19 Q717.848 1526 718.866 1526 Q724.653 1526 728.033 1529.17 Q731.412 1532.34 731.412 1537.76 Q731.412 1543.34 727.94 1546.44 Q724.468 1549.52 718.148 1549.52 Q715.973 1549.52 713.704 1549.15 Q711.459 1548.78 709.051 1548.04 L709.051 1543.34 Q711.135 1544.47 713.357 1545.03 Q715.579 1545.58 718.056 1545.58 Q722.06 1545.58 724.398 1543.48 Q726.736 1541.37 726.736 1537.76 Q726.736 1534.15 724.398 1532.04 Q722.06 1529.94 718.056 1529.94 Q716.181 1529.94 714.306 1530.35 Q712.454 1530.77 710.51 1531.65 L710.51 1514.29 Z\" fill=\"#000000\" fill-rule=\"evenodd\" fill-opacity=\"1\" /><path clip-path=\"url(#clip300)\" d=\"M1130.73 1517.37 Q1127.12 1517.37 1125.29 1520.93 Q1123.49 1524.47 1123.49 1531.6 Q1123.49 1538.71 1125.29 1542.27 Q1127.12 1545.82 1130.73 1545.82 Q1134.36 1545.82 1136.17 1542.27 Q1138 1538.71 1138 1531.6 Q1138 1524.47 1136.17 1520.93 Q1134.36 1517.37 1130.73 1517.37 M1130.73 1513.66 Q1136.54 1513.66 1139.6 1518.27 Q1142.67 1522.85 1142.67 1531.6 Q1142.67 1540.33 1139.6 1544.94 Q1136.54 1549.52 1130.73 1549.52 Q1124.92 1549.52 1121.84 1544.94 Q1118.79 1540.33 1118.79 1531.6 Q1118.79 1522.85 1121.84 1518.27 Q1124.92 1513.66 1130.73 1513.66 Z\" fill=\"#000000\" fill-rule=\"evenodd\" fill-opacity=\"1\" /><path clip-path=\"url(#clip300)\" d=\"M1150.89 1542.97 L1155.78 1542.97 L1155.78 1548.85 L1150.89 1548.85 L1150.89 1542.97 Z\" fill=\"#000000\" fill-rule=\"evenodd\" fill-opacity=\"1\" /><path clip-path=\"url(#clip300)\" d=\"M1175.96 1517.37 Q1172.35 1517.37 1170.52 1520.93 Q1168.72 1524.47 1168.72 1531.6 Q1168.72 1538.71 1170.52 1542.27 Q1172.35 1545.82 1175.96 1545.82 Q1179.6 1545.82 1181.4 1542.27 Q1183.23 1538.71 1183.23 1531.6 Q1183.23 1524.47 1181.4 1520.93 Q1179.6 1517.37 1175.96 1517.37 M1175.96 1513.66 Q1181.77 1513.66 1184.83 1518.27 Q1187.91 1522.85 1187.91 1531.6 Q1187.91 1540.33 1184.83 1544.94 Q1181.77 1549.52 1175.96 1549.52 Q1170.15 1549.52 1167.07 1544.94 Q1164.02 1540.33 1164.02 1531.6 Q1164.02 1522.85 1167.07 1518.27 Q1170.15 1513.66 1175.96 1513.66 Z\" fill=\"#000000\" fill-rule=\"evenodd\" fill-opacity=\"1\" /><path clip-path=\"url(#clip300)\" d=\"M1606.14 1517.37 Q1602.52 1517.37 1600.7 1520.93 Q1598.89 1524.47 1598.89 1531.6 Q1598.89 1538.71 1600.7 1542.27 Q1602.52 1545.82 1606.14 1545.82 Q1609.77 1545.82 1611.58 1542.27 Q1613.4 1538.71 1613.4 1531.6 Q1613.4 1524.47 1611.58 1520.93 Q1609.77 1517.37 1606.14 1517.37 M1606.14 1513.66 Q1611.95 1513.66 1615 1518.27 Q1618.08 1522.85 1618.08 1531.6 Q1618.08 1540.33 1615 1544.94 Q1611.95 1549.52 1606.14 1549.52 Q1600.33 1549.52 1597.25 1544.94 Q1594.19 1540.33 1594.19 1531.6 Q1594.19 1522.85 1597.25 1518.27 Q1600.33 1513.66 1606.14 1513.66 Z\" fill=\"#000000\" fill-rule=\"evenodd\" fill-opacity=\"1\" /><path clip-path=\"url(#clip300)\" d=\"M1626.3 1542.97 L1631.18 1542.97 L1631.18 1548.85 L1626.3 1548.85 L1626.3 1542.97 Z\" fill=\"#000000\" fill-rule=\"evenodd\" fill-opacity=\"1\" /><path clip-path=\"url(#clip300)\" d=\"M1641.41 1514.29 L1659.77 1514.29 L1659.77 1518.22 L1645.7 1518.22 L1645.7 1526.7 Q1646.71 1526.35 1647.73 1526.19 Q1648.75 1526 1649.77 1526 Q1655.56 1526 1658.94 1529.17 Q1662.32 1532.34 1662.32 1537.76 Q1662.32 1543.34 1658.84 1546.44 Q1655.37 1549.52 1649.05 1549.52 Q1646.88 1549.52 1644.61 1549.15 Q1642.36 1548.78 1639.96 1548.04 L1639.96 1543.34 Q1642.04 1544.47 1644.26 1545.03 Q1646.48 1545.58 1648.96 1545.58 Q1652.96 1545.58 1655.3 1543.48 Q1657.64 1541.37 1657.64 1537.76 Q1657.64 1534.15 1655.3 1532.04 Q1652.96 1529.94 1648.96 1529.94 Q1647.08 1529.94 1645.21 1530.35 Q1643.36 1530.77 1641.41 1531.65 L1641.41 1514.29 Z\" fill=\"#000000\" fill-rule=\"evenodd\" fill-opacity=\"1\" /><path clip-path=\"url(#clip300)\" d=\"M2070.31 1544.91 L2077.95 1544.91 L2077.95 1518.55 L2069.64 1520.21 L2069.64 1515.95 L2077.91 1514.29 L2082.58 1514.29 L2082.58 1544.91 L2090.22 1544.91 L2090.22 1548.85 L2070.31 1548.85 L2070.31 1544.91 Z\" fill=\"#000000\" fill-rule=\"evenodd\" fill-opacity=\"1\" /><path clip-path=\"url(#clip300)\" d=\"M2099.67 1542.97 L2104.55 1542.97 L2104.55 1548.85 L2099.67 1548.85 L2099.67 1542.97 Z\" fill=\"#000000\" fill-rule=\"evenodd\" fill-opacity=\"1\" /><path clip-path=\"url(#clip300)\" d=\"M2124.74 1517.37 Q2121.12 1517.37 2119.3 1520.93 Q2117.49 1524.47 2117.49 1531.6 Q2117.49 1538.71 2119.3 1542.27 Q2121.12 1545.82 2124.74 1545.82 Q2128.37 1545.82 2130.18 1542.27 Q2132 1538.71 2132 1531.6 Q2132 1524.47 2130.18 1520.93 Q2128.37 1517.37 2124.74 1517.37 M2124.74 1513.66 Q2130.55 1513.66 2133.6 1518.27 Q2136.68 1522.85 2136.68 1531.6 Q2136.68 1540.33 2133.6 1544.94 Q2130.55 1549.52 2124.74 1549.52 Q2118.93 1549.52 2115.85 1544.94 Q2112.79 1540.33 2112.79 1531.6 Q2112.79 1522.85 2115.85 1518.27 Q2118.93 1513.66 2124.74 1513.66 Z\" fill=\"#000000\" fill-rule=\"evenodd\" fill-opacity=\"1\" /><polyline clip-path=\"url(#clip302)\" style=\"stroke:#000000; stroke-linecap:round; stroke-linejoin:round; stroke-width:2; stroke-opacity:0.1; fill:none\" points=\"\n  193.936,1481.65 2112.76,1481.65 \n  \"/>\n<polyline clip-path=\"url(#clip302)\" style=\"stroke:#000000; stroke-linecap:round; stroke-linejoin:round; stroke-width:2; stroke-opacity:0.1; fill:none\" points=\"\n  193.936,1124.25 2112.76,1124.25 \n  \"/>\n<polyline clip-path=\"url(#clip302)\" style=\"stroke:#000000; stroke-linecap:round; stroke-linejoin:round; stroke-width:2; stroke-opacity:0.1; fill:none\" points=\"\n  193.936,766.846 2112.76,766.846 \n  \"/>\n<polyline clip-path=\"url(#clip302)\" style=\"stroke:#000000; stroke-linecap:round; stroke-linejoin:round; stroke-width:2; stroke-opacity:0.1; fill:none\" points=\"\n  193.936,409.444 2112.76,409.444 \n  \"/>\n<polyline clip-path=\"url(#clip302)\" style=\"stroke:#000000; stroke-linecap:round; stroke-linejoin:round; stroke-width:2; stroke-opacity:0.1; fill:none\" points=\"\n  193.936,52.0414 2112.76,52.0414 \n  \"/>\n<polyline clip-path=\"url(#clip300)\" style=\"stroke:#000000; stroke-linecap:round; stroke-linejoin:round; stroke-width:4; stroke-opacity:1; fill:none\" points=\"\n  193.936,1486.45 193.936,47.2441 \n  \"/>\n<polyline clip-path=\"url(#clip300)\" style=\"stroke:#000000; stroke-linecap:round; stroke-linejoin:round; stroke-width:4; stroke-opacity:1; fill:none\" points=\"\n  193.936,1481.65 210.733,1481.65 \n  \"/>\n<polyline clip-path=\"url(#clip300)\" style=\"stroke:#000000; stroke-linecap:round; stroke-linejoin:round; stroke-width:4; stroke-opacity:1; fill:none\" points=\"\n  193.936,1124.25 210.733,1124.25 \n  \"/>\n<polyline clip-path=\"url(#clip300)\" style=\"stroke:#000000; stroke-linecap:round; stroke-linejoin:round; stroke-width:4; stroke-opacity:1; fill:none\" points=\"\n  193.936,766.846 210.733,766.846 \n  \"/>\n<polyline clip-path=\"url(#clip300)\" style=\"stroke:#000000; stroke-linecap:round; stroke-linejoin:round; stroke-width:4; stroke-opacity:1; fill:none\" points=\"\n  193.936,409.444 210.733,409.444 \n  \"/>\n<polyline clip-path=\"url(#clip300)\" style=\"stroke:#000000; stroke-linecap:round; stroke-linejoin:round; stroke-width:4; stroke-opacity:1; fill:none\" points=\"\n  193.936,52.0414 210.733,52.0414 \n  \"/>\n<path clip-path=\"url(#clip300)\" d=\"M50.9921 1482.1 L80.6679 1482.1 L80.6679 1486.04 L50.9921 1486.04 L50.9921 1482.1 Z\" fill=\"#000000\" fill-rule=\"evenodd\" fill-opacity=\"1\" /><path clip-path=\"url(#clip300)\" d=\"M91.5706 1495 L99.2095 1495 L99.2095 1468.63 L90.8993 1470.3 L90.8993 1466.04 L99.1632 1464.37 L103.839 1464.37 L103.839 1495 L111.478 1495 L111.478 1498.93 L91.5706 1498.93 L91.5706 1495 Z\" fill=\"#000000\" fill-rule=\"evenodd\" fill-opacity=\"1\" /><path clip-path=\"url(#clip300)\" d=\"M120.922 1493.05 L125.807 1493.05 L125.807 1498.93 L120.922 1498.93 L120.922 1493.05 Z\" fill=\"#000000\" fill-rule=\"evenodd\" fill-opacity=\"1\" /><path clip-path=\"url(#clip300)\" d=\"M145.992 1467.45 Q142.381 1467.45 140.552 1471.01 Q138.746 1474.56 138.746 1481.69 Q138.746 1488.79 140.552 1492.36 Q142.381 1495.9 145.992 1495.9 Q149.626 1495.9 151.431 1492.36 Q153.26 1488.79 153.26 1481.69 Q153.26 1474.56 151.431 1471.01 Q149.626 1467.45 145.992 1467.45 M145.992 1463.75 Q151.802 1463.75 154.857 1468.35 Q157.936 1472.94 157.936 1481.69 Q157.936 1490.41 154.857 1495.02 Q151.802 1499.6 145.992 1499.6 Q140.181 1499.6 137.103 1495.02 Q134.047 1490.41 134.047 1481.69 Q134.047 1472.94 137.103 1468.35 Q140.181 1463.75 145.992 1463.75 Z\" fill=\"#000000\" fill-rule=\"evenodd\" fill-opacity=\"1\" /><path clip-path=\"url(#clip300)\" d=\"M51.9875 1124.7 L81.6633 1124.7 L81.6633 1128.63 L51.9875 1128.63 L51.9875 1124.7 Z\" fill=\"#000000\" fill-rule=\"evenodd\" fill-opacity=\"1\" /><path clip-path=\"url(#clip300)\" d=\"M101.756 1110.05 Q98.1447 1110.05 96.316 1113.61 Q94.5104 1117.15 94.5104 1124.28 Q94.5104 1131.39 96.316 1134.95 Q98.1447 1138.5 101.756 1138.5 Q105.39 1138.5 107.196 1134.95 Q109.024 1131.39 109.024 1124.28 Q109.024 1117.15 107.196 1113.61 Q105.39 1110.05 101.756 1110.05 M101.756 1106.34 Q107.566 1106.34 110.621 1110.95 Q113.7 1115.53 113.7 1124.28 Q113.7 1133.01 110.621 1137.62 Q107.566 1142.2 101.756 1142.2 Q95.9456 1142.2 92.8669 1137.62 Q89.8114 1133.01 89.8114 1124.28 Q89.8114 1115.53 92.8669 1110.95 Q95.9456 1106.34 101.756 1106.34 Z\" fill=\"#000000\" fill-rule=\"evenodd\" fill-opacity=\"1\" /><path clip-path=\"url(#clip300)\" d=\"M121.918 1135.65 L126.802 1135.65 L126.802 1141.53 L121.918 1141.53 L121.918 1135.65 Z\" fill=\"#000000\" fill-rule=\"evenodd\" fill-opacity=\"1\" /><path clip-path=\"url(#clip300)\" d=\"M137.033 1106.97 L155.39 1106.97 L155.39 1110.9 L141.316 1110.9 L141.316 1119.38 Q142.334 1119.03 143.353 1118.87 Q144.371 1118.68 145.39 1118.68 Q151.177 1118.68 154.556 1121.85 Q157.936 1125.02 157.936 1130.44 Q157.936 1136.02 154.464 1139.12 Q150.992 1142.2 144.672 1142.2 Q142.496 1142.2 140.228 1141.83 Q137.982 1141.46 135.575 1140.72 L135.575 1136.02 Q137.658 1137.15 139.881 1137.71 Q142.103 1138.26 144.58 1138.26 Q148.584 1138.26 150.922 1136.16 Q153.26 1134.05 153.26 1130.44 Q153.26 1126.83 150.922 1124.72 Q148.584 1122.62 144.58 1122.62 Q142.705 1122.62 140.83 1123.03 Q138.978 1123.45 137.033 1124.33 L137.033 1106.97 Z\" fill=\"#000000\" fill-rule=\"evenodd\" fill-opacity=\"1\" /><path clip-path=\"url(#clip300)\" d=\"M100.76 752.645 Q97.1493 752.645 95.3206 756.209 Q93.515 759.751 93.515 766.881 Q93.515 773.987 95.3206 777.552 Q97.1493 781.094 100.76 781.094 Q104.395 781.094 106.2 777.552 Q108.029 773.987 108.029 766.881 Q108.029 759.751 106.2 756.209 Q104.395 752.645 100.76 752.645 M100.76 748.941 Q106.571 748.941 109.626 753.547 Q112.705 758.131 112.705 766.881 Q112.705 775.608 109.626 780.214 Q106.571 784.797 100.76 784.797 Q94.9502 784.797 91.8715 780.214 Q88.816 775.608 88.816 766.881 Q88.816 758.131 91.8715 753.547 Q94.9502 748.941 100.76 748.941 Z\" fill=\"#000000\" fill-rule=\"evenodd\" fill-opacity=\"1\" /><path clip-path=\"url(#clip300)\" d=\"M120.922 778.246 L125.807 778.246 L125.807 784.126 L120.922 784.126 L120.922 778.246 Z\" fill=\"#000000\" fill-rule=\"evenodd\" fill-opacity=\"1\" /><path clip-path=\"url(#clip300)\" d=\"M145.992 752.645 Q142.381 752.645 140.552 756.209 Q138.746 759.751 138.746 766.881 Q138.746 773.987 140.552 777.552 Q142.381 781.094 145.992 781.094 Q149.626 781.094 151.431 777.552 Q153.26 773.987 153.26 766.881 Q153.26 759.751 151.431 756.209 Q149.626 752.645 145.992 752.645 M145.992 748.941 Q151.802 748.941 154.857 753.547 Q157.936 758.131 157.936 766.881 Q157.936 775.608 154.857 780.214 Q151.802 784.797 145.992 784.797 Q140.181 784.797 137.103 780.214 Q134.047 775.608 134.047 766.881 Q134.047 758.131 137.103 753.547 Q140.181 748.941 145.992 748.941 Z\" fill=\"#000000\" fill-rule=\"evenodd\" fill-opacity=\"1\" /><path clip-path=\"url(#clip300)\" d=\"M101.756 395.242 Q98.1447 395.242 96.316 398.807 Q94.5104 402.349 94.5104 409.478 Q94.5104 416.585 96.316 420.15 Q98.1447 423.691 101.756 423.691 Q105.39 423.691 107.196 420.15 Q109.024 416.585 109.024 409.478 Q109.024 402.349 107.196 398.807 Q105.39 395.242 101.756 395.242 M101.756 391.539 Q107.566 391.539 110.621 396.145 Q113.7 400.728 113.7 409.478 Q113.7 418.205 110.621 422.812 Q107.566 427.395 101.756 427.395 Q95.9456 427.395 92.8669 422.812 Q89.8114 418.205 89.8114 409.478 Q89.8114 400.728 92.8669 396.145 Q95.9456 391.539 101.756 391.539 Z\" fill=\"#000000\" fill-rule=\"evenodd\" fill-opacity=\"1\" /><path clip-path=\"url(#clip300)\" d=\"M121.918 420.844 L126.802 420.844 L126.802 426.724 L121.918 426.724 L121.918 420.844 Z\" fill=\"#000000\" fill-rule=\"evenodd\" fill-opacity=\"1\" /><path clip-path=\"url(#clip300)\" d=\"M137.033 392.164 L155.39 392.164 L155.39 396.099 L141.316 396.099 L141.316 404.571 Q142.334 404.224 143.353 404.062 Q144.371 403.877 145.39 403.877 Q151.177 403.877 154.556 407.048 Q157.936 410.219 157.936 415.636 Q157.936 421.214 154.464 424.316 Q150.992 427.395 144.672 427.395 Q142.496 427.395 140.228 427.025 Q137.982 426.654 135.575 425.914 L135.575 421.214 Q137.658 422.349 139.881 422.904 Q142.103 423.46 144.58 423.46 Q148.584 423.46 150.922 421.353 Q153.26 419.247 153.26 415.636 Q153.26 412.025 150.922 409.918 Q148.584 407.812 144.58 407.812 Q142.705 407.812 140.83 408.228 Q138.978 408.645 137.033 409.525 L137.033 392.164 Z\" fill=\"#000000\" fill-rule=\"evenodd\" fill-opacity=\"1\" /><path clip-path=\"url(#clip300)\" d=\"M91.5706 65.3863 L99.2095 65.3863 L99.2095 39.0207 L90.8993 40.6873 L90.8993 36.4281 L99.1632 34.7614 L103.839 34.7614 L103.839 65.3863 L111.478 65.3863 L111.478 69.3214 L91.5706 69.3214 L91.5706 65.3863 Z\" fill=\"#000000\" fill-rule=\"evenodd\" fill-opacity=\"1\" /><path clip-path=\"url(#clip300)\" d=\"M120.922 63.4418 L125.807 63.4418 L125.807 69.3214 L120.922 69.3214 L120.922 63.4418 Z\" fill=\"#000000\" fill-rule=\"evenodd\" fill-opacity=\"1\" /><path clip-path=\"url(#clip300)\" d=\"M145.992 37.8401 Q142.381 37.8401 140.552 41.4049 Q138.746 44.9466 138.746 52.0762 Q138.746 59.1826 140.552 62.7474 Q142.381 66.289 145.992 66.289 Q149.626 66.289 151.431 62.7474 Q153.26 59.1826 153.26 52.0762 Q153.26 44.9466 151.431 41.4049 Q149.626 37.8401 145.992 37.8401 M145.992 34.1364 Q151.802 34.1364 154.857 38.7429 Q157.936 43.3262 157.936 52.0762 Q157.936 60.803 154.857 65.4094 Q151.802 69.9927 145.992 69.9927 Q140.181 69.9927 137.103 65.4094 Q134.047 60.803 134.047 52.0762 Q134.047 43.3262 137.103 38.7429 Q140.181 34.1364 145.992 34.1364 Z\" fill=\"#000000\" fill-rule=\"evenodd\" fill-opacity=\"1\" /><g clip-path=\"url(#clip302)\">\n<image width=\"1919\" height=\"1439\" xlink:href=\"data:image/png;base64,\niVBORw0KGgoAAAANSUhEUgAAB38AAAWfCAYAAACr+jy1AAAgAElEQVR4nOzbW5JEt25gUTIr5fnP\nt1vJ/qj217UjXPLWLYhnrQEgAJDnRWTutd5nhfZ6hcG6WHu/u1grjLW/sljf8crculivB8Sq432V\ndYZ79rX/yGKVNa7V1vn1gFhpv067ll+ruzd+nTBW+Ix7pTWGz95V17mzWF9hrFf4jlHWWMd7haml\neYWxdtv+8k127TC5Nq8wVrmWWaT/H68OGBmaVp/X1EKnSr/K83CZsXkN7v8Jo5V1frpQ64SJlXmt\nVfesrDOMNbTGOt7ndLvjz6Fr+Wd8Bfy5u3if9WcWq6zzz13m1cVaa60/9//NYn1WF+vPB8Qq+7XW\nWn+eMLfzf7pYZf/TGtv+l/GmxjpDY33H6+6NJ9yzaZ3hO8YJn3HtaTEAAAAAAAAAv8LwFwAAAAAA\nAOAChr8AAAAAAAAAFzD8BQAAAAAAALiA4S8AAAAAAADABQx/AQAAAAAAAC5g+AsAAAAAAABwAcNf\nAAAAAAAAgAsY/gIAAAAAAABc4L3riLuLuNPZdFhpWGM9f99hnWL9drywzt3ts6f0f+papvsijdWa\nm9vMvPJneWhq//llo5dydHIAcKHy2XvCWGt0avxU+S03czH77/KZ0dpv6Zl5fcebemow9VxqZqw6\nXnnGu87Mno3u/9BY5XV56v+L7k8XK92zXZ1nd+8FYSj//AUAAAAAAAC4geEvAAAAAAAAwAUMfwEA\nAAAAAAAuYPgLAAAAAAAAcAHDXwAAAAAAAIALGP4CAAAAAAAAXMDwFwAAAAAAAOAChr8AAAAAAAAA\nFzD8BQAAAAAAALjAe60dhyzjdbF2OOdOY+24/7vMTawfxxu6z9praeY1/h1tZv/bWOFanqn7ot8Z\n8yJNv5bmRqvM7f7kfTZTXuH9LQOAWcJn7z5drLXWisNl0u/CsMrJ78Wtmf3vv+Rmfks/4xs/PrMJ\nz5/nnpfNPEf9jjbzBGJq/59yXl/GOmlenyzWWmutU65n2bOyzpnXuH/+AgAAAAAAAFzA8BcAAAAA\nAADgAoa/AAAAAAAAABcw/AUAAAAAAAC4gOEvAAAAAAAAwAUMfwEAAAAAAAAuYPgLAAAAAAAAcAHD\nXwAAAAAAAIALvNeu579hvDS3MtYOY7X932PrnBlrp3mttXeYWxkr3Bc7vC7b/Vqv58x99oRY/xmx\nizQz1jpdqLr7bf87fZ38hP7/nJ4BcKvyGRe+Fo+mZ79r7ndJ+e0V74zymzU945q5mvkZ49DcntD/\n/LyyPEs95Rnv0P6fuWeMU2OVe/bk/xf9hLGGzh5P+cDsYvnnLwAAAAAAAMAFDH8BAAAAAAAALmD4\nCwAAAAAAAHABw18AAAAAAACACxj+AgAAAAAAAFzA8BcAAAAAAADgAoa/AAAAAAAAABcw/AUAAAAA\nAAC4gOEvAAAAAAAAwAXea+004A7j7XA2vXeY1y7zaufvaZ1l/4fGqn//MLXO9rqcGauONzfWzH2R\nP0tO2bPSzH1RG5vZ2MT4KUsJAPwTlO8sJ4zFXzB0MSe/F089M0izCs8eVngmu9bks6RPGGvmGctz\nzitnnmM/57w+rHOX12X9f9EyXlfnOjPzOuE17p+/AAAAAAAAABcw/AUAAAAAAAC4gOEvAAAAAAAA\nwAUMfwEAAAAAAAAuYPgLAAAAAAAAcAHDXwAAAAAAAIALGP4CAAAAAAAAXMDwFwAAAAAAAOAC713P\nf3cYr4yV1tnF2mtnsb6FuYX9f0KstdYqr6c0VtmzoTXW8dpY3XW+T3nPCPOK72Vpz9JYnTZW/Szp\nzF3LmbHWWmvPXc5HeEb7n1ElwB3Ke/YJY3Xur3C28t2z/V6d/P1V6nZt/11e5taZ+i3Xf5fPPEva\n4U1j7jne4PPK8oz3zOzZY87rw1gnXctPFmuttc7Qudza5VtjeV12efnnLwAAAAAAAMAFDH8BAAAA\nAAAALmD4CwAAAAAAAHABw18AAAAAAACACxj+AgAAAAAAAFzA8BcAAAAAAADgAoa/AAAAAAAAABcw\n/AUAAAAAAAC4gOEvAAAAAAAAwAXea7fz3x3Ok9NYYZ1TY601uP8PiLVWvDeG1jk11ne8PTRW2bOp\nNXaxvuPNjNbWWebVqteT3zP1WuIv0P5fNbX9U/Pi95V744Sxpub1GBbgl5Xv/90CWMrf1X6X16vp\nW/pnseqvr5n9b8+4PmGsmTXW8cbGKs/Ej/7/Zqx+Xlg+m8Lczsy8zu7y8s9fAAAAAAAAgAsY/gIA\nAAAAAABcwPAXAAAAAAAA4AKGvwAAAAAAAAAXMPwFAAAAAAAAuIDhLwAAAAAAAMAFDH8BAAAAAAAA\nLmD4CwAAAAAAAHABw18AAAAAAACAC7zz+e8u482MtYfmtdZaO+z/I2KtncWq44n1V+LNvM6n9iyN\ndSZfS519wlhdqNHRxJoRsbBnpjW0W/wlFhP4LfX9J3xn5GcmL2X5LnXSPVZ+e7Wbf+o7+9RYfbRu\nPdNv6bDM0eciYaFjz5LGnuN9sljf8ab2//5Ya9WzhPtjnRPPq8JnyUlnaeWDKcwrfMnzz18AAAAA\nAACACxj+AgAAAAAAAFzA8BcAAAAAAADgAoa/AAAAAAAAABcw/AUAAAAAAAC4gOEvAAAAAAAAwAUM\nfwEAAAAAAAAuYPgLAAAAAAAAcIH3jue/Zby9nxDrK4u1Vtz/B8R6Te5/uc+G9n/y/ee1dhZrnzBW\nmdfQWHW8NreZebXdj41ObqaZO7ZV3zGe4An7AoB/NfWefX47gf9W/ZbRVVr2bOp7wdx9ERvatPp+\n8Yxv6Zmx6nhprPCM67W7WOch55Vjz57P3PP6c7ob7di1TPdF2//yQddem+EDONz/ZV7++QsAAAAA\nAABwAcNfAAAAAAAAgAsY/gIAAAAAAABcwPAXAAAAAAAA4AKGvwAAAAAAAAAXMPwFAAAAAAAAuIDh\nLwAAAAAAAMAFDH8BAAAAAAAALmD4CwAAAAAAAHCB997t/Hfvry5WOJvea2Zer3j+/grXc2ysdF/E\n+/8B+2xqXmuttdceGmtm//eZ2a863txYnbb7k3s2tP/1AvAzg/s/OLXME2oE+Kny3njCWKWxNdYP\npqkLMFT9XrzD/o/9lkhjtRu2zW3qd+HMWGvFZzbhuWy5z/b6hLG6ftXnlWfoWWqZV3sm3t7L0vVM\nZ2lDY522/5+h+yx9yQtnomVe/vkLAAAAAAAAcAHDXwAAAAAAAIALGP4CAAAAAAAAXMDwFwAAAAAA\nAOAChr8AAAAAAAAAFzD8BQAAAAAAALiA4S8AAAAAAADABQx/AQAAAAAAAC7wXusrDtnNk/cW6+fx\nuvXc5VpO3Rfx7x/K3F5T+5/G2lms73hhbmdmnWWs19C8/jNiFumUdZbKaE/JrCSzn5qaV+0pdQLA\nFOWz94SxalPrnJrXt5nZzf1emvsmu8v+h9/4a889FynPbM7Q85/07G2X1/gni/Udb+a5bHn2fMr+\nh/tirXiWkJ4Xl/u/nAm1T/N2/5e5hfv/lHl1a+mfvwAAAAAAAAAXMPwFAAAAAAAAuIDhLwAAAAAA\nAMAFDH8BAAAAAAAALmD4CwAAAAAAAHABw18AAAAAAACACxj+AgAAAAAAAFzA8BcAAAAAAADgAoa/\nAAAAAAAAABd4793Of/f+Ghqrq3OvMK8w1ne8sM6pa5nW2O7/V5lbus+6vNoa6/7vLNYOY03Na2qs\n73hTY5U967Td/zsCNub2bGjD1lp7z82tcn+Fz2Etgd9S339OHI//uaesZfmOd05ZZf2W3eVWZpbu\nizCxHW/Yud/SM/dFfy4y88ymPOM6Y/Oqzyu7PVvmVp49pzXW86ozdF5S3svCZ3k/rwpzSx905VqW\nuhr98xcAAAAAAADgAoa/AAAAAAAAABcw/AUAAAAAAAC4gOEvAAAAAAAAwAUMfwEAAAAAAAAuYPgL\nAAAAAAAAcAHDXwAAAAAAAIALGP4CAAAAAAAAXMDwFwAAAAAAAOAC772/0oCvcJ68V5fbq4wV9uy1\n2/l7uZ47XcsuVrqWYay1Jvfs/rzWWmufmbml++LsLtYqY7WeUGebV7sCU3Or91kl3/9xvImeUGNP\n1wD43yqfJSeMNdcTOtZ+47TKns39lutM/i7Z4Wqm/S/PHnZ7lc+tszx763p2ThfrFa/lCesszyvL\nvKae/X8L99nQnpUzofK6/BauZ3idf7JIbc8+6VoCAAAAAAAA8I9n+AsAAAAAAABwAcNfAAAAAAAA\ngAsY/gIAAAAAAABcwPAXAAAAAAAA4AKGvwAAAAAAAAAXMPwFAAAAAAAAuIDhLwAAAAAAAMAF3nt9\npQH37uLt3c2mx+YV9/8VzvNfYc9eYZ1t/9vfP5R1lmtZ1jk1rzpeG2tnsV5hrDKvMtZaz6iz7Fjb\n/T5eJ+z/3CLHalv2kAV4SJkAPFD5jDthrFz5/t8VOrplofKd/ZyZm/Yp34VTv6XLs4eTfzHNPEsq\n62zP3srrsr3LvtL7f3nGW9bZnYmfuP/lLOF1wlnODus8XaxPPi8sr81wxjR0/5fbwj9/AQAAAAAA\nAC5g+AsAAAAAAABwAcNfAAAAAAAAgAsY/gIAAAAAAABcwPAXAAAAAAAA4AKGvwAAAAAAAAAXMPwF\nAAAAAAAAuIDhLwAAAAAAAMAFDH8BAAAAAAAALvB+7a804A7jlbmlsdbMvNZq+7/TOrvfGaT9D2Ot\ntdYOf09RxirrTPM67e9PXmtnsXYY63XKvMo9FuYV1rhWnFsWqY4V1rjb/pem9r+M1nd/cm6RMLG6\nxql7duxaAvCP4Vnyc+lnzulCtWmV755hkWtubkO3Rf5duNM9O7P/o89FwvVsz/K6tTxhjeWZ4IrP\nK094MZVnvCe9LmfW+K28mYX7/4Tn9ekei4X3jPZltsvrk0Vq+++fvwAAAAAAAAAXMPwFAAAAAAAA\nuIDhLwAAAAAAAMAFDH8BAAAAAAAALmD4CwAAAAAAAHABw18AAAAAAACACxj+AgAAAAAAAFzA8BcA\nAAAAAADgAu+9v9KArzDea3WxdhkrrDHvf1hnuZZp/8sa498/lPHa/R/mdbpYZV51vKl17rXDWOV+\n7fJaq65zaqy5pvZsaKh8LffQzTG5Z/wiiwnwr8p74wlj8WNTH3PltkjfPeP9mqZWfkuEwdr2twvQ\nvv/P7FkZqz4XOelZ0ieMVZ69ZaHW2V2w+t7/Ol1uZZ3l2XP7AGjvZSc9Yw/7nz4Aurw+8QVQ9izc\n/utV7rOwZ93d2j9/AQAAAAAAAK5g+AsAAAAAAABwAcNfAAAAAAAAgAsY/gIAAAAAAABcwPAXAAAA\nAAAA4AKGvwAAAAAAAAAXMPwFAAAAAAAAuIDhLwAAAAAAAMAFDH8BAAAAAAAALvB+7a804Gt18fZ+\nZ7HKOtNYYb/qeHNjdb9Z2KP739XZ9qzMa2exvuOVdXa5lbHKnr1OFiqt8TteGWvmWu5d5tVq+39/\nrMnmXpn8pqes5FPqhKcqr/HwtTj3lDqfoXz/71Zz8r54wvv/6BrLb9b0/KGM1SVWn4u8Ttm0Lrcz\n9IylPBOs74wnPUstcytjdWfi9XOp7Vk7S+gMfpqXD4DQJ4xVnrGXjxL//AUAAAAAAAC4gOEvAAAA\nAAAAwAUMfwEAAAAAAAAuYPgLAAAAAAAAcAHDXwAAAAAAAIALGP4CAAAAAAAAXMDwFwAAAAAAAOAC\nhr8AAAAAAAAAFzD8BQAAAAAAALjA+7XeacC9v7JYr6mxwp69VpfXWmu99szc5sZqf/+wh+b2OmGs\nMK8d9/91dhdrzYy1HxCrjldm1lbZ6fs/U11n5Sn9n5tYLK3zKU0D4HnCZ9w+XawwVK58LQjrnPwm\ne8JCy3f2Nq9O/V0yt84y1syzh+94M3Mrz7jSzMIzwbPj88oy2CkfAF2s8vH7yh/m7fxlpKHvGLmh\nRyyfMFY73wAAAAAAAADgH8/wFwAAAAAAAOAChr8AAAAAAAAAFzD8BQAAAAAAALiA4S8AAAAAAADA\nBQx/AQAAAAAAAC5g+AsAAAAAAABwAcNfAAAAAAAAgAu8X/srDbjDeK/97mKtMK8yVljjWoPrfECs\n73jd7ylep6wzzCutsf39yQ5za2PtLtYJY5V5hbHqeGmsXebVabtf9ywLlUrTGlrjWnP32dRYf0e8\n2+kXwL8q740njDWVZ8nvSvdYvJg7TK6sM/3GSb/x2ztG+81UnotkoYZ/lwztWXouUp69dV71wzfd\nHDNvjOGtbK34vJ4fqm9mU19mhx5Ylu3yz18AAAAAAACACxj+AgAAAAAAAFzA8BcAAAAAAADgAoa/\nAAAAAAAAABcw/AUAAAAAAAC4gOEvAAAAAAAAwAUMfwEAAAAAAAAuYPgLAAAAAAAAcAHDXwAAAAAA\nAIALvF/7nQbc+yuL9VphrLDONK8wVh1PrL8Q75S5db/NSGOdmXl9x9szY6U9G1pjFulbl9laOwyW\n5hVGK2PV2jpLU/OaWyc/p/sA3Kp8xp0w1nOU77JzV+CMrbPL64R51d+FbbSwzvIbP9wW/T+shn5N\nhGdca3+6WGm/4tVMbz8z79ln5i2WCdL1DIMN3bPlu49//gIAAAAAAABcwPAXAAAAAAAA4AKGvwAA\nAAAAAAAXMPwFAAAAAAAAuIDhLwAAAAAAAMAFDH8BAAAAAAAALmD4CwAAAAAAAHABw18AAAAAAACA\nC7xf+50GfK2vLNbeXawyr9fqelbmVcd7hb8NaPMKY522/19pz8JYp8xrj4z1Ha/s2cw69wNirfWU\nnnXa7q+1w4BT6yxrHO0JdeY1zmxamtXMEh9D+/mnKffsCWM9RvleFi5Au5ZDi1xr7qZ9yIWZvrMP\nrXNyje07y8xv6fJfUZ8w1lpzv6XTf5KFZ29rP2Q1wzPesR8m9f16ap2pqXeMvyNeJH397IJ9whcD\n//wFAAAAAAAAuIDhLwAAAAAAAMAFDH8BAAAAAAAALmD4CwAAAAAAAHABw18AAAAAAACACxj+AgAA\nAAAAAFzA8BcAAAAAAADgAoa/AAAAAAAAABcw/AUAAAAAAAC4wPu13mnA1/7qYi2xfjNeG6v7ncHr\nzMyrjtfWucNYYY11/09X5w5z22n/Z8Yqa1xrrb3L3DptrLDGtv35elbSnmWR2ljf8e6vc2osAOCf\nzXvBX1F27YSxal2dJ6wz/fbabf93eMZS7o30Oi/PHuLtP/UfW58wVnn29jphZntq92PlNT74AVxe\nm+X5W3v282cYqzX1/Kfs/6fcGOF1+ZA7GQAAAAAAAMDdDH8BAAAAAAAALmD4CwAAAAAAAHABw18A\nAAAAAACACxj+AgAAAAAAAFzA8BcAAAAAAADgAoa/AAAAAAAAABcw/AUAAAAAAAC4gOEvAAAAAAAA\nwAXeX/uPNOBrfY2MtcM599Qa63ivsmdnav/b3z+0dZaxdhir3BddXmvV13nZsy7WHhrrteu17Mzt\nf6fM6zvezFhxmXM9pc6hntD+qTVOzQu4X33/OWGsMrcyr9ITahztKQsQ1rnH1ll/F868m5UneZ+w\nxvpc5BO2vz1jmemTnld+slhrrbX21K6Fmyy9XdRvZmG8sXVOjVXHK89lu+syjRXeL6beeQAAAAAA\nAAD4AcNfAAAAAAAAgAsY/gIAAAAAAABcwPAXAAAAAAAA4AKGvwAAAAAAAAAXMPwFAAAAAAAAuIDh\nLwAAAAAAAMAFDH8BAAAAAAAALvD+Wu804Gt9ZbF2GOsVzrnLGstYa631OmWd98faYb/Wmlvna+0u\n1uli7fj3J2mdYaw9Na9d1tgqe1bmlsYKg/X9D2MN3WdtrHYF5tYZxkpbVl8BnYeUyS3ssd9V9//E\n8bhD+f4Z7rF2u8bvZXMLHeohN7PyZfYMrXHF7+xDy2y/5eK7WbgArzC1Txdq7L/SPvV55Qm7tsvc\nhl6YcVpTz992esY+87x4rfqMt4v1Ce9mU2uceo8FAAAAAAAA4AcMfwEAAAAAAAAuYPgLAAAAAAAA\ncAHDXwAAAAAAAIALGP4CAAAAAAAAXMDwFwAAAAAAAOAChr8AAAAAAAAAFzD8BQAAAAAAALiA4S8A\nAAAAAADABd5f64804Gt9ZbF2OJsu83qVeZ12/p7mFsbaYZ1Ta/yOt7NYO4xV7rOpNa7V5ja1ztcu\n8+r0a9kpcwvb3+aVRfr/8cbus6Gx4gWo1/N2+gUA/Kf6veDE8SZKe2YBfq78mDhtw9Lv/B3mdsqz\nny6vT34u0uV20n02MtRopzzlKq/z/elClXOE+Fr6hPeM8kHXnr2FsdJ+1XWW++zPLFZ5jbczUQAA\nAAAAAAD+8Qx/AQAAAAAAAC5g+AsAAAAAAABwAcNfAAAAAAAAgAsY/gIAAAAAAABcwPAXAAAAAAAA\n4AKGvwAAAAAAAAAXMPwFAAAAAAAAuMD7a/2RBnyF8+Qy1j5fWaypNX7H21msfWbWWdZY93+fMrdw\nLdOezcxrrbm5vXaZV6fdF60yt7D9bV5ZpNnR2sxC5cYYLF3LtGVz+z81s6l5AfDPUT5LThhral7f\nyu+SMLuZoXrlC+jpKp36Xnby78KhV3p6LZXnIu3V9Bl6dyzPuD5hyyb/w23qfbY8+/+EVabPyzX3\nLPUT3n92evZcz0s+XazVxUrvZWFeZf8n3xcBAAAAAAAA+B8y/AUAAAAAAAC4gOEvAAAAAAAAwAUM\nfwEAAAAAAAAuYPgLAAAAAAAAcAHDXwAAAAAAAIALGP4CAAAAAAAAXMDwFwAAAAAAAOAChr8AAAAA\nAAAAF3i/1zsNuE83T36Fs+ky1i7zCvu11lqvtbNYaZ1hXulani6vter+lz2bmVfb/bjOPbPOp6xl\n2P6xdaZ51Qsw1NTrMt//Y4N1hqbVe0ChDyhxrfWcOuHvVl5LJ4xVe0SdjyhycJnl99Lg/qfCb4lz\nZjYt/y5Mz8zKng29APIzxk7Z/U8Y7ZVel1mo3EnPpbpCy7VM84oXsz1L+oSxyv0/c4+t1fa/PBf/\npD3r9sVrh7GySAAAAAAAAAD8GsNfAAAAAAAAgAsY/gIAAAAAAABcwPAXAAAAAAAA4AKGvwAAAAAA\nAAAXMPwFAAAAAAAAuIDhLwAAAAAAAMAFDH8BAAAAAAAALmD4CwAAAAAAAHCB99f5Iw34CufJr7Wz\nWPsMzSuev7e5dbFeYf/TvMJYa9W5dcq80hp33f8yVtmzztS8Zq9lGSvsf9uyVNqzsNCp+2KyuVdm\nZ2ZW3ybnBgD/G+Uz7oSx6mdvmVuZ3Q4za2tsjX2XKj/mztwVaMvsgp10/4d5xRv2k+6NmeeVZYVl\n/8uzn7XatZy5K9b6DH3GrdX2vz0X/GSxyntZ3f9XeHF+ytlj2P9P2LPP6fLyz18AAAAAAACACxj+\nAgAAAAAAAFzA8BcAAAAAAADgAoa/AAAAAAAAABcw/AUAAAAAAAC4gOEvAAAAAAAAwAUMfwEAAAAA\nAAAuYPgLAAAAAAAAcIH3e73TgK/TzZP32lmsVxirzaudv+8ztc6pebXK3NJYXaix+2KtlUZr17Iz\ndS3blax7NrPOumclPfuZfP+nAWeu5WgPKPQBJQJco7xnnzBW6hFF1mWW5wVh0+L+l+HGvv+UL//n\nIRdAGWxwz17h3jjh1XTCs+ey+1NjrbXaLduFStdyl3ssi/StPP8sr6VyjlPm9SrfC9Zan3SW0OX2\nCeeYaV77k8Xyz18AAAAAAACACxj+AgAAAAAAAFzA8BcAAAAAAADgAoa/AAAAAAAAABcw/AUAAAAA\nAAC4gOEvAAAAAAAAwAUMfwEAAAAAAAAuYPgLAAAAAAAAcAHDXwAAAAAAAIALvN/nnQZ8rZ3F2mWs\n08WaWmMdb2qdZcfy/ofhntH/VlpnmNwz+j/3Wpras7RjZcPW3Drre0Ylbv8qKx3bs7HB5vYMAG5V\nPnvDo5+11lr7dLHCUG3P0u/ossrVNu0J6g+T84AFKHsWt2uHAcvrvLzPnrLGMLEyr7Xac8F2Lbs6\nP1mkdi3XmnstvcK8Pum11O7/csZR1vkK9395z/ic7v+6/vkLAAAAAAAAcAHDXwAAAAAAAIALGP4C\nAAAAAAAAXMDwFwAAAAAAAOAChr8AAAAAAAAAFzD8BQAAAAAAALiA4S8AAAAAAADABQx/AQAAAAAA\nAC7w/uN8pQH32mL9QD19n1pnF2mtvWfm9R1vZm5j84oXYGydYawyWtn//lqaaer9Z2q/1opzG7tn\nJ0frPGMt53pKnaVH9OwRRfKXlHvjhLFCDygx94Se1bfFU76zhE0r+9/ui/i9OGxa2rOhF0C//4e+\naJxuAdL9H7crvZ7CPbvDYGWNZf/rSzzcsmlu7bOkXMt2BdJ9Fi5mmdcrvS7b/n/CWGmd6VrOjOWf\nvwAAAAAAAAAXMPwFAAAAAAAAuIDhLwAAAAAAAMAFDH8BAAAAAAAALmD4CwAAAAAAAHABw18AAAAA\nAACACxj+AgAAAAAAAFzA8BcAAAAAAADgAoa/AAAAAAAAABd4v9dXGnCvPTRWJ82rTGw9pGdZpDav\n73hhrDS1qf1vtf2vs2tM7n+p7P/UOp+zlr+dwX+tvv9PNfRR8pDuP6dOAJ6nfMadMFYtrbN8lwqb\nVva/f/cZutOGpvUU5XlB2v7TLubU+88ZesZ4wv6XNa5V93+mcvvn/Q+7dtL7z8w9W+a11lqvdG+U\nPeu0eXWx/PMXAAAAAAAA4AKGvwAAAAAAAAAXMPwFAAAAAAAAuIDhLwAAAAAAAMAFDH8BAAAAAAAA\nLmD4CwAAAAAAAHABw18AAAAAAACACxj+AgAAAAAAAFzg/V5facC9w1irCxamNTav2tQ6p+6xWrtn\ny1jpAqSm9qw0tf91v+b2f6byvtib+SwpTc1rrTX6Op/qKXVOpPfAb6nvPyeOd7uy/5N7n9ZZvuMN\nblqZWvktneb1kAWYep2312X7NEnrDIOdoXfasv95hUP7f8r74uCPuXI9T7qW5Z6demds90a7/ztp\nXmFi/vkLAAAAAAAAcAHDXwAAAAAAAIALGHFAPwoAACAASURBVP4CAAAAAAAAXMDwFwAAAAAAAOAC\nhr8AAAAAAAAAFzD8BQAAAAAAALiA4S8AAAAAAADABQx/AQAAAAAAAC5g+AsAAAAAAABwgfcfe+78\nd68dxursMlhsas9K6VrWVYbhntD/Wrr/hxY6NK2xea21Bl+X99+va2PrnPsoeQT9+l36/xdoGv80\n5Z49YazBtOz31LfYqf1P6wyD1f3aUxcgNfjFIE1t6GKGaY2+/6TX+cw9e8KGnXq/PqH/Y4O14c7M\n9qf7It//oRMuQLovhj5M5k5+AQAAAAAAAPgfM/wFAAAAAAAAuIDhLwAAAAAAAMAFDH8BAAAAAAAA\nLmD4CwAAAAAAAHABw18AAAAAAACACxj+AgAAAAAAAFzA8BcAAAAAAADgAoa/AAAAAAAAABd4v3c7\n/91ptE6bVxdtT23YespatnaZ3cxQqal5rTU4twfsi2/hfTaLNNfoGh+zZ++n//ewlgD/HOU9+4Sx\nnmLqM3PqWub9mroApamLmZv5jX/SPdYu5tT7/x66Z9u1bG8+Q1vW5hUGO/km69bzEWtZ7/+hN6Cp\nPSvz8s9fAAAAAAAAgAsY/gIAAAAAAABcwPAXAAAAAAAA4AKGvwAAAAAAAAAXMPwFAAAAAAAAuIDh\nLwAAAAAAAMAFDH8BAAAAAAAALmD4CwAAAAAAAHCB9x97/3YO/xZ7hXXODDWaOn/ZY/Zsl93sOud5\nTL8ecy3dT//5d7DPLmIxoVFeSyeM9RBTb2WW8uemruVk5T5L+z94McfessNgbfvbaPbsz7TPkrlP\npqnXUrkvztRNFpu7y1onfZh0wc4DVsA/fwEAAAAAAAAuYPgLAAAAAAAAcAHDXwAAAAAAAIALGP4C\nAAAAAAAAXMDwFwAAAAAAAOAChr8AAAAAAAAAFzD8BQAAAAAAALiA4S8AAAAAAADABQx/AQAAAAAA\nAC7wfr/2b+fw35LZz83N7Bn0/4cGN2xwavwi+4J/GnuWv51NBvyWp9x/zm8n8Pd7ylJO9YAtttay\nz35b2f/zkMV8SJmZ9l4Wd3/qjXboJpvarqcY3f9dZtddAFN75p+/AAAAAAAAABcw/AUAAAAAAAC4\ngOEvAAAAAAAAwAUMfwEAAAAAAAAuYPgLAAAAAAAAcAHDXwAAAAAAAIALGP4CAAAAAAAAXMDwFwAA\nAAAAAOAC7z/2/u0cgL+Zqxzgb+QmCwD8Xbxn8DcbvcXObyfARKP3LPxXhm5at1j+eYZeTEP55y8A\nAAAAAADABQx/AQAAAAAAAC5g+AsAAAAAAABwAcNfAAAAAAAAgAsY/gIAAAAAAABcwPAXAAAAAAAA\n4AKGvwAAAAAAAAAXMPwFAAAAAAAAuIDhLwAAAAAAAMAF3n+89m/n8G9xfjuBpxu6AEPTgn8L+/+3\nWQGey+4HAJ7mGadvMU27iMX8TbrPk43d/2MTe4YntN8/fwEAAAAAAAAuYPgLAAAAAAAAcAHDXwAA\nAAAAAIALGP4CAAAAAAAAXMDwFwAAAAAAAOAChr8AAAAAAAAAFzD8BQAAAAAAALiA4S8AAAAAAADA\nBQx/AQAAAAAAAC7w/iMe/56xwTpD08qlde4y2FznKZsjol0/V/bsIZdl2rR2zz5mBUZy//kruq7Z\n/b/L/gd4Js/fm1jNn9Kxe6RraWP8mJb9nJ79zNawH3tKy8bWGSZW1uifvwAAAAAAAAAXMPwFAAAA\nAAAAuIDhLwAAAAAAAMAFDH8BAAAAAAAALmD4CwAAAAAAAHABw18AAAAAAACACxj+AgAAAAAAAFzA\n8BcAAAAAAADgAu8/4vHvOWGw3YUq0yrleYUBH9Oz0An37BPWsvaEOtN77GBpmeF1OfQSn23ovaxc\ny6c4j+na/Vfn1JW8v/PAU0y9zz7DM7r/jCrnSvv/kMV8QplPqHGttfYDCn1AiWutufeyyf2fmtvU\ntfwbwmXG5hUm5p+/AAAAAAAAABcw/AUAAAAAAAC4gOEvAAAAAAAAwAUMfwEAAAAAAAAuYPgLAAAA\nAAAAcAHDXwAAAAAAAIALGP4CAAAAAAAAXMDwFwAAAAAAAOAChr8AAAAAAAAAF3j/EY9/zwljdaFS\no2vcXagyt7JnpTqtoWXK6y8Yu2fDa7xUt6ssc+papjWGsXJD92wqXoCp6/mEpVxrrTO20qk7o1N3\n/v6OAZWpd/7ZZnZtZlbPkfd/6IIOTSv3hDr34CKnpjY2r6mJrcE9Gxqs7tfY/g/uWanMbep1PrVG\n//wFAAAAAAAAuIDhLwAAAAAAAMAFDH8BAAAAAAAALmD4CwAAAAAAAHABw18AAAAAAACACxj+AgAA\nAAAAAFzA8BcAAAAAAADgAoa/AAAAAAAAABd4/7HbgCeMd7pQ64TBpta4VltnKe1ZuZZdqD7eA3o2\ndLuutebmNrX/O25Ymtvge3ZmbGLxWoaxSuUzbq24zqH3/8nK/rc9m5vZVDoGd5v6XjDbzK7NzGq2\ntGeDF2BwapnJNZbf0qWhafV5hQHL3Mb2f2pia27/p/asTmtqz4a2P98XT9j/U2v0z18AAAAAAACA\nCxj+AgAAAAAAAFzA8BcAAAAAAADgAoa/AAAAAAAAABcw/AUAAAAAAAC4gOEvAAAAAAAAwAUMfwEA\nAAAAAAAuYPgLAAAAAAAAcAHDXwAAAAAAAIALvP8jHv9+wlinjBUGm5rXWmud3cX6TO1ZWGPe/zZc\nJu3/0Fhrxdd5uM9KU+8/db/KcGXP9tD7Ytqw2tAbY7ovwli18tpM65x6LcWm3ssmZzaVjkFj8jNz\nrpldm5lVL61zaNOGppWbWueemthqezb1Whrc/rb/D+jZ1H6tNfdamnr/qdOauv/LWK+hNa41uP9D\n8yrHtf75CwAAAAAAAHABw18AAAAAAACACxj+AgAAAAAAAFzA8BcAAAAAAADgAoa/AAAAAAAAABcw\n/AUAAAAAAAC4gOEvAAAAAAAAwAUMfwEAAAAAAAAuYPgLAAAAAAAAcIH3H6+TBiyjfc7OYoWh1ics\nssxrrbVOmNsnzK3Mq9xjo/vfhWp7NjTW3xGvkvZs6P0nX8swYHmZ1/eMyo4XIA03tGdjbxirTS3d\n/2GsMrHR+z80di0HZwbwe2a+AM3MqpXXOLRpQ9Mam9daa+2hyZVpTd7/o+uM1Htsas/KOq3lL8cK\ng5X/MNT/n3tK/19D7z+v8GAqzSuMBQAAAAAAAMAvMfwFAAAAAAAAuIDhLwAAAAAAAMAFDH8BAAAA\nAAAALmD4CwAAAAAAAHABw18AAAAAAACACxj+AgAAAAAAAFzA8BcAAAAAAADgAu//eJ004GftLtbp\nciur/ITBylhrrXV22f8s1DpdWm1eXag8XtiyNK+psep4aayh19LUGteaW2e+aSvlDWOtuXWWyj0W\n92vq/X9qXvX+34PfMypj1xKAf1G/5k2U1ji4YVNTm5rXWmuFR1xj6yzzKvtVm1pnmlcYa61n1Dm2\nxvobc2qsMFj5D8PJ/X8N3bNtXu1XfpnbE/r/Cvvvn78AAAAAAAAAFzD8BQAAAAAAALiA4S8AAAAA\nAADABQx/AQAAAAAAAC5g+AsAAAAAAABwAcNfAAAAAAAAgAsY/gIAAAAAAABcwPAXAAAAAAAA4AKG\nvwAAAAAAAAAXeP/H66QBP2WsMLU01t5drLb963O6gJ+uzHVO2LMwr7r/ZbiwzDSvMlbe/3LPdqHG\nxkr7X27YtdpCS2GdO6wxb1e9npHwEdeWGPdrap1Tbxmj9//Ue9lYz3iY2GL80wx9LYg9o8qxBrd/\nampj84oTe0KdZY11v6Z+M03t2eT9/5ra/6l5hbHWekb/y38Y1tdS2f+2zu5rrsyr7Fcd7xV+Aad5\nTa0xiwQAAAAAAADArzH8BQAAAAAAALiA4S8AAAAAAADABQx/AQAAAAAAAC5g+AsAAAAAAABwAcNf\nAAAAAAAAgAsY/gIAAAAAAABcwPAXAAAAAAAA4ALv//g6acA/Txfvc3YYKwu1/gxjfboSv+OVuYX9\nP7vcF1mo9VntApTr+UrrnBkr3v5pbuGtbIWXUrr/X2FeZb/WantWpjZ1X+Ti9cwM3bP5Uj6gznKL\n1f2fmtsDLsuxNQL81OTXvMrUGqfmtdbc3HaY2NQa15pbZxorXoAn1Dm1xrXm1lmeJU3dF/W/5abm\nlq7l0BrXWusVziWm7v+pNa7VrufX0DrL/n8NvpYAAAAAAAAA+AWGvwAAAAD/j317S3Ikya4seu0B\njyrOf6wUVoUD6I+oryYpzWjZydRUrDWAI1fVDOYwPQ4AAIANKH8BAAAAAAAANqD8BQAAAAAAANiA\n8hcAAAAAAABgA8pfAAAAAAAAgA0ofwEAAAAAAAA2oPwFAAAAAAAA2IDyFwAAAAAAAGAD99f5SgOf\n7yPMyqLmFWadi841M/Oabv9fRzdceS2PcI1HuMaZmTLuna4zi0rX2D59Jtyxdrb4Y54p56rXmN4b\n5XDlTbbqjTHzGesM1/iO11hu/6rr/IRbbGY+aKEAfJz0C8u6Vl1m+o7fReVWXWeatega67xV11nO\nVf/CatU9O83128rZ0qwuKj1jL9c4067zDNd5LXotyzX+yuuyrkXvs3KudI1ZEgAAAAAAAAB/GuUv\nAAAAAAAAwAaUvwAAAAAAAAAbUP4CAAAAAAAAbED5CwAAAAAAALAB5S8AAAAAAADABpS/AAAAAAAA\nABtQ/gIAAAAAAABsQPkLAAAAAAAAsIH763ylgc/3sX3W+c6i5hVmzcw8F53tmG7/X0c32Cu8L2Zm\nyk/Ta7p1lqssr2W7++3+l7Oln/NwsHf5vIgvZvmcLT/mq17L8HHR+5R1hlZd5rHo86e26i276lxr\ns2uwt/ptYn+r7tiqc9XK71KrqpfYnmWEWWHYqmucWXed56Jz1Z/x8hdb5WzlXOm1XHSNM+06z/Bc\nfNVrWWb9yltzz65yrnDPyrlm1p3tE7L88hcAAAAAAABgA8pfAAAAAAAAgA0ofwEAAAAAAAA2oPwF\nAAAAAAAA2IDyFwAAAAAAAGADyl8AAAAAAACADSh/AQAAAAAAADag/AUAAAAAAADYwP11vtLA5/vI\nsr7DrHPRrHK/ZmbOd5f1DLOOMOtVrrGLmpmZ8moeYVo7V3cByjXOxPdZO9qSwu2Kw2bKR2P5zDgX\nnSv+KOXXc3sfsv+LjvUp298udNFFfsy1BJbzAV/9f/mAhX7AEmemfscPs+ILsOw6V81aeP/Ld+lP\nmGsmni3MKn9JVq5x1bl+5XVvJuvu2ZprnJm5Fp2tnOsq74vygH3qda6ZdS86l1/+AgAAAAAAAGxA\n+QsAAAAAAACwAeUvAAAAAAAAwAaUvwAAAAAAAAAbUP4CAAAAAAAAbED5CwAAAAAAALAB5S8AAAAA\nAADABpS/AAAAAAAAABtQ/gIAAAAAAABs4P66nmng96vrk8/3kWU9w6x0jVnSL895Z1nHdHvWJc28\n0rm6/ZqZeS46W3ktW+3+t3faosIte4XbVT/LXuE6j/K2COc6w7nK/ZqZ9qNUzhbO9a73rLTo/qdP\n2A+5loteymXnAuA/W/UNZ9W5auW7xLJ7tuxgrVWv5apzzbTvrJ+wZ+V+zbTrLM9synWmWV3UnEf7\nllOu80r3rFtnu8Z2/9M9C2cr19lmZVH/yutmu89XlrXq/pdr9MtfAAAAAAAAgA0ofwEAAAAAAAA2\noPwFAAAAAAAA2IDyFwAAAAAAAGADyl8AAAAAAACADSh/AQAAAAAAADag/AUAAAAAAADYgPIXAAAA\nAAAAYAP31/lMA8/jnWU9X103/f0+sqwuaeYM56rzwkuZZj3LuV5d1szMEV7OZ3otw00LPwHt3T8z\nE66z/Gz2C22E2/WK15j+Z9Kq6yyfZfU9tuYjY8pHWbpn5X4t7EOWmT6yP2XP+PO4X/nvrPr1E/4r\n7tffV+7Zqlkzf8B7TqScK93/eL9Wna08LzjLa7nwuUi5zjSri0o7iau+lmHeFa5z1bmu+M3kDG+0\ndJ1h1r3oXHXefXZlTrpn6Vxdll/+AgAAAAAAAGxA+QsAAAAAAACwAeUvAAAAAAAAwAaUvwAAAAAA\nAAAbUP4CAAAAAAAAbED5CwAAAAAAALAB5S8AAAAAAADABpS/AAAAAAAAABtQ/gIAAAAAAABs4P5x\nPdPA8/XOsr6nyzreXc9dNubf7yNMmzle3XTlZKtmPc92/+fd3bOtcp3lGuP9T4XrLD/nq25ZfOu/\nwqwj3LMzXOervC1WffTM5zwxVpV+zQgvZnotP+VPeWnR+2JtNg0a/pr/Nlv2W8rv/jMLb/+ir5j1\nfq08W2XlNabv0l1UOle5Z/UvrMojyzSri5ozPMy4Ft2vmZkrXGc5WzlXm5VF/StvzXXeq851lqey\n8TrD2e4jzArneoRZfvkLAAAAAAAAsAHlLwAAAAAAAMAGlL8AAAAAAAAAG1D+AgAAAAAAAGxA+QsA\nAAAAAACwAeUvAAAAAAAAwAaUvwAAAAAAAAAbUP4CAAAAAAAAbED5CwAAAAAAALCB++t6poHH8c6y\nziOLmvPVZX13UXO8w0XOTJmWzvbqso7wfxba3f8MR7pr3fPil1WvaLjO8nO56nbVwu0PH2UT/rns\nL+Wi61z18RP/KU9nW/VjXj/9P8Git//S7BnsbdW/cSuzZ3+u9LwmzErFg6V7tuir9Kpz1XnlOstf\nMqVnz/EFSGfrouYMX/KvRff/Sg8y6nWW+79m1h1/ltp1diXTfZZ7FmaVRdqsO1ub1XWsj3Auv/wF\nAAAAAAAA2IDyFwAAAAAAAGADyl8AAAAAAACADSh/AQAAAAAAADag/AUAAAAAAADYgPIXAAAAAAAA\nYAPKXwAAAAAAAIANKH8BAAAAAAAANnB/Xd9p4HFcWVbZTB/zXjPrvXD//upmO8JlHu9XF/Y6uqyZ\nKe/a8j5b1Xvq/S/3rJutvZJh2nvVNc4c4a1R3mVHuNB0roU/Suls5e3fReVPslL62Vz0WubK58+i\n92zpU24LgN+x8neDSrrGT9iwmWXXmb6XhFm1Vd+/Vp1rZt17I93/Ra/lTHsufoYvJme40DLrWnSN\nv/K62cp13ulcWdRcR3j2PzP3ueqehXOd3Z49wqyZmTu8nquu876eWdbj7LIWbh4BAAAAAAAA+J9S\n/gIAAAAAAABsQPkLAAAAAAAAsAHlLwAAAAAAAMAGlL8AAAAAAAAAG1D+AgAAAAAAAGxA+QsAAAAA\nAACwAeUvAAAAAAAAwAaUvwAAAAAAAAAbuL/u7zTweL67rAmzjivMyqJmXmFWrFzm8Q7TXuH/LNT/\n/vDq7tnyCpRT1Wmtcs+6db7TT1OnXONZrzG8zdJPZbjMcsfO+GNZ/mkq17nqtawfi+WfzGPlR/YH\nsP0A8P+Wnj2EWXXeqlllWL7/a75KL3st6yOu9P130fus3LMzvl+P8GWunK3NWnONV/wiXeZd6TrL\nrG6Nd3zIdaezdSdmy84VZs3MPMK8x/nMsu4w63GtmeWXvwAAAAAAAAAbUP4CAAAAAAAAbED5CwAA\nAAAAALAB5S8AAAAAAADABpS/AAAAAAAAABtQ/gIAAAAAAABsQPkLAAAAAAAAsAHlLwAAAAAAAMAG\n7q/7Ow085h1mdY4yLNXt10y7Z6lX+H8GR7dn7e7PzPnqssI9W/cuayd7h3HvcJ3vdJ3lXKU4LXxo\np//llD80Gq/44Z/+/Q33LP1bnj4vWosuk42k95gbFuA/C5+Ny77js42V77FVzwWXnSu+mOW7dJq1\n6J6d8ZfZZfc/XOeqc13lQcbMXOF9Vs5WZt3hmXi9/3e5zkX37BFm3eczy5ppZ3tc3WyPcJ2Pq+tY\nH3c3l1/+AgAAAAAAAGxA+QsAAAAAAACwAeUvAAAAAAAAwAaUvwAAAAAAAAAbUP4CAAAAAAAAbED5\nCwAAAAAAALAB5S8AAAAAAADABpS/AAAAAAAAABtQ/gIAAAAAAABs4P66f6aBx7zLsM53mPUhwiuZ\nKud6v9b9/4f30a102Wv5Lj/kM1caV+5/Odiac9X32BkGlrOVV/IIw8LHxa+8D8hK74v2UTbv8qvU\nopuWPv5X/SMHAPz1ld/Zu6j8+2dl1blm1n0vWTVrJn5n7aLSrPJUsL7/zzDvDA8NyrmucK7yTLA+\nLW7XuX/WHR9yXecry7qXzXpmWY9wrpmZx1XOFmbdXWH4dXVZ5VzrNl8AAAAAAAAA/I8pfwEAAAAA\nAAA2oPwFAAAAAAAA2IDyFwAAAAAAAGADyl8AAAAAAACADSh/AQAAAAAAADag/AUAAAAAAADYgPIX\nAAAAAAAAYAPKXwAAAAAAAIAN3F+Pn3/2DH8932HWO8zKHV1UuM53OFb97w/vVxf4PrpNK2+zMusq\nr+XU6+yGK2+zco0Lf5TmHa70CFda7ln4EU/nmpk5wsBP2LP6T/nKs1Xqe3ZZi17MVe8LAP5Y6fey\nVb8vhll/RN6KVl7jqvdGev8v+lmq85bds/Al84wvwKp7Vq6zzequ5VUePsy6s62adZ+vLGtm5j66\nvDLrEa6zzXpmWXXe4+6Kua+ry0rnCvtav/wFAAAAAAAA2IDyFwAAAAAAAGADyl8AAAAAAACADSh/\nAQAAAAAAADag/AUAAAAAAADYgPIXAAAAAAAAYAPKXwAAAAAAAIANKH8BAAAAAAAANnA/Hj/TwHea\n1knnCsPq/Srz0qx0z44u69VegffR5b3PV5f16v7PI70vuks5M+1/s5TrPFe9/8NVlnPNTJq26n1R\nrvGIP0ur/jFfdc/CR//MrHufLXpbsJEPeZQBC6qfP/BHW/WeredKv7N3Ucuq3wvT968wq3zHX3WN\nMzNn+G223LN0rvBletWsmZkrzEuzwrPne9E1zszc4cHsXe7Z+Vwz6+qyZmYe1/eaWXeYFXasZZZf\n/gIAAAAAAABsQPkLAAAAAAAAsAHlLwAAAAAAAMAGlL8AAAAAAAAAG1D+AgAAAAAAAGxA+QsAAAAA\nAACwAeUvAAAAAAAAwAaUvwAAAAAAAAAbUP4CAAAAAAAAbOB+PH6mge/3EYZ1WeVcadaE+zXrzrbs\nXFlSn/d6df+b8T66yco1vo/4/i+zwrCzfCyGq/yUz1K5Z0e4Z+XdH37Ef+UtmlV+xShvsvZJNlM+\nGstn2apz5RegfqABAP976u8Fofj1N1POtegSf1l0natmzcT3RprVfWEvz2vKrDrvXHXPuqi5wrnK\nrF953f4vm3W+sqw7zKrzPiHrcT2zrJmZO8wrZ3vc32tmhX2tX/4CAAAAAAAAbED5CwAAAAAAALAB\n5S8AAAAAAADABpS/AAAAAAAAABtQ/gIAAAAAAABsQPkLAAAAAAAAsAHlLwAAAAAAAMAGlL8AAAAA\nAAAAG7gfXz/TwPf72D9r1syaWXid4VyvMuto9/91vJfMepdzZUkzZzjXTPvfLGd4a5RztZ/LLGpe\n017LI1xn+Slvr2WnfZLNlI/GcrbykVHOFf5Z+ldgF5WuM8yqt6zUPs3YRftZWvWTCf+dNb+XwX8l\n/14c51VWnaseLH2XKLPK96VF373qvPJdetn7Iv5etuwZV/hi/glZdd4l6/8jrzvNvs81sx7XM8u6\nw6yZmcfd5T3u7yzrDrMej65jLftav/wFAAAAAAAA2IDyFwAAAAAAAGADyl8AAAAAAACADSh/AQAA\nAAAAADag/AUAAAAAAADYgPIXAAAAAAAAYAPKXwAAAAAAAIANKH8BAAAAAAAANqD8BQAAAAAAANjA\nfX/9TAPf72P7rNeic9V55TrLrLuca9r9f73DrCO8z45usPS+COeamTnD2c7w1ij/y+ad3mNd2Bl/\nlso7o83q0o5wz9rdnyk/muVsn5BV55X3/6pz1T5lnZV0v+oP0ydcAKARP3/qx9nuPmW/Vl3np3wv\n/ois+lkW5h3l+UN5XrNo1ky8Z1nSunvWrrF9kbjKrHC2NuvVZZ1d1szMHeaVs93ns8u6uqxHmDUz\nc1/fXdbdZT0eXS/6CDvWsq/1y18AAAAAAACADSh/AQAAAAAAADag/AUAAAAAAADYgPIXAAAAAAAA\nYAPKXwAAAAAAAIANKH8BAAAAAAAANqD8BQAAAAAAANiA8hcAAAAAAABgA/f942ca+H4dWdbr1XXT\n73eZ1a2xzJqZeZX7f4ZZ4TrLrLve/3TPXl3W0c11Hu8s68qSfnmFs5X/GXN2Y034EZ9zyvs1i5qZ\nmWO6wCNcZ/nEaJ8+rY9YZzlYfP+Xwsf/vBde56rS+3/Re9ZtAfDHSr+XhWHLfsf7EOW1XNqi6/yI\n96VZd51tVnn20AqPGOdIz8vCrHKu8rwyzJpZeZ3d2fMVHn7e4VwzM9fZ5d3nc/+s6zvLmpl53F3e\n49Fl3WlW17GWfa1f/gIAAAAAAABsQPkLAAAAAAAAsAHlLwAAAAAAAMAGlL8AAAAAAAAAG1D+AgAA\nAAAAAGxA+QsAAAAAAACwAeUvAAAAAAAAwAaUvwAAAAAAAAAbUP4CAAAAAAAAbOC+vv6ZBr6eR5Z1\nv7pu+h1mvRbNqvNe7zLrtWhWd7/OzNxh3usMs8o9O8K5sqRfruOdZb26qDnDPTvDucr9P8O9n5l5\nTbdn5ae8XGY6V5iV54Vhn3At67z2k9kJH4vzXnWRAMBfXvmdZVWf8l6SXstV33HCrDpv1WtZZtXn\nIuWelafP4XHlnOEba3kmWF/Lcrbr6E7zrvCQ8U7nak+M7zAvzbrKrOeSWTMz9x3Odn93WY+fWdb1\nVWZ1fa1f/gIAAAAAAABsQPkLAAAAAAAAsAHlLwAAAAAAAMAGlL8AAAAAAAAAG1D+AgAAAAAAAGxA\n+QsAAAAAAACwAeUvAAAAAAAAwAaUvwAAAAAAAAAbUP4CAAAAAAAAbOC+fvxMA9/Prk9+v64s6/Xq\n5rrCrDvMmpl5LrrO6zy6rHe5xm6umZnXEc52vLOs1xlmvV9hVvcZn5l5hXt2Ht29cU45VxaV/vfP\n691+ltLZwv0/wvviKOeadv/LtPBj2PRYFQAAIABJREFUGa9yYeVCF93/cKz8vkgfZ+VCAWBX4d/e\nlb8vLjvbsoO10necMqu8/+NreYQvc+k6yzOWLKn/KJ3pGdeqWVlUOld7WjlzHd1Z6hWe8ZZnz21W\nt18zM9dZ7v9zzayry7rvLmtm5rq/u6xH12XeX91c91c3V9nX+uUvAAAAAAAAwAaUvwAAAAAAAAAb\nUP4CAAAAAAAAbED5CwAAAAAAALAB5S8AAAAAAADABpS/AAAAAAAAABtQ/gIAAAAAAABsQPkLAAAA\nAAAAsIH7+ts/08D3s+uTX88ry7oXnesVzjUzc1/hOl9rZj1fzyzrOo8sa2bm9X5lWde7m+15dFnn\n8V4ya2bmnEXXGV7L8pY9w+2PP0rTfZLadZZzlVsWb39q1dnS/Y8XWT4ay9HaJzYAAP+/Vn2XyL8X\nt3GZT5lr1fusPEkt79n6XKRcZ3qW1EXFZ4xZVH9euehZ6nWE59jnmlkzM9fRdQl3ONt9hXOFWdf1\nnWXNzNx3l3c/uqzr8bPL+hFmhX2tX/4CAAAAAAAAbED5CwAAAAAAALAB5S8AAAAAAADABpS/AAAA\nAAAAABtQ/gIAAAAAAABsQPkLAAAAAAAAsAHlLwAAAAAAAMAGlL8AAAAAAAAAG1D+AgAAAAAAAGzg\nPn/8Mw28fl5Z1us7zHp2WVc41x3ONTPzfD6zrOvV/W9AmXWHWc/3K8uamXm+urzrCPf/eGdZzzDr\nDLNmZs53ONscXVa4znLLjqNbY3wp55hwz8p1Zknxteyi8rxls8qw+P7/BCtv/8qzwR+p/lvi/v89\n9f7DX8nK9//Ks32C8jv7su8li2bVeem1TO+L8OwhS/pX3qLrLM+4yl+lnYuusc4rz3jLrPMIz8TP\n9rz+DvOuK+xeFs267y5rZua6v7usR5j19XPJrLKv9ctfAAAAAAAAgA0ofwEAAAAAAAA2oPwFAAAA\nAAAA2IDyFwAAAAAAAGADyl8AAAAAAACADSh/AQAAAAAAADag/AUAAAAAAADYgPIXAAAAAAAAYAP3\n+eNnGvj+eWdZ13eX9fr+zrLu7yvLej27rJmZO8x7vrr/DbjCua7r1WW9uqyZmevs8p7vLut8H1nW\ndXRZz+OdZc3MnGFemXWE+392UXO8wzWGc82092z5KT+m3LNujeVcv/LiCxpJpwq3rN6tMi/NCsPC\nx8/Syv3/kC1L2X/Y25rfVj6H/f995XepZb8vhlm19J21vJZpVvxemN6z4bt0ltT+Kirf/3DP0rOk\nLmrZc7wya2bmSmcLz4vDc+zyTPwK1zgTdwnlOq9nlnXfXdZ1dz3azMz96PKuMuuryyo71jQrSwIA\nAAAAAADgT6P8BQAAAAAAANiA8hcAAAAAAABgA8pfAAAAAAAAgA0ofwEAAAAAAAA2oPwFAAAAAAAA\n2IDyFwAAAAAAAGADyl8AAAAAAACADSh/AQAAAAAAADZwn3/7mQa+f95Z1hlmXWHW8+eVZV13N9fM\nzPX93WWd4TqvZ5f1Cuc6X1nWzMz1endZx5pZzzDrDLPqvFWzyi07j6PLai/lvLrRJoxK9z+dK8yq\n8+rZKqvOxe+rr2X8OAMA/hf5jreXVa/nqu9Ln/JeGB5lpFn1L6zO9FxkzTOuT8iq81Y9L06z6vP6\nMC/tONK5wk7o7tY4M3Pe4WyPLuv86nrR80eYFfa1fvkLAAAAAAAAsAHlLwAAAAAAAMAGlL8AAAAA\nAAAAG1D+AgAAAAAAAGxA+QsAAAAAAACwAeUvAAAAAAAAwAaUvwAAAAAAAAAbUP4CAAAAAAAAbED5\nCwAAAAAAALCB+/jxSgPPf/zssr7uLuufXdb16LJe399Z1szMdV9d1vezy3p2c51nONfZ/v/DdXaf\np/MVZh3dOs/jvWRWnbdu1pFlHe9uriOca2amvDWOWXOd7RrXVc626jrrudK8MmzRe/ZdX4D2T1Nm\n0UsJwF/Iqt+lUvEil92zcLBP+L4+8xnrXPm9pDwySN/xs6R2jTPtOs9wtnXPy9bMqvParO7suTwT\nL7Nm6i4hXOcVznWXWXFf9ehmOx9l97hmVtnX+uUvAAAAAAAAwAaUvwAAAAAAAAAbUP4CAAAAAAAA\nbED5CwAAAAAAALAB5S8AAAAAAADABpS/AAAAAAAAABtQ/gIAAAAAAABsQPkLAAAAAAAAsIH7+NuR\nBh7/+M6yzn+GWV9h1s8y686yZmbO65llXatmPa8u63xlWTMz59HlXec7yzpf3Vzn0f3PyHl0a5yZ\nOafLK5+Mq2adYdjxbq/lkc7WhaXXsv3zm4o/mktaePvT4cprWe7ZyrfYJ6yzfP7Ej38A/i8rf2es\nfMASZ2bd98KVL8DCo2VWvpbpe3kXFb+Xl+dI8RnXJ+x/mFWeCebnlWHesmfP6VzteX2Zt2pfUnZC\n591lzcycj0U7vjDr+BFmhX2tX/4CAAAAAAAAbED5CwAAAAAAALAB5S8AAAAAAADABpS/AAAAAAAA\nABtQ/gIAAAAAAABsQPkLAAAAAAAAsAHlLwAAAAAAAMAGlL8AAAAAAAAAG1D+AgAAAAAAAGzgnh93\nGnj8+Nll/aPLOh+PLOu6v7OsZ5g1M3Pd3fW8rmeWdZ6vLOsKs8q5ZuLZXuGeHd3/eZzHe8msX3ll\n1prrLLOOd7dhR7j3MzPlrVHOls414bWc9gIc5X0WzhY/MjL1/R/eGvzZyntj0fuivv1Li24ZsKD6\nWbbyszHzEYvkd+Xfi0PlaOk7Zvru1WrfWTvp/ndR/blImLXquVSblUX9AeeVXd6V7pnz+t+Vdhxh\n93LdYY+T91Vd3vnoso6vsMf8Ed6zP7oe0y9/AQAAAAAAADag/AUAAAAAAADYgPIXAAAAAAAAYAPK\nXwAAAAAAAIANKH8BAAAAAAAANqD8BQAAAAAAANiA8hcAAAAAAABgA8pfAAAAAAAAgA3c87cfbeJ/\nfGdR59czy3o/urmOMOu6uzXOzDyvLu+8X1nW9R3OdYZzhVkzM+f57rKObrZ0rleYNV3WzMxxlPvf\nZR1ZUpxV7te7nGzlPQvDwtu/3f2FhQtN96x9lH3O9YzU+xVfTv5Miz6zgYg/mPwX3Ba/b+U9S9+/\nVl5oZOUlltdy1dui/oVVeWaz7J6VayzPuOIv/+U6P+HsuT+vD7uERbuXM5yr7qvKLu0ss8LucX6E\nT8awr/XLXwAAAAAAAIANKH8BAAAAAAAANqD8BQAAAAAAANiA8hcAAAAAAABgA8pfAAAAAAAAgA0o\nfwEAAAAAAAA2oPwFAAAAAAAA2IDyFwAAAAAAAGADyl8AAAAAAACADdzz40caeHz9Rxf29Z1FHWHW\n+Xh2WXeXVeedV5n1yrKuMOv8fmdZMzPnEc52drOdr3Cuco1H+/8n59Ht2ZEltXOla3x3qzym/Swd\nRzhbOFq5zlXXONPe/6tmfYpV9z+8/ecd3/+lcs8WXiYAH+hTvpeV31lW/V72KVbd/1WzZur7f83z\nmlXX+Cuvs+y5VJa07hp/5S16LluePadrbPc/7RLSrDU7pryvCru0suM7vsq57iyr7Gv98hcAAAAA\nAABgA8pfAAAAAAAAgA0ofwEAAAAAAAA2oPwFAAAAAAAA2IDyFwAAAAAAAGADyl8AAAAAAACADSh/\nAQAAAAAAADag/AUAAAAAAADYgPIXAAAAAAAAYAP3+8ff0sDjx793YY/vLOoIs847nOt+ZlkzM+fV\n5aVZ5yvMWnOuOu883rJ+N2/WnO0os7Kkeo3lZDPHu5wti5rj3YWlO9Zu/8QfzSWVWxZvPwAA/CXV\n34s/4Xv20u+Fq2alZyxrnj3MxGc2WVK7/+kZ46JngnXeslnp2X99Xr9ml7Bqj5P3VWWXFnZ88+ii\n5kcXVva1fvkLAAAAAAAAsAHlLwAAAAAAAMAGlL8AAAAAAAAAG1D+AgAAAAAAAGxA+QsAAAAAAACw\nAeUvAAAAAAAAwAaUvwAAAAAAAAAbUP4CAAAAAAAAbOB+//hbGnh8fYVZ/+iyHq8w65llnfd3lvUr\nr1vneZVZ4Z6d4Vxh1szMebzDrHCd6Vxd1hFm1XnHhHuWJcVrfB9dVpbU58n6c33KOkufsk4AAP58\nn/Ld8xPeS7yX75NV55VnSekZV3j2lp6XxeeVq57LLnv2XJ/Xl11C2XGU3UvZCcV9VdmlpR3fV/g0\nCzvRsq/1y18AAAAAAACADSh/AQAAAAAAADag/AUAAAAAAADYgPIXAAAAAAAAYAPKXwAAAAAAAIAN\nKH8BAAAAAAAANqD8BQAAAAAAANiA8hcAAAAAAABgA8pfAAAAAAAAgA3c76+/p4Hvrx9Z1vH1713W\n42eXdX+HWc8sa2bmvLq8NOt8bZ9V553nO8s6ji7rXDTrV96aWeX+h2O1WfG1PI5uunS0ctPSLVt3\n/+e96gXorDnVL+lsy97/rQ9ZJgAsY+XvUqnyHbOLSq06V688r8miZulvn4ve/+X+5+ciq2al54JZ\nVJxVn1cuesYbnj1/znl9mLVoj1P3VWmX9gjvja9HFlV2omVf65e/AAAAAAAAABtQ/gIAAAAAAABs\nQPkLAAAAAAAAsAHlLwAAAAAAAMAGlL8AAAAAAAAAG1D+AgAAAAAAAGxA+QsAAAAAAACwAeUvAAAA\nAAAAwAbu94+/t4lfX13W4xFm/cyijscryzrvZ5Y1M3OEeecVrrPMOt9hVjfXzMx5hLMd4Z6Fcx3l\nGqfLmpk5wrw2q1Puf5r1LlfZ7lkZFm7ZHIvOVUvX2UUtvWepD7nPPkF5/7uUfy7Xkr+a9lsefybX\n8s+16jvOytp36TWzSvVYq77Lpe84XdQfsP+Lnv9kSeue4+Xnlel58f5nz/l5fdklLNqXpJ1Q3VeF\nXdqEdWHaPYadaNnX+uUvAAAAAAAAwAaUvwAAAAAAAAAbUP4CAAAAAAAAbED5CwAAAAAAALAB5S8A\nAAAAAADABpS/AAAAAAAAABtQ/gIAAAAAAABsQPkLAAAAAAAAsAHlLwAAAAAAAMAG7tfX39PA8+tH\nlnU8Hl3WfYRZzzDrlWXNzBxXl3ecn5D1zrJmZs5wtvPoZjuPNec6wqw6L82aMquzatavvHLPwud/\nlrRu1h+Rt6SFF5mO1j5mMyvf/+8ycNH9B4ClhH97fS/+fcfKX8w+4AJ8yvavm7XmeU2dt+yerXqO\nF59XfsIZb3kmXp/Xr9tLhFllJ1T3VWmXFj7Nwu7xHXaiZV/rl78AAAAAAAAAG1D+AgAAAAAAAGxA\n+QsAAAAAAACwAeUvAAAAAAAAwAaUvwAAAAAAAAAbUP4CAAAAAAAAbED5CwAAAAAAALAB5S8AAAAA\nAADABpS/AAAAAAAAABu4319/TwPfjx9d2OMRZl1d1v3Moo6ry5qZOcO883qtmXWGWUeXNTNzHG9Z\nv5WVRc3MzDlrztZmhWvMktq5fuV10x3vdrYl1R+mcMvS+yzMKq06FwAA/G9a+XvxJ7yX9IOV79Ll\nWcaqZz/xuUiZtehZXpm16pngr7xVz2XXzKrP69MuYdW+JOyE6r5q7vDZWHZ8YfdYdqJlX+uXvwAA\nAAAAAAAbUP4CAAAAAAAAbED5CwAAAAAAALAB5S8AAAAAAADABpS/AAAAAAAAABtQ/gIAAAAAAABs\nQPkLAAAAAAAAsAHlLwAAAAAAAMAG7tfj39LA9+NHmPXIso77CrO+s6y5X13WzBxXl3dczy7rDOcK\ns87znWX9ygtnO7rZjjJruqxyjTMzxxFmhetsszrlfTHvcrJ1pfdYuP317n/C1fyENc58zjoBAD7J\np3zH+4R1pu/4YVadV75Lf4r2LK+z7HlZuMj8vDJd55rnsumZeHxev2ovkXYvYSeU91V3eD3Djq/s\nHstOtOxr/fIXAAAAAAAAYAPKXwAAAAAAAIANKH8BAAAAAAAANqD8BQAAAAAAANiA8hcAAAAAAABg\nA8pfAAAAAAAAgA0ofwEAAAAAAAA2oPwFAAAAAAAA2IDyFwAAAAAAAGAD9/vxb2ng+/GjC7sfYdbd\nZV3/yKKO65llzczM9cqijnPVrHeXdXRz/corZ+uyzkWzjumyZur9z6LarC5q2aw6r57tI5T3bPsx\nBwAA+FOl75heWH/bqucFn3Iusux52cLnlcueyy6bFZ/Xl13Con1J2gnlfVWYVXZ8YfdYdqJlX+uX\nvwAAAAAAAAAbUP4CAAAAAAAAbED5CwAAAAAAALAB5S8AAAAAAADABpS/AAAAAAAAABtQ/gIAAAAA\nAABsQPkLAAAAAAAAsAHlLwAAAAAAAMAG7nn8PQ183z+6rMcjyzruK8w6uqzrnWXNzBznq8sKZzvP\nMitcYzjXzMxxdHnptSzn6m7/dK6ZmXC0OSbcszIr3rNKufe/8so9C5/Z4fa392urzqusOldt1XWu\nOtfKyj0rn/6rzgXAf7bq399V51rZqnu26ly1Vdf5Ke+FaVZ5LpWe/awrPRdc9bwsS/oDzisXPUtd\n9uw5Pq8vu4Sy4yi7l1U7oZm2S5uw4yu7x7ITLftav/wFAAAAAAAA2IDyFwAAAAAAAGADyl8AAAAA\nAACADSh/AQAAAAAAADag/AUAAAAAAADYgPIXAAAAAAAAYAPKXwAAAAAAAIANKH8BAAAAAAAANqD8\nBQAAAAAAANjA/b7+LQ18P766rOuRZc11h1lHmPXqsmbmCPOOc9Gs471kVp13hLdZmxWuMUv6V96i\nsy2bVd7/8WcpvWnj0TLlxVx1jQtb9XMJAAB/Vfk7fpzHb/qEC5C+GC58xpglLZy16H7NOC/+M7Pq\nvGX7krJjivuqtkvrOr6ye2w70a6v9ctfAAAAAAAAgA0ofwEAAAAAAAA2oPwFAAAAAAAA2IDyFwAA\nAAAAAGADyl8AAAAAAACADSh/AQAAAAAAADag/AUAAAAAAADYgPIXAAAAAAAAYAPKXwAAAAAAAIAN\n3Mf99zTwff3owu5HFvW+ryzruMLO/Hx2WTNznK8uLM16Z1HHolkzM8cRzjYfkBXu18zMUWaV1zIc\nLF3joll13qpZn6K8/8PHD38ynyUA4K/Adxb+K+k7zodY9b181aw6rz0vK7PK88pOf1656Lnsome8\n+Xl9mZdmdd1L2wl1UTMzE3ZpZceXdo9hJ1r2tX75CwAAAAAAALAB5S8AAAAAAADABpS/AAAAAAAA\nABtQ/gIAAAAAAABsQPkLAAAAAAAAsAHlLwAAAAAAAMAGlL8AAAAAAAAAG1D+AgAAAAAAAGzgPq6/\npYHv+6vLuu4sa8qss+vMj+s7y5qZmfOVRR3nu8s6uqw5wjWWc8V562ZlURNG/SsvXGeWNDPhXG1W\np76WrfL50600fSx2Uf/KK++zcrpV5+JPFV/K8rOZPrFX/SgB8Nex6NefdKxF18gK1vwCtO45xsqf\nzVWv5crWPJcq92zpz1J5lrrsefGaWb8C1+wSyu4l7YSueP/DLq3s+MrusexEy77WL38BAAAAAAAA\nNqD8BQAAAAAAANiA8hcAAAAAAABgA8pfAAAAAAAAgA0ofwEAAAAAAAA2oPwFAAAAAAAA2IDyFwAA\nAAAAAGADyl8AAAAAAACADSh/AQAAAAAAADZwH+ePNPB9fXVh191lnVeXdYWdeVy/H+e7yzpeXdZZ\nZpVr7LLqvGWzJtyzeP/nWDKqzVp0jbVl9z/MStWDxR/NSnn/r7rG2rL3bOhDbn8A4H/gE777zHzO\nOkvpu8SqFl7jqu/lC2/ZR5wlpfufDhafF4dvmcueFy+aNRN3CWXHkXYv4Z7VPxdNu7Sy4wu7x7AT\nLftav/wFAAAAAAAA2IDyFwAAAAAAAGADyl8AAAAAAACADSh/AQAAAAAAADag/AUAAAAAAADYgPIX\nAAAAAAAAYAPKXwAAAAAAAIANKH8BAAAAAAAANnAf51ca+DofWdb7urOsua4u6ww787p+P99rZh1d\n1rFoVp1Xz5Y5loz6V96q92wW1Vr1HgMAAAD4ZIue2aRnXOXZW3gmmB/jLXouuOo59srn9ennctUe\nJ++rwsCw4yu7x3fYiZ5hX+uXvwAAAAAAAAAbUP4CAAAAAAAAbED5CwAAAAAAALAB5S8AAAAAAADA\nBpS/AAAAAAAAABtQ/gIAAAAAAABsQPkLAAAAAAAAsAHlLwAAAAAAAMAGlL8AAAAAAAAAG7jP85EG\nPq8u731eYVbXcx9h1hxd1MzMnO8s6jjWzEr3rJxrpr+ekfRazqL3RWzRS9ne/otm5crhFn2U8fvs\nPwAArM139j/Xsvu/6GD1WJ9wZrPsXPF55UecpX7Ief2yfUnYCfV9VdellR1f2T1O2ImWfa1f/gIA\nAAAAAABsQPkLAAAAAAAAsAHlLwAAAAAAAMAGlL8AAAAAAAAAG1D+AgAAAAAAAGxA+QsAAAAAAACw\nAeUvAAAAAAAAwAaUvwAAAAAAAAAbuI/jkQa+j7sLO68u6wh77jLrPLqsmZnjvWhWGBXOdUy4xjiv\nXWcovmVLx7KzlfdZe89myufFtPf/vLsbo31mlHOta+XZKvUaP2HP2Eh5wy76Jw7gt/ljzl9Iebt+\nyq2/6jpXnWumP3+rpGcP8blIa/9zqXXPBKc9F++ilj1jz8/rF+04lu1x8r5q1V6u6x7LTrTsa/3y\nFwAAAAAAAGADyl8AAAAAAACADSh/AQAAAAAAADag/AUAAAAAAOD/sG9HyY0jWbZFHRKj5j/azpRI\nAO8j6n1VdZtF9c6Om861BnDsugOkAD8isAHlLwAAAAAAAMAGlL8AAAAAAAAAG1D+AgAAAAAAAGxA\n+QsAAAAAAACwAeUvAAAAAAAAwAYeH8dnm/jx6LLK2T7CnvvjyKKOLqrPC7OO4+7CVpgV73+eVwn3\n/yj3Pzdztqm3xbuw/7/uLfasXOTMrx7gLfgy47/zFn/Ngd29wVfZGywxZ89+r7n7P/dZNj1LTc/Y\nQ0M7iZ/Cc/Fy/9PuZWbWWivt0tKOL+0eu0607Gv98hcAAAAAAABgA8pfAAAAAAAAgA0ofwEAAAAA\nAAA2oPwFAAAAAAAA2IDyFwAAAAAAAGADyl8AAAAAAACADSh/AQAAAAAAADag/AUAAAAAAADYgPIX\nAAAAAAAAYAOP4/hsE4+uT74/wm76OPbPWmut4x6a1UWlWbFjdXtW3xoTlfv1M6/MamerTL0tps71\nPur71RUFAAD4e5l5jvEuJr9FT50tPUfNkuaeCdbSimPynk3tJcb2OHVfNbNLa7vHLqvsa/3yFwAA\nAAAAAGADyl8AAAAAAACADSh/AQAAAAAAADag/AUAAAAAAADYgPIXAAAAAAAAYAPKXwAAAAAAAIAN\nKH8BAAAAAAAANqD8BQAAAAAAANjA41hHm3iUfXI421Gus5yri6q1o91ZUnolj26un4Fl2Mw9extT\nN+09vn7eRPn942oCAABQis/M+CXpW/7UI4Opcw029by+rXHa756pezb29s8He4eOr+tEy77WL38B\nAAAAAAAANqD8BQAAAAAAANiA8hcAAAAAAABgA8pfAAAAAAAAgA0ofwEAAAAAAAA2oPwFAAAAAAAA\n2IDyFwAAAAAAAGADyl8AAAAAAACADSh/AQAAAAAAADbwWMcRR4Z54Wx3OlcXlStnG7vO+3cPAADA\nah8XPeEBuxj7Kg0A8HaGvmm+RY+z0tnajm/oBQjn8stfAAAAAAAAgA0ofwEAAAAAAAA2oPwFAAAA\nAAAA2IDyFwAAAAAAAGADyl8AAAAAAACADSh/AQAAAAAAADag/AUAAAAAAADYgPIXAAAAAAAAYAPK\nXwAAAAAAAIANKH8BAAAAAAAANqD8BQAAAAAAANiA8hcAAAAAAABgA8pfAAAAAAAAgA0ofwEAAAAA\nAAA2oPwFAAAAAAAA2IDyFwAAAAAAAGADyl8AAAAAAACADSh/AQAAAAAAADbwWPfvHuF/0g13ZEnD\njb6elbe5mgAAo73FoyfALyq/G739AgD8b7zB09SbvJi3V3LopoVj+eUvAAAAAAAAwAaUvwAAAAAA\nAAAbUP4CAAAAAAAAbED5CwAAAAAAALAB5S8AAAAAAADABpS/AAAAAAAAABtQ/gIAAAAAAABsQPkL\nAAAAAAAAsAHlLwAAAAAAAMAGHve628T7CrPC2dKsLqre/lK5ZVO9wRLXWu+zztQbbNobLHG443cP\nAAAAAP+N8p3VCcSveosde4tFtt5hy95hjWsN7l7qudIubWpf2HWiZV/rl78AAAAAAAAAG1D+AgAA\nAAAAAGxA+QsAAAAAAACwAeUvAAAAAAAAwAaUvwAAAAAAAAAbUP4CAAAAAAAAbED5CwAAAAAAALAB\n5S8AAAAAAADABh73fbaJ9xVm3V3WCrOmzrXWWvfR5lXCudIdi/frLtc59Vqm4v1P02ZKv35CQ8cC\nAAAA+MtNPheZepZUapf4Dmeyg8+x6/P6NGzovdEusgyb26WVc4WdaNnX+uUvAAAAAAAAwAaUvwAA\nAAAAAAAbUP4CAAAAAAAAbED5CwAAAAAAALAB5S8AAAAAAADABpS/AAAAAAAAABtQ/gIAAAAAAABs\nQPkLAAAAAAAAsAHlLwAAAAAAAMAGHvd9tolh3nFfWda6wqz7DrO6qJ95x8ys0tS5Jgv37F5lVm3m\nOuGv5379Zf0XEAAAUCqf2d/ilalepJcm/lrt2dvc88p0nc7Ff93UPZva45TdV50Xdnxp9xh2omVf\n65e/AAAAAAAAABtQ/gIAAAAAAABsQPkLAAAAAAAAsAHlLwAAAAAAAMAGlL8AAAAAAAAAG1D+AgAA\nAAAAAGxA+QsAAAAAAACwAeUvAAAAAAAAwAYe932mgcf96sKucLb7GplVjrXWWvddhh1dVJi1wjWm\nc62VzrZWuP9ZUh32Htoti+/ZTDtX+V2Wfi2GWaV6rqnrnMp+Ab+PbyD+O+W9MfX5E5jGX6Vf9w7v\nq2vNXWd6jjr67+XQM8Z3MfSMK71n3+S8vu04yu4li8r7qmNoL1d2j2UnWva1fvkLAAAAAAAAsAHl\nLwAAAAAAAMAGlL8AAAAAAACQRj0qAAAgAElEQVQAG1D+AgAAAAAAAGxA+QsAAAAAAACwAeUvAAAA\nAAAAwAaUvwAAAAAAAAAbUP4CAAAAAAAAbED5CwAAAAAAALCBx3U/28TrlUUd15llreuamXXfXdZa\na91HFxVmzZ2ri/oZV64zixorv/3DvHa08L7IkuI15vdr+DlPTZ1rrqlfZVPnWmv2bPAv3LAA/6r8\nbvT4yV9s8p/yqbNNnWu28sts6JdsfMg19vxn6hlXeSb4Jh/y9hx18Hn9W3Qcc7/LpvZybffYdaJl\nX+uXvwAAAAAAAAAbUP4CAAAAAAAAbED5CwAAAAAAALAB5S8AAAAAAADABpS/AAAAAAAAABtQ/gIA\nAAAAAABsQPkLAAAAAAAAsAHlLwAAAAAAAMAGlL8AAAAAAAAAG3jc13ebeD67rOuVRR3XmWWt6w6z\nuqifecfIrPsO5wqz0rnivLFZq9yzdv+nCr8xWul9MdjQ4YaOBQAAAHPfWcvByuPKLuqfgTPPzMbe\nF6n4vDjMG3tePDTrZ+DQ2Yb2OH1f1X1rtB1f1z2WnWjZ1/rlLwAAAAAAAMAGlL8AAAAAAAAAG1D+\nAgAAAAAAAGxA+QsAAAAAAACwAeUvAAAAAAAAwAaUvwAAAAAAAAAbUP4CAAAAAAAAbED5CwAAAAAA\nALCBx3V9p4HH2eUd5yvLWufZZV1XmNVFrbXWfXV9/n0fWda6uqxyrnSNa61V50XaPcuiVhj1z7yh\n98bQPav3v/Qu68y8xSLb7593YcsAAPbjGe/Xpe8SM49++htj6Drf5bxg7DrLM67yvLI8E8yS/pk3\ndM9Sg8/r36LjCDuhuq9Ku7Sw4yu7x7ITLftav/wFAAAAAAAA2IDyFwAAAAAAAGADyl8AAAAAAACA\nDSh/AQAAAAAAADag/AUAAAAAAADYgPIXAAAAAAAAYAPKXwAAAAAAAIANKH8BAAAAAAAANqD8BQAA\nAAAAANjA4z7/TAM/zu8u7HyFWefMrKuL+pl3jMy675lZq8xaa913mdXOVrnX0Gu52v0vlXu2xq5x\nsvKezaJS9VhDl7nKa8k+pn4uc++yTgD+OuXfkqGPZflzwdB18p8oL2Z3o5W37OTHxfSzeex/LXPl\neeXQL8bJZ7Jz92zoeVl+Xjz0LHtoj5P3VVN7ubB7PMJO9Ar7Wr/8BQAAAAAAANiA8hcAAAAAAABg\nA8pfAAAAAAAAgA0ofwEAAAAAAAA2oPwFAAAAAAAA2IDyFwAAAAAAAGADyl8AAAAAAACADSh/AQAA\nAAAAADbwuM8/0sDj/O6yXq8u6zyzrHVeWdR9HlnWWmvdV9fnt1ndOtOsO97/MO8tsrKk/59XzjZz\nnVPnqrV7NtPUuX56j/uM32fyfTF5NgDYUfm3t33D91zAv9feF+Vd20429f5/h/OCtd7jLOkdzvHW\nGnwu+wZZaw3uJab2OHFfdYRdWtnxtd1j14mWfa1f/gIAAAAAAABsQPkLAAAAAAAAsAHlLwAAAAAA\nAMAGlL8AAAAAAAAAG1D+AgAAAAAAAGxA+QsAAAAAAACwAeUvAAAAAAAAwAaUvwAAAAAAAAAbUP4C\nAAAAAAAAbOCxzj/SwOP11WWdzyxrna8w6w6zji5rrbWuLu++uv8NSLPucI1hVp03NyuLyvd/pbN1\nWelcXVQqv5ZDTd3/0YZu2tCPOAAA/G3Vz8Vjn7PLwd7jVXrutQxNPhdJ9/8dzt7y8+Iya+p58cys\nOm9qX1J2QnlflXZpXcdXdo9lJ1r2tX75CwAAAAAAALAB5S8AAAAAAADABpS/AAAAAAAAABtQ/gIA\nAAAAAABsQPkLAAAAAAAAsAHlLwAAAAAAAMAGlL8AAAAAAAAAG1D+AgAAAAAAAGxA+QsAAAAAAACw\ngcfx+iMNPJ5fXdjrGWa9sqj7vMOstn8v8+7z6LKucK6hWWutdd/hbHe3/1eYda8wK5xrrXi2oVmr\n+/pJ9z8c62deuc4uKjV5jWP37HcP8H9k6jqnzjXZ1D2bOhcA/6r8zi7fvqbONdnUv79T56pNXWc5\n1+T38qHHIu17efxllp6ZpecPM8/L3uW8Mj3jTbMGn9cP7RLS7mVoJ/Qz78qyjrDjK7vHshMt+1q/\n/AUAAAAAAADYgPIXAAAAAAAAYAPKXwAAAAAAAIANKH8BAAAAAAAANqD8BQAAAAAAANiA8hcAAAAA\nAABgA8pfAAAAAAAAgA0ofwEAAAAAAAA28Die/5UGHq/vLuv5zLLW6+yyzjvMavv3+/zssq5utvs6\nRmZdd5e11lrX0NnuFWalc7WuMPAus7qo9lpmSX+F8LM59FqOZs8AAAD+rfQdpwxrj7hSc/es3LT2\n7fcdzpLKs7f0TLCL+pk39Iy3PHueeia+1txeIu1ewk6o7qvWGfZyYcdXdo9tJ9r1tX75CwAAAAAA\nALAB5S8AAAAAAADABpS/AAAAAAAAABtQ/gIAAAAAAABsQPkLAAAAAAAAsAHlLwAAAAAAAMAGlL8A\nAAAAAAAAG1D+AgAAAAAAAGxA+QsAAAAAAACwgcfx/K808Hh+dWGv7zDrFWZ1Uff52YWtte6r6/Pv\nM8wK57rKNV5HlrXWWvfd5cn6D/JWOFuZVe5ZljQ3q86rZ6u8wxr5/dwbAAD78YzHvzP5vbw09V16\n8v6nWekZ19Cs+rxy6Fnq2Kz4vL7tEvbvXuq+ar2eYVbZ8XXdY9mJln2tX/4CAAAAAAAAbED5CwAA\nAAAAALAB5S8AAAAAAADABpS/AAAAAAAAABtQ/gIAAAAAAABsQPkLAAAAAAAAsAHlLwAAAAAAAMAG\nlL8AAAAAAAAAG3gc33+kgcf3V5f1fGZZ63VmUffr6LLOtn+/X13efX1mWVe4zvvqsq4wa621rru7\nN94h6w6z6rz7zqJWGBWvcWbWWvGelVnxOjPlIvu4zNj7IswCAIC/q/q5+B2e2dO56kWGr7/p+cPR\nLXTyecHUM5t2z8qsmfu11txz2bFZ8Xl92iWkHUfXvaSdUN5XdffGEXZ8ZfeYdqJhX+uXvwAAAAAA\nAAAbUP4CAAAAAAAAbED5CwAAAAAAALAB5S8AAAAAAADABpS/AAAAAAAAABtQ/gIAAAAAAABsQPkL\nAAAAAAAAsAHlLwAAAAAAAMAGlL8AAAAAAAAAG3h8fP/RJj6/wqxnFnU/7y7r1XXm9+szy1prrfvs\n8u4zXOfVZV1h1n23//9QrjPNuo+RWdfqstZa6w7z0qxy/7OkuVlrrXWngVP3f+ZctbGzDf4AtPc/\nv8z+A8D/rfJvb/uK+Rbe5tkzvDembln+Xp6+s878oN/hByA8+vmZNzUrPeOamZWfVw49l517jt2e\n16ddQplVdi9lJ1T3VWWX9ryyrCPsHstOtOxr/fIXAAAAAAAAYAPKXwAAAAAAAIANKH8BAAAAAAAA\nNqD8BQAAAAAAANiA8hcAAAAAAABgA8pfAAAAAAAAgA0ofwEAAAAAAAA2oPwFAAAAAAAA2IDyFwAA\nAAAAAGADj+P7jzTw+P7qwp7PMOvusl6fWdQdZq211nV2fX6adXVZ93VkWVeYtdZa1x3ONjVrdVl3\nONdaa13hxzzN6qJWONbYrJ/K+yyLak2daw0ebexgg4V7NvU7411ui3dZ5ztwLfm7Ke/Z9umfX/UO\n17L+jh37zPIOF7M2dM9GPxdM3bN0rvDsIb6aU79/yjOuqed4+Xll+AEYe15cZsXn9W2XMLR7CbPq\nvqrs0tbzDLO67rHsRMu+1i9/AQAAAAAAADag/AUAAAAAAADYgPIXAAAAAAAAYAPKXwAAAAAAAIAN\nKH8BAAAAAAAANqD8BQAAAAAAANiA8hcAAAAAAABgA8pfAAAAAAAAgA08jq8/0sDj+7sL+35lUffz\nCLM+u6xXl7XWWvfZ5V1pVvd/Btc1M6vOu+7wnr3CrHCuco1rtbPda+aezc3Kon7myfrFrPazVCrv\njbn7P9fk2aayZwDwf6v82zv3qbg19XmlnmvqM3v6/hvetPV74R3u2thrWWbV5yJjz3/2P3sbfV4Z\nnvGW63yb8/qy4wi7l7ITyvuqsksLO74j7B7LTrTsa/3yFwAAAAAAAGADyl8AAAAAAACADSh/AQAA\nAAAAADag/AUAAAAAAADYgPIXAAAAAAAAYAPKXwAAAAAAAIANKH8BAAAAAAAANqD8BQAAAAAAANiA\n8hcAAAAAAABgA4/j+8828fsri7q/ryxrPbue+3p9jsyq8+4z3LNr/6y11rrucLaxWUeWdYdZa611\nr5mz3VnSWuG3YjpXufdrrXWHw6XrHDpXrVzniu8NfqPJNy0AwHTls5RH7N+sPHsIb4z4vhj7Lh2u\ns52rPuPqhht7lpSevc08E1yrPUude148+Lx+aJeQdi9v0ld9hB1f2T0eYSda9rV++QsAAAAAAACw\nAeUvAAAAAAAAwAaUvwAAAAAAAAAbUP4CAAAAAAAAbED5CwAAAAAAALAB5S8AAAAAAADABpS/AAAA\nAAAAABtQ/gIAAAAAAABs4HF8/dEmfn13Wc87i7qfn2HWo8t6dXOttdZ1dnljs67ufxbKrJ95x8ys\ne2hWlvTPvHSdWdS6w7nGZmVJfd5dXssuKlWuca14/98gqzZ5NgAA9jL52XPq8//YrPpidkcGY9cZ\nHov05yJTz3+Gnr29z3nl0LPnNKs+rw+7hKl9SZhV91VplxZ2fMfzzLLKTrTsa/3yFwAAAAAAAGAD\nyl8AAAAAAACADSh/AQAAAAAAADag/AUAAAAAAADYgPIXAAAAAAAAYAPKXwAAAAAAAIANKH8BAAAA\nAAAANqD8BQAAAAAAANiA8hcAAAAAAABgA4/jz6828fuVRd3fR5Z1PR9d1utzZFadd57d/wZcYdZ5\nhvt/d/fYWmtdV7hnd5kVfpaGZv3M67LuFa4zS1orXGKbVYatdv/X0Kxyz+Lt5xe9y/5P/f6Z7F3W\nCcD7Kf/GtW+FLc8/v+Yd1jhZvf/pe/4x85Penou0V6A8Misna8+4yjPGLOovOK+ceZaanj2nZ+Lt\n/qddQtpxdFmfb9JXlR3f8f0Ms7pOtOxr/fIXAAAAAAAAYAPKXwAAAAAAAIANKH8BAAAAAAAANqD8\nBQAAAAAAANiA8hcAAAAAAABgA8pfAAAAAAAAgA0ofwEAAAAAAAA2oPwFAAAAAAAA2IDyFwAAAAAA\nAGADj/X1lQbeX1eX9f3osp4zs65Xl7XWWtf5OTPrKrO6/1k4w6y11rruLu+6D1m/6B46WzlXm5VF\nrXvV1zLM6qLmzhVm1XnvkFV7i3UO/SyxGTcH7K38jLePsvxG9Vf/MfQ+e4vnxTV3ne+QVeel79Ll\nZymdqz4X6Yabei419eytPq+cepbaZg0+rw/z0o5jao8T91VTe7n7u9uz++uVZR1hX+uXvwAAAAAA\nAAAbUP4CAAAAAAAAbED5CwAAAAAAALAB5S8AAAAAAADABpS/AAAAAAAAABtQ/gIAAAAAAABsQPkL\nAAAAAAAAsAHlLwAAAAAAAMAGHuvrOw28v48w65FlXWXWs8s6X59Z1lprXWHedXZZ59n9n8F1zcxa\na63z6u7/dJ13mRWuMcxaa61rhbNlSZOzwu/rO4v6mVdmhWHpXOH+T5beG0Oz6vsf/k7c/gD/qvxu\nfI8nRnbxLs/F6TIHf8jLd9Y73LX0HT/c//r+v47yjKsb7h3OuPLzyvQsdea5+NQz8Tov7TjC7qXs\nhOq+6jPs0sqO7yPMur/PLOsI+1q//AUAAAAAAADYgPIXAAAAAAAAYAPKXwAAAAAAAIANKH8BAAAA\nAAAANqD8BQAAAAAAANiA8hcAAAAAAABgA8pfAAAAAAAAgA0ofwEAAAAAAAA2oPwFAAAAAAAA2MDj\n/vNMA++vR5Z1ff/osp7dXGeYdb0+s6y11jrDvPPs/jfgvMK5rnKu9v8frrvLu+4jyzrDrHKuO8xa\na+5sY7OypDZrrbWuMHDqOtOs+ALUn83K1P3PjR5uf+n2D72WQ8caOxewv/r7p3ySKmdLn/DK5/Vw\nsJlPscONvcne4/m/fcdvV1l+Nqdey/TsYfL9P/VcynnlL5t6xlueidfn9W2XMLR7CTuhz7qvCru0\nj7KXC7vH4+uVZd1/dll++QsAAAAAAACwAeUvAAAAAAAAwAaUvwAAAAAAAAAbUP4CAAAAAAAAbED5\nCwAAAAAAALAB5S8AAAAAAADABpS/AAAAAAAAABtQ/gIAAAAAAABs4HF/HWng/fXIsq7vH13WM5zr\n9Zllna9urrXWOs9wtjDrOrv/MzivLusKs9ZqZzvvcJ139zkvs84wa62560yzsqS17nSu+G9JmFfO\ndt9ZVJvVReV59WzvYOr+T81yk/0H7BnA30f5nd0+ss8U/40rX1mnPkt5LPh1U/c/fy8c+s56Hd0H\nszwVLM9r1mr3/zq6sLHnZYPPKz/HrtN5/a9KO46hPU7dV32+XllW2vGF3ePH1zPLur/OLMsvfwEA\nAAAAAAA2oPwFAAAAAAAA2IDyFwAAAAAAAGADyl8AAAAAAACADSh/AQAAAAAAADag/AUAAAAAAADY\ngPIXAAAAAAAAYAPKXwAAAAAAAIANKH8BAAAAAAAANvC4//xMA6+vH13W9yPLOr+7uc5nONer3f8y\n7zyHZl1lVvv/D9fd5V3XEWaFc5VrXN0a11rrusM9y5LarHvoGu87DFtrlXHlbPEyM/Vc77DOqVm5\n0cPxK1xKAP63yr8l7Zscv2zoxZz8XjL1Weod1rjW4Hf88v6PL0B4LNieJR3dQtOzt/S8rD6vLM+L\nw/0/uitwfXRrrM/r0y7h7PYs7UvKTqjuq8Iu7SPs+D5+vLKsshM9/uzm8stfAAAAAAAAgA0ofwEA\nAAAAAAA2oPwFAAAAAAAA2IDyFwAAAAAAAGADyl8AAAAAAACADSh/AQAAAAAAADag/AUAAAAAAADY\ngPIXAAAAAAAAYAOP6+tHGnh9d3lp1vORZZ2vmVlrrXWenzOzru7/DNKsu/3/h/M6uqxwtvPu5rqG\nZq211lVmhbPd5Z5lSWvdd5jVRf3MGzrbvcL7Ikv6C5T7P/RaTtbes/ubvMbJs70D+w97Kz/j7VvJ\ne5i6//V3/9R7w/Pir0v3bOqmxTfs3HfpbrL0fbXe/3C28LiyPeMqs45uw/LzyjCvPONNz56v7sTy\n/KjP64f2ElN7nLqvep1Z1uezy0q7xx+vLOv46rL88hcAAAAAAABgA8pfAAAAAAAAgA0ofwEAAAAA\nAAA2oPwFAAAAAAAA2IDyFwAAAAAAAGADyl8AAAAAAACADSh/AQAAAAAAADag/AUAAAAAAADYgPIX\nAAAAAAAAYAOP689/pIHnV5d3fv/Isl7PR5Z1llmvzyxrrbXOs8srs15XONfV/c9CmbXWWucdznYf\nWdYVZk2dq85rs7KowWtsr+W9urxw+9cdhrVZ9f7PzCrD0v3vokYr9wwA4N2Uz1JH+/ifqR8Xpz5/\nlq9f7ftq/V7YTZeuM93/mWc/a611lVnluVR4NaeeS9VnXOVZ6ufQM970TLw+rw/zyo7j8+w+5Wkn\nVPdVYZf2+jyzrI+wezwe3Vxlll/+AgAAAAAAAGxA+QsAAAAAAACwAeUvAAAAAAAAwAaUvwAAAAAA\nAAAbUP4CAAAAAAAAbED5CwAAAAAAALAB5S8AAAAAAADABpS/AAAAAAAAABtQ/gIAAAAAAABs4HF9\n/SMNPL9/dFnPx8is12tm1lprvc7PLuvq/jfgPMOscq4wq84775lZ132MzKrz0qzVZd13FrXCqDRr\nrbWucp1vsGf1/k+drV5nZuxgc03essmzwV/Jvf971fvfPmXDX6u8/+t7f/JsIw3+Mpv6XjI1q85L\ns8Kwq4taH/GHfOyeHeXZWxY19kywzivPeD/CG+MML+Z5DD6vDzuO10d4LcNO6CPuqz4+u2/aj+eZ\nZZ2PLusIO9GPcC6//AUAAAAAAADYgPIXAAAAAAAAYAPKXwAAAAAAAIANKH8BAAAAAAAANqD8BQAA\nAAAAANiA8hcAAAAAAABgA8pfAAAAAAAAgA0ofwEAAAAAAAA28Di/fqSB53eX9wqzzuejy3qFWedn\nllXnpVnX0Ky7/f+H8z6yrOvqssq5pmattdZV7n+WtNZ1h1krXGO4X3e4xrXWKuPucM/auWZm/RV5\nlal7lu9/GDj1WgIA8J9Ln2XLZ8/2FX/0M3tl8hqnzta+43eT1eci6flP+Nm8woW2c809r/wI88qs\nz/Ls+Sj3Pz6vL7uEo7v/z7M7fT4/ZmatFXdpH2eW9frs1nmEWR+f3Rr98hcAAAAAAABgA8pfAAAA\nAAAAgA0ofwEAAAAAAAA2oPwFAAAAAAAA2IDyFwAAAAAAAGADyl8AAAAAAACADSh/AQAAAAAAADag\n/AUAAAAAAADYgPIXAAAAAAAAYAOP8+sfaeD59SPLej0fXdYrnOv1GWZ1a1xrrdcZznaVWd3/GZRZ\nZ5hV5513l3Xdx/ZZa611lVnlOle5Z1nUCqPSNa611l2uc2xWt2flXHVePRu/T3oph36X/TWBAMD/\nqHwuaF9L1jF0tniZ/KL0famLyh9j7/BOu8Pppu7ZdbSfzI9wuvIsqVxnO1e5X/F55dCz1PLs+SO8\nmGf5x3et9QrzPo5yz7ru5ePsTsU/4v3/+Ahn++g6vuNZzjU0K0sCAAAAAAAA4LdR/gIAAAAAAABs\nQPkLAAAAAAAAsAHlLwAAAAAAAMAGlL8AAAAAAAAAG1D+AgAAAAAAAGxA+QsAAAAAAACwAeUvAAAA\nAAAAwAYer+8faeDr2eW1WY8u6xVmnZ9Z1s+8mbO9ru7/DM4wq5xrrbXOO1znfWyfdYVZa9WzZVFp\nVhjVzlUOtta63iCr3LJ4+1PpOod+lur9n7pnpaFjjTb1/gfgr5V+Z4dhR/sqN1a5/+WWpc8F4WDv\n8lwcH2VkJu9/+S5dbn+Z9TH4XOQjXGh6XtZFpWeC9a/l0tnGZpXn9e2H6ePo8l5Ht86PsHsp11hm\nrbXWR9illbMdH9030Ef4B+D4DOfKkgAAAAAAAAD4bZS/AAAAAAAAABtQ/gIAAAAAAABsQPkLAAAA\nAAAAsAHlLwAAAAAAAMAGlL8AAAAAAAAAG1D+AgAAAAAAAGxA+QsAAAAAAACwAeUvAAAAAAAAwAYe\nr68faeDzu8t7PR9Z1vM1M+t1fmZZP/O6Pv91dVnn1a0znetu///hvI/ts66hc63VznatmXs2do1Z\n0k93uM77zqLmZnVRed7YrMH7P5V1/t4sAJhk6t+49g2zVe7Z1HXm7yXlM3u4aVOfF0fvfxcVZ4Xn\nIkd7BY70XCqLSr9/rjCsXOPZRa211voYepZaztVmtef1r/Dm+DjCjiP8zvgIO6FyjWutdYTrTLM+\nutPsdo3dXH75CwAAAAAAALAB5S8AAAAAAADABpS/AAAAAAAAABtQ/gIAAAAAAABsQPkLAAAAAAAA\nsAHlLwAAAAAAAMAGlL8AAAAAAAAAG1D+AgAAAAAAAGxA+QsAAAAAAACwgcfz+x9p4Ov5yLKezx9Z\n1uvVzfU6P7OsZ5i11lqvq8trs7r/M3jdYdZ1ZFlrrXWG60yz7m6dZdaVJf0zr5wtzLrvLGpdYVY5\nV5m11lplXJsV3hdZ0l+w/3He9gbf/+/Afv1e6f67mMDvUv8tD18z2zfW/dV/St5h/8s9O1yAX5a+\nl3dRP/PC/W/fpbuVjn4vD7PK87fyl2TpOV6WtNYVf5mVZ6lHmPURnj2X98URf5sdR7jO8GD2OLru\n5SO8Z4+z3v8uL13nG2T55S8AAAAAAADABpS/AAAAAAAAABtQ/gIAAAAAAABsQPkLAAAAAAAAsAHl\nLwAAAAAAAMAGlL8AAAAAAAAAG1D+AgAAAAAAAGxA+QsAAAAAAACwgcfz+SMNLPOer0eXdc7MeoVZ\na631PD+zrNfV/W9AmXWWWXf7/w+v+8iyzjDrGjpXmbXWWtc9NGuF1zLN6pT32M+8Lusus7qodP/L\nueq8qfs/NauWzjb0Wo6+AGyjvc3ctPzddPfsHT7Ltk+fbCP+ii1fc47yWaqcq4ua/V5SZg29lvX+\nl++s6X2Wntd0jvgv0xF+aZSzpXsWXsxyrvq8skz7KM9ls6S1jnCuIz6v/whvjlf4Tdt+xrtOqH7G\nPspnlnK4cv/Lh7xwjX75CwAAAAAAALAB5S8AAAAAAADABpS/AAAAAAAAABtQ/gIAAAAAAABsQPkL\nAAAAAAAAsAHlLwAAAAAAAMAGlL8AAAAAAAAAG1D+AgAAAAAAAGxA+QsAAAAAAACwgcfz+0ca+Hx2\nec/XI8z67LLOMOvqstZa6xXmtVnd/xm8riPMav//4by72aZmXUOz1pq8zixqbFYYleddq7uWd7ln\nQ7PWavc/zRp8z5bq61kZOhYbcY8Bv0v9/dO+5bCL8j4r77Hy2fOIb/6x7xLhOqeuca2574VXeKMd\n4WT135LyzKb8aF5h1hFOdmZJax3xxSz3rDz7LO+Lo5wrPq8vP+dH+FvK8m9mei3rB9mz3P+Zf5mm\nPvv75S8AAAAAAADABpS/AAAAAAAAABtQ/gIAAAAAAABsQPkLAAAAAAAAsAHlLwAAAAAAAMAGlL8A\nAAAAAAAAG1D+AgAAAAAAAGxA+QsAAAAAAACwgcfz+SMNfL4eM7POLut1fmZZz7Pt359Xl/cqs+6Z\nWed9ZFlrrXWGe1bOdl5h1p1FpVlrrXVNzQqv5R3u2R3OddXXslxnF/UWWWvF91kX1a5z6Bprk2er\n5Pd/mfUOFwCAt5T+jWtfy1NTR5u6/fWjz1E+s4cLnfq8GB9xjX2XK7PKs4f6++IIE+9w165wriP8\nkJf7X59XlrMd4RnvEdYSR3gmfnyUp7JrHWGXUP5dOtJlTv2WXetYXZc29bls6lx++QsAAAAAAACw\nAeUvAAAAAAAAwAaUvwAAAAAAAAAbUP4CAAAAAAAAbED5CwAAAAAAALAB5S8AAAAAAADABpS/AAAA\nAAAAABtQ/gIAAAAAAOYqLokAAA/PSURBVABsQPkLAAAAAAAAsIHH9+uRBj7DvOdZZn2OzHpdXVad\n97y6/w14hVlnOdd9ZFl1Xpl1Ds264v0v89J1ZklrXWvqXK07XOd9Z1HrCrPKucKoPK9cZyldY5iV\n5w29z4beFqPZMwD+t8q/Je2b3FxT//4e5TPe4Is59Z5N3+XCwfL3kvJduotqr+VRnrG0V6Bc5xGm\nHelLZjlXp/5aPMOsdLapf+TiP0xH2CUM/pOZqdf4DntWKj+WfvkLAAAAAAAAsAHlLwAAAAAAAMAG\nlL8AAAAAAAAAG1D+AgAAAAAAAGxA+QsAAAAAAACwAeUvAAAAAAAAwAaUvwAAAAAAAAAbUP4CAAAA\nAAAAbED5CwAAAAAAALCBx/frRxr4PD+3z3pd4Vxh1s+8rs9/Tc26jyzrDOdaa62znG1o1jV0rp95\nXdYVZk2dq8y642uZrrOLWuFYbVYZttrZSuU60zVO3bA1eLSxg70H2w/w91F+Z7dP7G9i6AUYOlb+\nkFG+ZpbvEsfQa5m/Fw5dZ/mOXw52xN+yVzjcO3z/n2lau2NlWrrO9P4Ps+Lz+uMj/NaIZ+PXjD2X\nTbO6T5O7FQAAAAAAAGADyl8AAAAAAACADSh/AQAAAAAAADag/AUAAAAAAADYgPIXAAAAAAAAYAPK\nXwAAAAAAAIANKH8BAAAAAAAANqD8BQAAAAAAANjA4/v1SAOf52eW9bq6rOfV9dzPcK5XOFedl2bd\nR5c1dK611jrDvHfIuu4s6p95M2ebO1eY1UWttdYqb407DEuzuqg0a633WWcl3/84D/5SbliAf1V+\nN7avrPAvJv8pL2//se8l5btX/H0x9r28i0r3rD4XKRfa3hpd2hEu8hg611prnVP/mI+9x2Jl//IR\nftLjXmiqsX9/w7v2Dv+YlFnvcYcBAAAAAAAAbE75CwAAAAAAALAB5S8AAAAAAADABpS/AAAAAAAA\nABtQ/gIAAAAAAABsQPkLAAAAAAAAsAHlLwAAAAAAAMAGlL8AAAAAAAAAG1D+AgAAAAAAAGzg8X0+\n0sDX2fXJz+szy3pd5Vxd1utu+/dyna/7yLLOqXOFWWvVezZzneedReX7X852hbNdWVKbda9wjeHe\n13ntnoVZYVi8/W+xznKu2tg9e4OstWbfGwCwo/Rvb/uK+R7C/T/i/Z96b4ydq4v6mVe+l4TrLN/x\n800LHeEH6hq60CM9Fxz6wVxrjZ2t/DC9y08Mw47j/uguwF3OlSX9M2/oAdAdfv+053jdXO/ysQQA\nAAAAAADYmvIXAAAAAAAAYAPKXwAAAAAAAIANKH8BAAAAAAAANqD8BQAAAAAAANiA8hcAAAAA4P+1\nb0e5rXM5FkbpJPOfb+W/lvrhPhaqgaC/RlhHaw1gg6SOZFuEAQAOYPkLAAAAAAAAcADLXwAAAAAA\nAIADfH2/P9PAP1eX98/V7ab/bM26X1nWzMx7aW3vMCut64rnv3Rm7zuLSuu6wrr+5oW1ZUltn2mP\nYV13fC3LuLK2dGZd1O75h1mlJ/SYe0yjnSeMbHOPm2sD/u/Ke7z9Vbi7tsoTesw9YGibP3vLkW3t\nM/9dGA6t/C1d/pOp7LGef/leausd8ErL6sJe+V2+c/5pXeWBjT/j7qV/f7zDPc68unNRn/47vNHv\n8HBcYVZb1zvLWnr0AQAAAAAAAPgJy18AAAAAAACAA1j+AgAAAAAAABzA8hcAAAAAAADgAJa/AAAA\nAAAAAAew/AUAAAAAAAA4gOUvAAAAAAAAwAEsfwEAAAAAAAAOYPkLAAAAAAAAcICv7/dXGvjn6vbJ\nadb96rLCut5hXTNtn+8rnFlZ19KsOu+6s6h4ZlnUXPH8rzBra5/luSjnVWbNtH2GUWnW1h5nZu6l\ntZV1leq6tp7ZrVlPYWa/zRWARnkvtb8lnsD0f87T/4figb3Cg5Z+Zy9vgPK3V3xjlr9ZP8pr2UWl\nPa5+MKb35tIbIC2rvZj32k/grq47rCt/xxW+tCyPRpoV/sXzDndfMzP3qzxnnTu8AGVWuUfwz18A\nAAAAAACAA1j+AgAAAAAAABzA8hcAAAAAAADgAJa/AAAAAAAAAAew/AUAAAAAAAA4gOUvAAAAAAAA\nwAEsfwEAAAAAAAAOYPkLAAAAAAAAcADLXwAAAAAAAIADfP3r/ZkGvq9XlvXn7nbTf+6urvfV1fUO\n65qJ+0yzsqi5lvb4N6/LavvMotq6sqS/rqV9pnV1UWldd5g1M1PGbe2z7HHz/J8ys7Ue0Ofm87/W\nI5oEOET5zG5//mbSj6X4M+61dGZPOBcz8fe8ss+ldeW/cZbWVr4X+Vja40zb59rzv7Sw+HVxHLjz\nAXQvrauWvpcK+7zCl5/3q32YXWFe+l68rCscWbmv8s9fAAAAAAAAgANY/gIAAAAAAAAcwPIXAAAA\nAAAA4ACWvwAAAAAAAAAHsPwFAAAAAAAAOIDlLwAAAAAAAMABLH8BAAAAAAAADmD5CwAAAAAAAHCA\nr+/3Zxr4vl9Z1p8wq6wrzbq6rJnFfd5Z1Fyzs8eZmSvsM51Z2GfZ49VF/c17QJ9lXffSHmfiPruo\ntM9y/mWPM3tre0LWzDPmz+9yLc/hWvKflGej/cXET7mW51j7zHbIflf53b+ef/nOIKyt/CdT+e6h\nPv8fW9/ZlH2mD8a1haXusM877PMzratV5pX3ZfnM3po1M3OFD+0rDLte3cW8Xt3QPsOXgv75CwAA\nAAAAAHAAy18AAAAAAACAA1j+AgAAAAAAABzA8hcAAAAAAADgAJa/AAAAAAAAAAew/AUAAAAAAAA4\ngOUvAAAAAAAAwAEsfwEAAAAAAAAOYPkLAAAAAAAAcICv76vd/77vl6xfyvqb12VdaZ9ZVFrXFdY1\nM/OenbWtzQrnNdPWdqd9hlllj11Ufi9tnX9ZVzmyePxra3vK/J+gvJabPaRNAB6o/IxrfxW2yu8s\nr82NRlZ/93nAoX3K/Mvf+OVb8bKumUnP2Wv14Wi0v/Hbm/wOq9vaZ1nXZ/zC4A4/gD/Co5G+l02z\n4vf14UvjK3yYbc36DLP88xcAAAAAAADgAJa/AAAAAAAAAAew/AUAAAAAAAA4gOUvAAAAAAAAwAEs\nfwEAAAAAAAAOYPkLAAAAAAAAcADLXwAAAAAAAIADWP4CAAAAAAAAHODr+2r3v+/7tTQri5praY8z\nM9fWPrOktq5yXnXe1UWlM7uX9jizd/7pzMKs8viXPc7snX86szIrnv/W2uI2O5vnvzSrtLWu3AMa\nfUCLwFL186f9lR8qG13a5OZr+YTPudfiC5CWtvReqn8Xbr3Py/lfYY8fi9+LrL2Ui+ffCt/LZkkz\nd5iWvvt5tSe23H6VWeXMPsKRlc/FOu8dZn2G5+wz/AJUZvnnLwAAAAAAAMABLH8BAAAAAAAADmD5\nCwAAAAAAAHAAy18AAAAAAACAA1j+AgAAAAAAABzA8hcAAAAAAADgAJa/AAAAAAAAAAew/AUAAAAA\nAAA4gOUvAAAAAAAAwAG+vq92//u+X1nWdWdRa+u6wrpmZq4ya2mfW3v8m3d+n3d5Lrqomdlb2xPq\nim+ltbWZ/zlWzz/OyyyeWWlrbVvr2s3U4GzlPd7+Lt9q68S21jUT17a00dWflmFxr6W3efq+IO6x\nPLPl/NM32eb/c2VdXVRq82/89lJ2aWWPd3wF0trCd/93eJN/hNfyo96XlM//8GF2hfN/h3V9pucC\nAAAAAAAAgP96lr8AAAAAAAAAB7D8BQAAAAAAADiA5S8AAAAAAADAASx/AQAAAAAAAA5g+QsAAAAA\nAABwAMtfAAAAAAAAgANY/gIAAAAAAAAcwPIXAAAAAAAA4ABf39crDXzfXd51Z1FzlXVlSW1df/PC\nrC5q7gdcy5m4zy4qnn+XFUbNzN7ayvmXdW09YzPPmP/WHmf6e7PyhGtZq8/GRqtbXF1c4wEtAvxY\n+Wxs3xiEljZZfy5tnX/5He+1eP6ppWc2tfkGWPq+rDz/r3j+ZW0fW+cfZpXjr/8tt7W2re9Frvgh\nW57/j/BGf4V9tj12WTPtmS37fJfP2DDrs6yriwIAAAAAAADgt1j+AgAAAAAAABzA8hcAAAAAAADg\nAJa/AAAAAAAAAAew/AUAAAAAAAA4gOUvAAAAAAAAwAEsfwEAAAAAAAAOYPkLAAAAAAAAcICv76vd\n/1730qx5dVlhXXeYNTNzlVl3N7OyzafMv6xt7fy7qDxv6/zX1hVmzTyjz6095nlL+6xnVqo/mypL\ny+otPbOcw7ngv015ZrtfmPy29Fw85JBtbbP87vmK57/2M3Prxaw9oc/NPabvxTvlfV4+/8u66t/k\n6TM7zCrnf4VNftTv68vawqtZzv8jDKvn/wpvzo+l56ys613OK0sCAAAAAAAA4NdY/gIAAAAAAAAc\nwPIXAAAAAAAA4ACWvwAAAAAAAAAHsPwFAAAAAAAAOIDlLwAAAAAAAMABLH8BAAAAAAAADmD5CwAA\nAAAAAHAAy18AAAAAAACAA3x9v19p4BVm3XeX1dbVzaysa2bzzMKsLmquMmza2rbObGtddd7WPp/Q\nY51X9lna3OPSke2ta2ths3hmv13A/2JzbZW9Pe6tDDhd/fzp3hmUlbVvfzqbe9xa29q64lvpFRa3\n9lvG2sJm7aFNz3/Y46s+/2XW0j7THpdm1Xlbn/9lVr0vKf/9WO4SyvvyI9xXlXXNzHykM+vCPsJT\nm17LLso/fwEAAAAAAABOYPkLAAAAAAAAcADLXwAAAAAAAIADWP4CAAAAAAAAHMDyFwAAAAAAAOAA\nlr8AAAAAAAAAB7D8BQAAAAAAADiA5S8AAAAAAADAAb7+udrAa15Z1p0lzVxhWFnXXYaNmf04q4vK\n87b2ubXHmb19lmFbe6yvZWnrzLaei/+PvMrWc7a0rNzWPreei+dwAQD+Xfls7N6xPEH9veAVjn/r\nqVj9Sb61uKfcluVv1nBm6fgX/y4vnz+vsLh0/k/ocZ5xLbdmzbQ7jq3X8mNpXTP1zLqwrTP7CD9N\n/PMXAAAAAAAA4ACWvwAAAAAAAAAHsPwFAAAAAAAAOIDlLwAAAAAAAMABLH8BAAAAAAAADmD5CwAA\nAAAAAHAAy18AAAAAAACAA1j+AgAAAAAAABzA8hcAAAAAAADgAF/f9ysNvO8wq4vaW1eYNbO4z611\nhVkzz+mzUs5rZvHMnIsfq89GxfzPsbnFtbUtfZY9hZn9LvOHRnkvtW8ynsH8f678XlzOLH6Vl6nL\n2npm1/5eii9AOv+lM0t7rOe/9Pmz9PGzusdHzKw8r/HAntDntbSumXhmXVTaZ1tXl+afvwAAAAAA\nAAAHsPwFAAAAAAAAOIDlLwAAAAAAAMABLH8BAAAAAAAADmD5CwAAAAAAAHAAy18AAAAAAACAA1j+\nAgAAAAAAABzA8hcAAAAAAADgAP8DTtFvlGjuvYUAAAAASUVORK5CYII=\n\" transform=\"translate(194, 47)\"/>\n</g>\n<defs>\n  <clipPath id=\"clip303\">\n    <rect x=\"2160\" y=\"47\" width=\"73\" height=\"1440\"/>\n  </clipPath>\n</defs>\n<g clip-path=\"url(#clip303)\">\n<image width=\"72\" height=\"1439\" xlink:href=\"data:image/png;base64,\niVBORw0KGgoAAAANSUhEUgAAAEgAAAWfCAYAAAAI7rB3AAAMWUlEQVR4nO3dwY0rRxAFwaZQ/lsh\nL6XfLQtUeSQPERYsEg8c9MyQ+/n3/v0O/+uvb/8Bv06gIFAQKAgU5r5/v/03/DQLCgIFgYJAQaAw\n7/359t/w0ywoCBQECgIFR41gQUGgIFAQKAgU5rmKrSwoCBQECgIFgcK86yq2saAgUBAoCBQcNYIF\nBYGCQEGgIFBwFQsWFAQKAgWBgvtBwYKCQEGgIFAQKMxx1FhZUBAoCBQECgIFN8yCBQWBgkBBoDDH\nDbOVBQWBgkBBoCBQmHP/+fbf8NMsKAgUBAoCBYGCxz7BgoJAQaAgUHDDLFhQECgIFAQKAgVXsWBB\nQaAgUBAouB8ULCgIFAQKAgWBwnwcNVYWFAQKAgWBgkBhzvWfWTYWFAQKAgWBgqNGsKAgUBAoCBQE\nCo4awYKCQEGgIFAQKHjDLFhQECgIFAQK83HUWFlQECgIFAQKAgXvSQcLCgIFgYJAwVEjWFAQKAgU\nBAoCBc/mgwUFgYJAQaAgUHAWCxYUBAoCBYGCo0awoCBQECgIFAQKjhrBgoJAQaAgUBAozLn323/D\nT7OgIFAQKAgUHDWCBQWBgkBBoCBQ8NgnWFAQKAgUBAo+pIMFBYGCQEGgIFCYj6caKwsKAgWBgkBB\noOAsFiwoCBQECgIFL1AFCwoCBYGCQEGg4IZZsKAgUBAoCBTcDwoWFAQKAgWBgkDBDbNgQUGgIFAQ\nKAgUXMWCBQWBgkBBoOB788GCgkBBoCBQECg4agQLCgIFgYJAQaDgKhYsKAgUBAoCBR/SwYKCQEGg\nIFAQKLiKBQsKAgWBgkBhzvMhvbGgIFAQKAgUBAqOGsGCgkBBoCBQECi4igULCgIFgYJAwYd0sKAg\nUBAoCBQECnPu+/bf8NMsKAgUBAoCBYGCs1iwoCBQECgIFBw1ggUFgYJAQaAgUHDUCBYUBAoCBYGC\no0awoCBQECgIFAQKc5w0VhYUBAoCBYGCQGHOcxbbWFAQKAgUBAqOGsGCgkBBoCBQECi4igULCgIF\ngYJAQaAwfohzZ0FBoCBQECg4agQLCgIFgYJAQaDgKhYsKAgUBAoChTn38+2/4adZUBAoCBQECgKF\nec9VbGNBQaAgUBAoCBTcMAsWFAQKAgWBghtmwYKCQEGgIFAQKMy7Gm3UCQIFgYJAwVEjWFAQKAgU\nBAoChTmeza8sKAgUBAoCBYHCPGexlQUFgYJAQaAwx1ONlTpBoCBQECgIFBw1ggUFgYJAQaAgUPDY\nJ1hQECgIFAQKXgMO6gSBgkBBoCBQ8J50sKAgUBAoCBQ81QgWFAQKAgWBgkBh3tNoo04QKAgUBAoC\nBTfMggUFgYJAQaDghlmwoCBQECgIFAQKc9wwW6kTBAoCBYGCQMFZLFhQECgIFAQKPqSDBQWBgkBB\noCBQ8L35YEFBoCBQECj43nxQJwgUBAoCBYHCPEeNlQUFgYJAQaAgUPDYJ1hQECgIFAQK/jNLUCcI\nFAQKAgWBghtmwYKCQEGgIFAQKLhhFiwoCBQECgIFR41gQUGgIFAQKAgUvCcd1AkCBYGCQMFRI1hQ\nECgIFAQKAgVPNYIFBYGCQEGgIFBwFgsWFAQKAgWBgn+fFSwoCBQECgIFgYJ/ZRzUCQIFgYJAQaDg\nhlmwoCBQECgIFDybDxYUBAoCBYGCQMFRI1hQECgIFAQKc31IrywoCBQECgIFgYLvzQd1gkBBoCBQ\nECi4YRYsKAgUBAoCBR/SwYKCQEGgIFAQKHjDLFhQECgIFAQKjhrBgoJAQaAgUBAouIoFCwoCBYGC\nQEGg4NdfgjpBoCBQECjM9VRjZUFBoCBQECgIFNwwCxYUBAoCBYGCQMFVLFhQECgIFAQKPqSDBQWB\ngkBBoCBQ8BtmwYKCQEGgIFBw1AgWFAQKAgWBgkDBVSxYUBAoCBQECgIFX2YJ6gSBgkBBoODLLMGC\ngkBBoCBQECi4YRYsKAgUBAoCBYGCq1iwoCBQECgIFLwGHCwoCBQECgIFgYKjRrCgIFAQKAgU5h0f\n0hsLCgIFgYJAQaDghlmwoCBQECgIFAQKbpgFCwoCBYGCQMFRI1hQECgIFAQKAgVHjWBBQaAgUBAo\nCBScxYIFBYGCQEGg4KgRLCgIFAQKAgWBgqtYsKAgUBAoCBTm+jLLyoKCQEGgIFAQKDhqBAsKAgWB\ngkBBoODZfLCgIFAQKAgU5r1v/wm/zYKCQEGgIFAQKDhqBAsKAgWBgkDBD00GCwoCBYGCQEGg4KgR\nLCgIFAQKAgWBgjfMggUFgYJAQaDgyyzBgoJAQaAgUBAoeMMsWFAQKAgUBAoCBY99ggUFgYJAQaDg\nqUawoCBQECgIFAQKHvsECwoCBYGCQMH9oGBBQaAgUBAoCBQ8mw8WFAQKAgWBgkDBDbNgQUGgIFAQ\nKHg2HywoCBQECgIFgcLcb/8FP86CgkBBoCBQECg4iwULCgIFgYJAwRtmwYKCQEGgIFAQKLhhFiwo\nCBQECgIF94OCBQWBgkBBoCBQcNQIFhQECgIFgYJAwVksWFAQKAgUBAqezQcLCgIFgYJAQaAwfvxl\nZ0FBoCBQECgIFJzFggUFgYJAQaDg2XywoCBQECgIFAQKns0HCwoCBYGCQMFRI1hQECgIFAQKAgVH\njWBBQaAgUBAoCBTmesVsZUFBoCBQECi4YRYsKAgUBAoCBYGCG2bBgoJAQaAgUHDUCBYUBAoCBYGC\nQGGepxorCwoCBYGCQEGgMPe4YbaxoCBQECgIFLxAFSwoCBQECgIFgYIfmgwWFAQKAgWBgkDBD00G\nCwoCBYGCQMGz+WBBQaAgUBAoCBS8Jx0sKAgUBAoCBd84DBYUBAoCBYGCQMFRI1hQECgIFAQKAgXv\nSQcLCgIFgYJAwWvAwYKCQEGgIFAQKDhqBAsKAgWBgkBBoOA96WBBQaAgUBAo+ImuYEFBoCBQECgI\nFNwwCxYUBAoCBYGCZ/PBgoJAQaAgUBAoOGoECwoCBYGCQEGg4CwWLCgIFAQKAgVHjWBBQaAgUBAo\nCBRcxYIFBYGCQEGgIFBwwyxYUBAoCBQECo4awYKCQEGgIFAQKDhqBAsKAgWBgkDBUSNYUBAoCBQE\nCgIFP9EVLCgIFAQKAgWBgv8vFiwoCBQECgIFN8yCBQWBgkBBoCBQmHdcxjYWFAQKAgWBgkDBWSxY\nUBAoCBQECp7NBwsKAgWBgkBBoODZfLCgIFAQKAgU3A8KFhQECgIFgYJAwbP5YEFBoCBQECgIFJzF\nggUFgYJAQaDgJ7qCBQWBgkBBoCBQmOsVs5UFBYGCQEGg4AWqYEFBoCBQECgIFOY5aqwsKAgUBAoC\nBYGCs1iwoCBQECgIFDzVCBYUBAoCBYGCQMEbZsGCgkBBoCBQECjM9ZXMlQUFgYJAQaDghlmwoCBQ\nECgIFAQKfv0lWFAQKAgUBApeoAoWFAQKAgWBgkDBU41gQUGgIFAQKAgU3DALFhQECgIFgcLc45bZ\nxoKCQEGgIFAQKLhhFiwoCBQECgIFgYKrWLCgIFAQKAgUPNUIFhQECgIFgYJAwWOfYEFBoCBQECjM\n/ThqbCwoCBQECgIFgYKjRrCgIFAQKAgUBArzXMVWFhQECgIFgYKjRrCgIFAQKAgUBApzP65iGwsK\nAgWBgkBBoOAsFiwoCBQECgIFTzWCBQWBgkBBoCBQcNQIFhQECgIFgYIP6WBBQaAgUBAoCBQ8mw8W\nFAQKAgWBgkBh3vnz7b/hp1lQECgIFAQKbpgFCwoCBYGCQEGg4A2zYEFBoCBQECjMfe4HbSwoCBQE\nCgIFgYKjRrCgIFAQKAgUBApzPZtfWVAQKAgUBAqOGsGCgkBBoCBQECg4agQLCgIFgYJAQaAw7zmL\nbSwoCBQECgIFN8yCBQWBgkBBoCBQ8J50sKAgUBAoCBQcNYIFBYGCQEGgIFCY56ixsqAgUBAoCBQE\nCs5iwYKCQEGgIFCY6wWqlQUFgYJAQaAgUPCb9sGCgkBBoCBQECj4MkuwoCBQECgIFDzVCBYUBAoC\nBYGCQMFRI1hQECgIFAQKPqSDBQWBgkBBoCBQ8Gw+WFAQKAgUBAoCBWexYEFBoCBQECjM8Wx+ZUFB\noCBQECgIFBw1ggUFgYJAQaAgUPCedLCgIFAQKAgU5jhqrCwoCBQECgIFgYI3zIIFBYGCQEGg4Nl8\nsKAgUBAoCBQECm6YBQsKAgWBgkBBoDDvvG//DT/NgoJAQaAgUHDDLFhQECgIFAQKAoU5jhorCwoC\nBYGCQOE/LrLuTX/wFc8AAAAASUVORK5CYII=\n\" transform=\"translate(2161, 47)\"/>\n</g>\n<path clip-path=\"url(#clip300)\" d=\"M2280.7 1425.25 Q2277.09 1425.25 2275.26 1428.81 Q2273.45 1432.35 2273.45 1439.48 Q2273.45 1446.59 2275.26 1450.15 Q2277.09 1453.7 2280.7 1453.7 Q2284.33 1453.7 2286.14 1450.15 Q2287.97 1446.59 2287.97 1439.48 Q2287.97 1432.35 2286.14 1428.81 Q2284.33 1425.25 2280.7 1425.25 M2280.7 1421.54 Q2286.51 1421.54 2289.57 1426.15 Q2292.64 1430.73 2292.64 1439.48 Q2292.64 1448.21 2289.57 1452.82 Q2286.51 1457.4 2280.7 1457.4 Q2274.89 1457.4 2271.81 1452.82 Q2268.76 1448.21 2268.76 1439.48 Q2268.76 1430.73 2271.81 1426.15 Q2274.89 1421.54 2280.7 1421.54 Z\" fill=\"#000000\" fill-rule=\"evenodd\" fill-opacity=\"1\" /><path clip-path=\"url(#clip300)\" d=\"M2300.86 1450.85 L2305.75 1450.85 L2305.75 1456.73 L2300.86 1456.73 L2300.86 1450.85 Z\" fill=\"#000000\" fill-rule=\"evenodd\" fill-opacity=\"1\" /><path clip-path=\"url(#clip300)\" d=\"M2315.98 1422.17 L2334.33 1422.17 L2334.33 1426.1 L2320.26 1426.1 L2320.26 1434.58 Q2321.28 1434.23 2322.3 1434.07 Q2323.32 1433.88 2324.33 1433.88 Q2330.12 1433.88 2333.5 1437.05 Q2336.88 1440.22 2336.88 1445.64 Q2336.88 1451.22 2333.41 1454.32 Q2329.94 1457.4 2323.62 1457.4 Q2321.44 1457.4 2319.17 1457.03 Q2316.93 1456.66 2314.52 1455.92 L2314.52 1451.22 Q2316.6 1452.35 2318.83 1452.91 Q2321.05 1453.46 2323.52 1453.46 Q2327.53 1453.46 2329.87 1451.36 Q2332.2 1449.25 2332.2 1445.64 Q2332.2 1442.03 2329.87 1439.92 Q2327.53 1437.82 2323.52 1437.82 Q2321.65 1437.82 2319.77 1438.23 Q2317.92 1438.65 2315.98 1439.53 L2315.98 1422.17 Z\" fill=\"#000000\" fill-rule=\"evenodd\" fill-opacity=\"1\" /><path clip-path=\"url(#clip300)\" d=\"M2356.09 1425.25 Q2352.48 1425.25 2350.65 1428.81 Q2348.85 1432.35 2348.85 1439.48 Q2348.85 1446.59 2350.65 1450.15 Q2352.48 1453.7 2356.09 1453.7 Q2359.73 1453.7 2361.53 1450.15 Q2363.36 1446.59 2363.36 1439.48 Q2363.36 1432.35 2361.53 1428.81 Q2359.73 1425.25 2356.09 1425.25 M2356.09 1421.54 Q2361.9 1421.54 2364.96 1426.15 Q2368.04 1430.73 2368.04 1439.48 Q2368.04 1448.21 2364.96 1452.82 Q2361.9 1457.4 2356.09 1457.4 Q2350.28 1457.4 2347.2 1452.82 Q2344.15 1448.21 2344.15 1439.48 Q2344.15 1430.73 2347.2 1426.15 Q2350.28 1421.54 2356.09 1421.54 Z\" fill=\"#000000\" fill-rule=\"evenodd\" fill-opacity=\"1\" /><path clip-path=\"url(#clip300)\" d=\"M2280.7 1267.93 Q2277.09 1267.93 2275.26 1271.5 Q2273.45 1275.04 2273.45 1282.17 Q2273.45 1289.28 2275.26 1292.84 Q2277.09 1296.38 2280.7 1296.38 Q2284.33 1296.38 2286.14 1292.84 Q2287.97 1289.28 2287.97 1282.17 Q2287.97 1275.04 2286.14 1271.5 Q2284.33 1267.93 2280.7 1267.93 M2280.7 1264.23 Q2286.51 1264.23 2289.57 1268.84 Q2292.64 1273.42 2292.64 1282.17 Q2292.64 1290.9 2289.57 1295.5 Q2286.51 1300.09 2280.7 1300.09 Q2274.89 1300.09 2271.81 1295.5 Q2268.76 1290.9 2268.76 1282.17 Q2268.76 1273.42 2271.81 1268.84 Q2274.89 1264.23 2280.7 1264.23 Z\" fill=\"#000000\" fill-rule=\"evenodd\" fill-opacity=\"1\" /><path clip-path=\"url(#clip300)\" d=\"M2300.86 1293.53 L2305.75 1293.53 L2305.75 1299.41 L2300.86 1299.41 L2300.86 1293.53 Z\" fill=\"#000000\" fill-rule=\"evenodd\" fill-opacity=\"1\" /><path clip-path=\"url(#clip300)\" d=\"M2314.75 1264.85 L2336.97 1264.85 L2336.97 1266.84 L2324.43 1299.41 L2319.54 1299.41 L2331.35 1268.79 L2314.75 1268.79 L2314.75 1264.85 Z\" fill=\"#000000\" fill-rule=\"evenodd\" fill-opacity=\"1\" /><path clip-path=\"url(#clip300)\" d=\"M2346.14 1264.85 L2364.5 1264.85 L2364.5 1268.79 L2350.42 1268.79 L2350.42 1277.26 Q2351.44 1276.91 2352.46 1276.75 Q2353.48 1276.57 2354.5 1276.57 Q2360.28 1276.57 2363.66 1279.74 Q2367.04 1282.91 2367.04 1288.33 Q2367.04 1293.9 2363.57 1297.01 Q2360.1 1300.09 2353.78 1300.09 Q2351.6 1300.09 2349.33 1299.72 Q2347.09 1299.34 2344.68 1298.6 L2344.68 1293.9 Q2346.76 1295.04 2348.99 1295.59 Q2351.21 1296.15 2353.69 1296.15 Q2357.69 1296.15 2360.03 1294.04 Q2362.37 1291.94 2362.37 1288.33 Q2362.37 1284.72 2360.03 1282.61 Q2357.69 1280.5 2353.69 1280.5 Q2351.81 1280.5 2349.94 1280.92 Q2348.08 1281.34 2346.14 1282.22 L2346.14 1264.85 Z\" fill=\"#000000\" fill-rule=\"evenodd\" fill-opacity=\"1\" /><path clip-path=\"url(#clip300)\" d=\"M2269.43 1138.16 L2277.07 1138.16 L2277.07 1111.8 L2268.76 1113.47 L2268.76 1109.21 L2277.02 1107.54 L2281.7 1107.54 L2281.7 1138.16 L2289.33 1138.16 L2289.33 1142.1 L2269.43 1142.1 L2269.43 1138.16 Z\" fill=\"#000000\" fill-rule=\"evenodd\" fill-opacity=\"1\" /><path clip-path=\"url(#clip300)\" d=\"M2298.78 1136.22 L2303.66 1136.22 L2303.66 1142.1 L2298.78 1142.1 L2298.78 1136.22 Z\" fill=\"#000000\" fill-rule=\"evenodd\" fill-opacity=\"1\" /><path clip-path=\"url(#clip300)\" d=\"M2323.85 1110.62 Q2320.24 1110.62 2318.41 1114.18 Q2316.6 1117.73 2316.6 1124.85 Q2316.6 1131.96 2318.41 1135.53 Q2320.24 1139.07 2323.85 1139.07 Q2327.48 1139.07 2329.29 1135.53 Q2331.12 1131.96 2331.12 1124.85 Q2331.12 1117.73 2329.29 1114.18 Q2327.48 1110.62 2323.85 1110.62 M2323.85 1106.92 Q2329.66 1106.92 2332.71 1111.52 Q2335.79 1116.1 2335.79 1124.85 Q2335.79 1133.58 2332.71 1138.19 Q2329.66 1142.77 2323.85 1142.77 Q2318.04 1142.77 2314.96 1138.19 Q2311.9 1133.58 2311.9 1124.85 Q2311.9 1116.1 2314.96 1111.52 Q2318.04 1106.92 2323.85 1106.92 Z\" fill=\"#000000\" fill-rule=\"evenodd\" fill-opacity=\"1\" /><path clip-path=\"url(#clip300)\" d=\"M2354.01 1110.62 Q2350.4 1110.62 2348.57 1114.18 Q2346.76 1117.73 2346.76 1124.85 Q2346.76 1131.96 2348.57 1135.53 Q2350.4 1139.07 2354.01 1139.07 Q2357.64 1139.07 2359.45 1135.53 Q2361.28 1131.96 2361.28 1124.85 Q2361.28 1117.73 2359.45 1114.18 Q2357.64 1110.62 2354.01 1110.62 M2354.01 1106.92 Q2359.82 1106.92 2362.88 1111.52 Q2365.95 1116.1 2365.95 1124.85 Q2365.95 1133.58 2362.88 1138.19 Q2359.82 1142.77 2354.01 1142.77 Q2348.2 1142.77 2345.12 1138.19 Q2342.07 1133.58 2342.07 1124.85 Q2342.07 1116.1 2345.12 1111.52 Q2348.2 1106.92 2354.01 1106.92 Z\" fill=\"#000000\" fill-rule=\"evenodd\" fill-opacity=\"1\" /><path clip-path=\"url(#clip300)\" d=\"M2269.43 980.851 L2277.07 980.851 L2277.07 954.485 L2268.76 956.152 L2268.76 951.893 L2277.02 950.226 L2281.7 950.226 L2281.7 980.851 L2289.33 980.851 L2289.33 984.786 L2269.43 984.786 L2269.43 980.851 Z\" fill=\"#000000\" fill-rule=\"evenodd\" fill-opacity=\"1\" /><path clip-path=\"url(#clip300)\" d=\"M2298.78 978.906 L2303.66 978.906 L2303.66 984.786 L2298.78 984.786 L2298.78 978.906 Z\" fill=\"#000000\" fill-rule=\"evenodd\" fill-opacity=\"1\" /><path clip-path=\"url(#clip300)\" d=\"M2317.88 980.851 L2334.2 980.851 L2334.2 984.786 L2312.25 984.786 L2312.25 980.851 Q2314.91 978.096 2319.5 973.467 Q2324.1 968.814 2325.28 967.471 Q2327.53 964.948 2328.41 963.212 Q2329.31 961.453 2329.31 959.763 Q2329.31 957.008 2327.37 955.272 Q2325.45 953.536 2322.34 953.536 Q2320.14 953.536 2317.69 954.3 Q2315.26 955.064 2312.48 956.615 L2312.48 951.893 Q2315.31 950.758 2317.76 950.18 Q2320.21 949.601 2322.25 949.601 Q2327.62 949.601 2330.82 952.286 Q2334.01 954.971 2334.01 959.462 Q2334.01 961.592 2333.2 963.513 Q2332.41 965.411 2330.31 968.004 Q2329.73 968.675 2326.63 971.893 Q2323.52 975.087 2317.88 980.851 Z\" fill=\"#000000\" fill-rule=\"evenodd\" fill-opacity=\"1\" /><path clip-path=\"url(#clip300)\" d=\"M2344.06 950.226 L2362.41 950.226 L2362.41 954.161 L2348.34 954.161 L2348.34 962.633 Q2349.36 962.286 2350.38 962.124 Q2351.39 961.939 2352.41 961.939 Q2358.2 961.939 2361.58 965.11 Q2364.96 968.281 2364.96 973.698 Q2364.96 979.277 2361.49 982.379 Q2358.01 985.457 2351.7 985.457 Q2349.52 985.457 2347.25 985.087 Q2345.01 984.717 2342.6 983.976 L2342.6 979.277 Q2344.68 980.411 2346.9 980.967 Q2349.13 981.522 2351.6 981.522 Q2355.61 981.522 2357.95 979.416 Q2360.28 977.309 2360.28 973.698 Q2360.28 970.087 2357.95 967.981 Q2355.61 965.874 2351.6 965.874 Q2349.73 965.874 2347.85 966.291 Q2346 966.707 2344.06 967.587 L2344.06 950.226 Z\" fill=\"#000000\" fill-rule=\"evenodd\" fill-opacity=\"1\" /><path clip-path=\"url(#clip300)\" d=\"M2269.43 823.537 L2277.07 823.537 L2277.07 797.171 L2268.76 798.838 L2268.76 794.579 L2277.02 792.912 L2281.7 792.912 L2281.7 823.537 L2289.33 823.537 L2289.33 827.472 L2269.43 827.472 L2269.43 823.537 Z\" fill=\"#000000\" fill-rule=\"evenodd\" fill-opacity=\"1\" /><path clip-path=\"url(#clip300)\" d=\"M2298.78 821.592 L2303.66 821.592 L2303.66 827.472 L2298.78 827.472 L2298.78 821.592 Z\" fill=\"#000000\" fill-rule=\"evenodd\" fill-opacity=\"1\" /><path clip-path=\"url(#clip300)\" d=\"M2313.89 792.912 L2332.25 792.912 L2332.25 796.847 L2318.18 796.847 L2318.18 805.319 Q2319.2 804.972 2320.21 804.81 Q2321.23 804.625 2322.25 804.625 Q2328.04 804.625 2331.42 807.796 Q2334.8 810.967 2334.8 816.384 Q2334.8 821.963 2331.33 825.065 Q2327.85 828.143 2321.53 828.143 Q2319.36 828.143 2317.09 827.773 Q2314.84 827.402 2312.44 826.662 L2312.44 821.963 Q2314.52 823.097 2316.74 823.652 Q2318.96 824.208 2321.44 824.208 Q2325.45 824.208 2327.78 822.102 Q2330.12 819.995 2330.12 816.384 Q2330.12 812.773 2327.78 810.666 Q2325.45 808.56 2321.44 808.56 Q2319.57 808.56 2317.69 808.977 Q2315.84 809.393 2313.89 810.273 L2313.89 792.912 Z\" fill=\"#000000\" fill-rule=\"evenodd\" fill-opacity=\"1\" /><path clip-path=\"url(#clip300)\" d=\"M2354.01 795.991 Q2350.4 795.991 2348.57 799.555 Q2346.76 803.097 2346.76 810.227 Q2346.76 817.333 2348.57 820.898 Q2350.4 824.44 2354.01 824.44 Q2357.64 824.44 2359.45 820.898 Q2361.28 817.333 2361.28 810.227 Q2361.28 803.097 2359.45 799.555 Q2357.64 795.991 2354.01 795.991 M2354.01 792.287 Q2359.82 792.287 2362.88 796.893 Q2365.95 801.477 2365.95 810.227 Q2365.95 818.953 2362.88 823.56 Q2359.82 828.143 2354.01 828.143 Q2348.2 828.143 2345.12 823.56 Q2342.07 818.953 2342.07 810.227 Q2342.07 801.477 2345.12 796.893 Q2348.2 792.287 2354.01 792.287 Z\" fill=\"#000000\" fill-rule=\"evenodd\" fill-opacity=\"1\" /><path clip-path=\"url(#clip300)\" d=\"M2269.43 666.223 L2277.07 666.223 L2277.07 639.857 L2268.76 641.524 L2268.76 637.265 L2277.02 635.598 L2281.7 635.598 L2281.7 666.223 L2289.33 666.223 L2289.33 670.158 L2269.43 670.158 L2269.43 666.223 Z\" fill=\"#000000\" fill-rule=\"evenodd\" fill-opacity=\"1\" /><path clip-path=\"url(#clip300)\" d=\"M2298.78 664.278 L2303.66 664.278 L2303.66 670.158 L2298.78 670.158 L2298.78 664.278 Z\" fill=\"#000000\" fill-rule=\"evenodd\" fill-opacity=\"1\" /><path clip-path=\"url(#clip300)\" d=\"M2312.67 635.598 L2334.89 635.598 L2334.89 637.589 L2322.34 670.158 L2317.46 670.158 L2329.26 639.533 L2312.67 639.533 L2312.67 635.598 Z\" fill=\"#000000\" fill-rule=\"evenodd\" fill-opacity=\"1\" /><path clip-path=\"url(#clip300)\" d=\"M2344.06 635.598 L2362.41 635.598 L2362.41 639.533 L2348.34 639.533 L2348.34 648.005 Q2349.36 647.658 2350.38 647.496 Q2351.39 647.311 2352.41 647.311 Q2358.2 647.311 2361.58 650.482 Q2364.96 653.653 2364.96 659.07 Q2364.96 664.649 2361.49 667.75 Q2358.01 670.829 2351.7 670.829 Q2349.52 670.829 2347.25 670.459 Q2345.01 670.088 2342.6 669.348 L2342.6 664.649 Q2344.68 665.783 2346.9 666.338 Q2349.13 666.894 2351.6 666.894 Q2355.61 666.894 2357.95 664.788 Q2360.28 662.681 2360.28 659.07 Q2360.28 655.459 2357.95 653.352 Q2355.61 651.246 2351.6 651.246 Q2349.73 651.246 2347.85 651.663 Q2346 652.079 2344.06 652.959 L2344.06 635.598 Z\" fill=\"#000000\" fill-rule=\"evenodd\" fill-opacity=\"1\" /><path clip-path=\"url(#clip300)\" d=\"M2274.38 508.909 L2290.7 508.909 L2290.7 512.844 L2268.76 512.844 L2268.76 508.909 Q2271.42 506.154 2276 501.524 Q2280.61 496.872 2281.79 495.529 Q2284.03 493.006 2284.91 491.27 Q2285.82 489.511 2285.82 487.821 Q2285.82 485.066 2283.87 483.33 Q2281.95 481.594 2278.85 481.594 Q2276.65 481.594 2274.2 482.358 Q2271.77 483.122 2268.99 484.673 L2268.99 479.95 Q2271.81 478.816 2274.27 478.237 Q2276.72 477.659 2278.76 477.659 Q2284.13 477.659 2287.32 480.344 Q2290.52 483.029 2290.52 487.52 Q2290.52 489.649 2289.7 491.571 Q2288.92 493.469 2286.81 496.061 Q2286.23 496.733 2283.13 499.95 Q2280.03 503.145 2274.38 508.909 Z\" fill=\"#000000\" fill-rule=\"evenodd\" fill-opacity=\"1\" /><path clip-path=\"url(#clip300)\" d=\"M2300.51 506.964 L2305.4 506.964 L2305.4 512.844 L2300.51 512.844 L2300.51 506.964 Z\" fill=\"#000000\" fill-rule=\"evenodd\" fill-opacity=\"1\" /><path clip-path=\"url(#clip300)\" d=\"M2325.58 481.362 Q2321.97 481.362 2320.14 484.927 Q2318.34 488.469 2318.34 495.598 Q2318.34 502.705 2320.14 506.27 Q2321.97 509.811 2325.58 509.811 Q2329.22 509.811 2331.02 506.27 Q2332.85 502.705 2332.85 495.598 Q2332.85 488.469 2331.02 484.927 Q2329.22 481.362 2325.58 481.362 M2325.58 477.659 Q2331.39 477.659 2334.45 482.265 Q2337.53 486.849 2337.53 495.598 Q2337.53 504.325 2334.45 508.932 Q2331.39 513.515 2325.58 513.515 Q2319.77 513.515 2316.7 508.932 Q2313.64 504.325 2313.64 495.598 Q2313.64 486.849 2316.7 482.265 Q2319.77 477.659 2325.58 477.659 Z\" fill=\"#000000\" fill-rule=\"evenodd\" fill-opacity=\"1\" /><path clip-path=\"url(#clip300)\" d=\"M2355.75 481.362 Q2352.14 481.362 2350.31 484.927 Q2348.5 488.469 2348.5 495.598 Q2348.5 502.705 2350.31 506.27 Q2352.14 509.811 2355.75 509.811 Q2359.38 509.811 2361.19 506.27 Q2363.01 502.705 2363.01 495.598 Q2363.01 488.469 2361.19 484.927 Q2359.38 481.362 2355.75 481.362 M2355.75 477.659 Q2361.56 477.659 2364.61 482.265 Q2367.69 486.849 2367.69 495.598 Q2367.69 504.325 2364.61 508.932 Q2361.56 513.515 2355.75 513.515 Q2349.94 513.515 2346.86 508.932 Q2343.8 504.325 2343.8 495.598 Q2343.8 486.849 2346.86 482.265 Q2349.94 477.659 2355.75 477.659 Z\" fill=\"#000000\" fill-rule=\"evenodd\" fill-opacity=\"1\" /><path clip-path=\"url(#clip300)\" d=\"M2274.38 351.595 L2290.7 351.595 L2290.7 355.53 L2268.76 355.53 L2268.76 351.595 Q2271.42 348.84 2276 344.21 Q2280.61 339.558 2281.79 338.215 Q2284.03 335.692 2284.91 333.956 Q2285.82 332.196 2285.82 330.507 Q2285.82 327.752 2283.87 326.016 Q2281.95 324.28 2278.85 324.28 Q2276.65 324.28 2274.2 325.044 Q2271.77 325.808 2268.99 327.359 L2268.99 322.636 Q2271.81 321.502 2274.27 320.923 Q2276.72 320.345 2278.76 320.345 Q2284.13 320.345 2287.32 323.03 Q2290.52 325.715 2290.52 330.206 Q2290.52 332.335 2289.7 334.257 Q2288.92 336.155 2286.81 338.747 Q2286.23 339.419 2283.13 342.636 Q2280.03 345.831 2274.38 351.595 Z\" fill=\"#000000\" fill-rule=\"evenodd\" fill-opacity=\"1\" /><path clip-path=\"url(#clip300)\" d=\"M2300.51 349.65 L2305.4 349.65 L2305.4 355.53 L2300.51 355.53 L2300.51 349.65 Z\" fill=\"#000000\" fill-rule=\"evenodd\" fill-opacity=\"1\" /><path clip-path=\"url(#clip300)\" d=\"M2319.61 351.595 L2335.93 351.595 L2335.93 355.53 L2313.99 355.53 L2313.99 351.595 Q2316.65 348.84 2321.23 344.21 Q2325.84 339.558 2327.02 338.215 Q2329.26 335.692 2330.14 333.956 Q2331.05 332.196 2331.05 330.507 Q2331.05 327.752 2329.1 326.016 Q2327.18 324.28 2324.08 324.28 Q2321.88 324.28 2319.43 325.044 Q2317 325.808 2314.22 327.359 L2314.22 322.636 Q2317.04 321.502 2319.5 320.923 Q2321.95 320.345 2323.99 320.345 Q2329.36 320.345 2332.55 323.03 Q2335.75 325.715 2335.75 330.206 Q2335.75 332.335 2334.94 334.257 Q2334.15 336.155 2332.04 338.747 Q2331.46 339.419 2328.36 342.636 Q2325.26 345.831 2319.61 351.595 Z\" fill=\"#000000\" fill-rule=\"evenodd\" fill-opacity=\"1\" /><path clip-path=\"url(#clip300)\" d=\"M2345.79 320.97 L2364.15 320.97 L2364.15 324.905 L2350.07 324.905 L2350.07 333.377 Q2351.09 333.03 2352.11 332.868 Q2353.13 332.683 2354.15 332.683 Q2359.94 332.683 2363.32 335.854 Q2366.7 339.025 2366.7 344.442 Q2366.7 350.02 2363.22 353.122 Q2359.75 356.201 2353.43 356.201 Q2351.26 356.201 2348.99 355.831 Q2346.74 355.46 2344.33 354.72 L2344.33 350.02 Q2346.42 351.155 2348.64 351.71 Q2350.86 352.266 2353.34 352.266 Q2357.34 352.266 2359.68 350.159 Q2362.02 348.053 2362.02 344.442 Q2362.02 340.831 2359.68 338.724 Q2357.34 336.618 2353.34 336.618 Q2351.46 336.618 2349.59 337.034 Q2347.74 337.451 2345.79 338.331 L2345.79 320.97 Z\" fill=\"#000000\" fill-rule=\"evenodd\" fill-opacity=\"1\" /><path clip-path=\"url(#clip300)\" d=\"M2274.38 194.28 L2290.7 194.28 L2290.7 198.216 L2268.76 198.216 L2268.76 194.28 Q2271.42 191.526 2276 186.896 Q2280.61 182.244 2281.79 180.901 Q2284.03 178.378 2284.91 176.642 Q2285.82 174.882 2285.82 173.193 Q2285.82 170.438 2283.87 168.702 Q2281.95 166.966 2278.85 166.966 Q2276.65 166.966 2274.2 167.73 Q2271.77 168.494 2268.99 170.044 L2268.99 165.322 Q2271.81 164.188 2274.27 163.609 Q2276.72 163.031 2278.76 163.031 Q2284.13 163.031 2287.32 165.716 Q2290.52 168.401 2290.52 172.892 Q2290.52 175.021 2289.7 176.943 Q2288.92 178.841 2286.81 181.433 Q2286.23 182.105 2283.13 185.322 Q2280.03 188.517 2274.38 194.28 Z\" fill=\"#000000\" fill-rule=\"evenodd\" fill-opacity=\"1\" /><path clip-path=\"url(#clip300)\" d=\"M2300.51 192.336 L2305.4 192.336 L2305.4 198.216 L2300.51 198.216 L2300.51 192.336 Z\" fill=\"#000000\" fill-rule=\"evenodd\" fill-opacity=\"1\" /><path clip-path=\"url(#clip300)\" d=\"M2315.63 163.656 L2333.99 163.656 L2333.99 167.591 L2319.91 167.591 L2319.91 176.063 Q2320.93 175.716 2321.95 175.554 Q2322.97 175.369 2323.99 175.369 Q2329.77 175.369 2333.15 178.54 Q2336.53 181.711 2336.53 187.128 Q2336.53 192.706 2333.06 195.808 Q2329.59 198.887 2323.27 198.887 Q2321.09 198.887 2318.83 198.517 Q2316.58 198.146 2314.17 197.405 L2314.17 192.706 Q2316.26 193.841 2318.48 194.396 Q2320.7 194.952 2323.18 194.952 Q2327.18 194.952 2329.52 192.845 Q2331.86 190.739 2331.86 187.128 Q2331.86 183.517 2329.52 181.41 Q2327.18 179.304 2323.18 179.304 Q2321.3 179.304 2319.43 179.72 Q2317.58 180.137 2315.63 181.017 L2315.63 163.656 Z\" fill=\"#000000\" fill-rule=\"evenodd\" fill-opacity=\"1\" /><path clip-path=\"url(#clip300)\" d=\"M2355.75 166.734 Q2352.14 166.734 2350.31 170.299 Q2348.5 173.841 2348.5 180.97 Q2348.5 188.077 2350.31 191.642 Q2352.14 195.183 2355.75 195.183 Q2359.38 195.183 2361.19 191.642 Q2363.01 188.077 2363.01 180.97 Q2363.01 173.841 2361.19 170.299 Q2359.38 166.734 2355.75 166.734 M2355.75 163.031 Q2361.56 163.031 2364.61 167.637 Q2367.69 172.22 2367.69 180.97 Q2367.69 189.697 2364.61 194.304 Q2361.56 198.887 2355.75 198.887 Q2349.94 198.887 2346.86 194.304 Q2343.8 189.697 2343.8 180.97 Q2343.8 172.22 2346.86 167.637 Q2349.94 163.031 2355.75 163.031 Z\" fill=\"#000000\" fill-rule=\"evenodd\" fill-opacity=\"1\" /><polyline clip-path=\"url(#clip300)\" style=\"stroke:#000000; stroke-linecap:round; stroke-linejoin:round; stroke-width:4; stroke-opacity:1; fill:none\" points=\"\n  2232.76,1486.45 2232.76,1443.08 2256.76,1443.08 2232.76,1443.08 2232.76,1285.76 2256.76,1285.76 2232.76,1285.76 2232.76,1128.45 2256.76,1128.45 2232.76,1128.45 \n  2232.76,971.135 2256.76,971.135 2232.76,971.135 2232.76,813.821 2256.76,813.821 2232.76,813.821 2232.76,656.507 2256.76,656.507 2232.76,656.507 2232.76,499.193 \n  2256.76,499.193 2232.76,499.193 2232.76,341.879 2256.76,341.879 2232.76,341.879 2232.76,184.564 2256.76,184.564 2232.76,184.564 2232.76,47.2441 \n  \"/>\n</svg>\n"
     },
     "execution_count": 125,
     "metadata": {},
     "output_type": "execute_result"
    }
   ],
   "source": [
    "f = (x,y) -> exp(-x^2*sin(2y-1))\n",
    "\n",
    "m,n = 150,100\n",
    "x = range(-1, 1; length=n)\n",
    "y = range(-1, 1; length=m)\n",
    "\n",
    "F = f.(x', y) # equivalent to [f(x[j],y[k]) for k=1:m, j=1:n]\n",
    "\n",
    "heatmap(x, y, F)"
   ]
  },
  {
   "cell_type": "markdown",
   "metadata": {},
   "source": [
    "SVD"
   ]
  },
  {
   "cell_type": "code",
   "execution_count": 130,
   "metadata": {},
   "outputs": [
    {
     "data": {
      "text/plain": [
       "10×10 Matrix{Float64}:\n",
       " -0.0712056   0.797756    0.115966  …  -0.530861   0.46814     0.28357\n",
       " -0.582553    2.37937    -0.178594     -1.1806     0.234836   -0.711063\n",
       " -0.231056   -1.021      -0.133563     -2.09317   -1.16066    -1.86247\n",
       " -0.227443   -0.287712    1.43815      -1.43276   -0.0644843  -1.02809\n",
       "  0.12598    -0.510057    0.385287     -0.159274  -0.583543   -0.829265\n",
       "  0.472179   -0.234991    0.173996  …  -1.05017    0.365642    0.568659\n",
       "  0.605774   -0.237416    3.16313      -0.79386   -0.769143   -2.19538\n",
       " -0.296136    0.21287     0.582238     -0.926448   0.366302   -0.116452\n",
       " -0.622077    1.75389    -0.492989     -0.589347  -0.027709   -0.70996\n",
       "  0.618579    0.0481338   1.17013       0.225409   0.601271    0.72897"
      ]
     },
     "execution_count": 130,
     "metadata": {},
     "output_type": "execute_result"
    }
   ],
   "source": [
    "A = randn(10,10)\n",
    "\n",
    "svdvals(A) #Return singular values\n",
    "\n",
    "#SVD Compression at rank k\n",
    "k = 5\n",
    "u,s,v = svd(A)\n",
    "u[:,1:k] * Diagonal(s)[1:k,1:k] * v[:,1:k]'\n"
   ]
  },
  {
   "cell_type": "code",
   "execution_count": 132,
   "metadata": {},
   "outputs": [
    {
     "data": {
      "text/plain": [
       "1648.1395849749797"
      ]
     },
     "execution_count": 132,
     "metadata": {},
     "output_type": "execute_result"
    }
   ],
   "source": [
    "cond(A, 2) #Condition Number of A at p-norm"
   ]
  }
 ],
 "metadata": {
  "kernelspec": {
   "display_name": "Julia 1.8.5",
   "language": "julia",
   "name": "julia-1.8"
  },
  "language_info": {
   "file_extension": ".jl",
   "mimetype": "application/julia",
   "name": "julia",
   "version": "1.8.5"
  }
 },
 "nbformat": 4,
 "nbformat_minor": 2
}
